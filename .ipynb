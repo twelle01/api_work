{
 "cells": [
  {
   "cell_type": "code",
   "execution_count": 12,
   "metadata": {},
   "outputs": [
    {
     "data": {
      "text/plain": [
       "'{\\n  \"id\": \"<20190623215856.1.E4F312C6CC1928D4@sandboxbd446712cccb4a339bc6b379efb2b0d8.mailgun.org>\",\\n  \"message\": \"Queued. Thank you.\"\\n}'"
      ]
     },
     "execution_count": 12,
     "metadata": {},
     "output_type": "execute_result"
    }
   ],
   "source": [
    "import requests\n",
    "import os\n",
    "from dotenv import load_dotenv\n",
    "load_dotenv()\n",
    "import datetime\n",
    "\n",
    "API_KEY = os.getenv(\"DARKSKY_API_KEY\")\n",
    "MG_API_KEY = os.getenv(\"MAILGUN_API_KEY\")\n",
    "\n",
    "NY = (\"40,-78\") #NYC\n",
    "response = requests.get(f'https://api.darksky.net/forecast/{API_KEY}/{NY}?units=si')\n",
    "sky_ny = response.json()\n",
    "\n",
    "right_now = datetime.datetime.now()\n",
    "date_string = right_now.strftime(\"%B %d, %Y\")\n",
    "\n",
    "warm = 19\n",
    "current = sky_ny['currently']\n",
    "daily = sky_ny['daily']['data'][0]\n",
    "\n",
    "if current['apparentTemperature'] > warm:\n",
    "    text_i = (f'Right now it is {current[\"temperature\"]} degrees out and {current[\"summary\"]}. Today it will be warm with a high of {daily[\"temperatureHigh\"]} and a low of {daily[\"temperatureMin\"]}')\n",
    "else:\n",
    "    text_i = (f'Right now it is {current[\"temperature\"]} degrees out and {current[\"summary\"]}. Today it will be cold with a high of {daily[\"temperatureHigh\"]} and a low of {daily[\"temperatureMin\"]}')\n",
    "\n",
    "response = requests.post(\n",
    "    \"https://api.mailgun.net/v3/sandboxbd446712cccb4a339bc6b379efb2b0d8.mailgun.org/messages\",\n",
    "    auth=(\"api\", MG_API_KEY),\n",
    "    data={\"from\": \"Excited User <mailgun@andboxbd446712cccb4a339bc6b379efb2b0d8.mailgun.org>\",\n",
    "          \"to\": [\"mht2140@columbia.edu\"],\n",
    "          \"subject\": \"8 AM Weather forecast:\"+ date_string,\n",
    "          \"text\": text_i })\n",
    "\n",
    "\n",
    "response.text"
   ]
  }
 ],
 "metadata": {
  "kernelspec": {
   "display_name": "Python 3",
   "language": "python",
   "name": "python3"
  },
  "language_info": {
   "codemirror_mode": {
    "name": "ipython",
    "version": 3
   },
   "file_extension": ".py",
   "mimetype": "text/x-python",
   "name": "python",
   "nbconvert_exporter": "python",
   "pygments_lexer": "ipython3",
   "version": "3.7.3"
  }
 },
 "nbformat": 4,
 "nbformat_minor": 2
}
