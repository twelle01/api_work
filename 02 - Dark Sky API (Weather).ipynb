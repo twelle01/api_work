{
 "cells": [
  {
   "cell_type": "markdown",
   "metadata": {},
   "source": [
    "# Dark Sky API (Weather)\n",
    "\n",
    "Answer the following questions using the [Dark Sky API](https://darksky.net/dev/). I've added three cells for each question but you're free to use more or less! Hold `Shift` and hit `Enter` to run a cell, and use the `+` on the top left to add a new cell to a notebook.\n",
    "\n",
    "If you spend some time reading the documentation your life will probably be a little bit easier!\n",
    "\n",
    "## 0) Import any libraries you might need\n",
    "\n",
    "- *Tip: We're going to be downloading things from the internet, so we probably need `requests`.*"
   ]
  },
  {
   "cell_type": "code",
   "execution_count": 1,
   "metadata": {},
   "outputs": [],
   "source": [
    "from dotenv import load_dotenv\n",
    "load_dotenv()\n",
    "\n",
    "import os\n",
    "\n",
    "API_KEY = os.getenv(\"DARKSKY_API_KEY\")"
   ]
  },
  {
   "cell_type": "code",
   "execution_count": 2,
   "metadata": {},
   "outputs": [],
   "source": [
    "import requests\n",
    "#Forecast: https://api.darksky.net/forecast/[key]/[latitude],[longitude]\n",
    "\n",
    "#Locations\n",
    "NYC = (\"40,-78\") #New York City\n",
    "MN = (\"49.485172,8.475059\") #Mannheim\n",
    "MI = (\"25.774156,-80.193606\") #Miami\n",
    "\n",
    "#San Francisco\n",
    "response = requests.get(f'https://api.darksky.net/forecast/{API_KEY}/{NYC}?units=si')\n",
    "sky_nyc = response.json()\n",
    "\n",
    "#Mannheim\n",
    "response = requests.get(f'https://api.darksky.net/forecast/{API_KEY}/{MN}?units=si')\n",
    "sky_mn = response.json()\n",
    "\n",
    "#Miami\n",
    "response = requests.get(f'https://api.darksky.net/forecast/{API_KEY}/{MI}?units=si')\n",
    "sky_mi = response.json()\n",
    "\n",
    "#Time Machine: https://api.darksky.net/forecast/[key]/[latitude],[longitude],[time]\n",
    "\n",
    "#Locations / Time \n",
    "NYC_CP_TM12 = (\"40.782420,-73.965600,1356350400\") #New York City 12/24/12/12:00:00\n",
    "NYC_CP_TM07 = (\"40.782420,-73.965600,1198497600\") #New York City 12/24/07/12:00:00\n",
    "NYC_CP_TM05 = (\"40.782420,-73.965600,1135425600\") #New York City 12/24/05/12:00:00\n",
    "NYC_CP_TM37 = (\"40.782420,-73.965600,-1010491200\") #New York City 12/24/37/12:00:00-first christmas recorded)\n",
    "\n",
    "response = requests.get(f'https://api.darksky.net/forecast/{API_KEY}/{NYC_CP_TM12}?units=si')\n",
    "sky_nyc_tm12 = response.json()\n",
    "response = requests.get(f'https://api.darksky.net/forecast/{API_KEY}/{NYC_CP_TM07}?units=si')\n",
    "sky_nyc_tm07 = response.json()\n",
    "response = requests.get(f'https://api.darksky.net/forecast/{API_KEY}/{NYC_CP_TM05}?units=si')\n",
    "sky_nyc_tm05 = response.json()\n",
    "response = requests.get(f'https://api.darksky.net/forecast/{API_KEY}/{NYC_CP_TM37}?units=si')\n",
    "sky_nyc_tm37 = response.json()\n"
   ]
  },
  {
   "cell_type": "code",
   "execution_count": 3,
   "metadata": {},
   "outputs": [
    {
     "name": "stdout",
     "output_type": "stream",
     "text": [
      "dict_keys(['latitude', 'longitude', 'timezone', 'currently', 'minutely', 'hourly', 'daily', 'flags', 'offset'])\n",
      "--------------------------------\n",
      "dict_keys(['time', 'summary', 'icon', 'nearestStormDistance', 'nearestStormBearing', 'precipIntensity', 'precipProbability', 'temperature', 'apparentTemperature', 'dewPoint', 'humidity', 'pressure', 'windSpeed', 'windGust', 'windBearing', 'cloudCover', 'uvIndex', 'visibility', 'ozone'])\n"
     ]
    }
   ],
   "source": [
    "print(sky_nyc.keys())\n",
    "print(\"--------------------------------\")\n",
    "print(sky_nyc[\"currently\"].keys())"
   ]
  },
  {
   "cell_type": "markdown",
   "metadata": {
    "collapsed": true
   },
   "source": [
    "## 1) Make a request from the Dark Sky API for where you were born (or lived, or want to visit!).\n",
    "\n",
    "- *Tip: The URL we used in class was for a place near San Francisco. What was the format of the endpoint that made this happen?*\n",
    "- *Tip: Save the URL as a separate variable, and be sure to not have `[` and `]` inside.*\n",
    "- *Tip: How is north vs. south and east vs. west latitude/longitude represented? Is it the normal North/South/East/West?*\n",
    "- *Tip: You know it's JSON, but Python doesn't! Make sure you aren't trying to deal with plain text.* \n",
    "- *Tip: Once you've imported the JSON into a variable, check the timezone's name to make sure it seems like it got the right part of the world!*"
   ]
  },
  {
   "cell_type": "code",
   "execution_count": 4,
   "metadata": {},
   "outputs": [
    {
     "name": "stdout",
     "output_type": "stream",
     "text": [
      "Europe/Berlin\n"
     ]
    }
   ],
   "source": [
    "print(sky_mn[\"timezone\"])"
   ]
  },
  {
   "cell_type": "code",
   "execution_count": null,
   "metadata": {
    "collapsed": true
   },
   "outputs": [],
   "source": []
  },
  {
   "cell_type": "code",
   "execution_count": null,
   "metadata": {
    "collapsed": true
   },
   "outputs": [],
   "source": []
  },
  {
   "cell_type": "markdown",
   "metadata": {},
   "source": [
    "## 2) What's the current wind speed? How much warmer does it feel than it actually is?\n",
    "\n",
    "- *Tip: You can do this by browsing through the dictionaries, but it might be easier to read the documentation*\n",
    "- *Tip: For the second half: it **is** one temperature, and it **feels** a different temperature. Calculate the difference.*"
   ]
  },
  {
   "cell_type": "code",
   "execution_count": 5,
   "metadata": {},
   "outputs": [
    {
     "name": "stdout",
     "output_type": "stream",
     "text": [
      "The Wind speed is currently 5.71 miles per hour\n",
      "It currently feels 0.0 colder than it actually is.\n"
     ]
    }
   ],
   "source": [
    "mn_current = sky_mn[\"currently\"]\n",
    "\n",
    "print(\"The Wind speed is currently\", mn_current[\"windSpeed\"], \"miles per hour\")\n",
    "\n",
    "if mn_current[\"temperature\"] < mn_current[\"apparentTemperature\"]:\n",
    "    print(\"It currently feels\", mn_current[\"apparentTemperature\"] - mn_current[\"temperature\"], \"warmer than it actually is.\")\n",
    "else: \n",
    "    print(\"It currently feels\", mn_current[\"apparentTemperature\"] - mn_current[\"temperature\"], \"colder than it actually is.\")"
   ]
  },
  {
   "cell_type": "code",
   "execution_count": null,
   "metadata": {
    "collapsed": true
   },
   "outputs": [],
   "source": []
  },
  {
   "cell_type": "code",
   "execution_count": null,
   "metadata": {
    "collapsed": true
   },
   "outputs": [],
   "source": []
  },
  {
   "cell_type": "markdown",
   "metadata": {},
   "source": [
    "## 3) Today's forecast is the FIRST daily forecast. For the place you decided on above, how much of the moon is currently visible?\n",
    "\n",
    "- *Tip: This does **not** use the `currently` key.*\n",
    "- *Tip: It might be helpful to save the forecast into its own variable*"
   ]
  },
  {
   "cell_type": "code",
   "execution_count": 6,
   "metadata": {},
   "outputs": [
    {
     "name": "stdout",
     "output_type": "stream",
     "text": [
      "The moon lunation is currently 0.14\n"
     ]
    }
   ],
   "source": [
    "sky_mn_dailydata = sky_mn[\"daily\"][\"data\"]\n",
    "\n",
    "print(\"The moon lunation is currently\", sky_mn_dailydata[0][\"moonPhase\"])"
   ]
  },
  {
   "cell_type": "code",
   "execution_count": null,
   "metadata": {
    "collapsed": true
   },
   "outputs": [],
   "source": []
  },
  {
   "cell_type": "code",
   "execution_count": null,
   "metadata": {
    "collapsed": true
   },
   "outputs": [],
   "source": []
  },
  {
   "cell_type": "markdown",
   "metadata": {},
   "source": [
    "## 4) What's the difference between the high and low temperatures for today?"
   ]
  },
  {
   "cell_type": "code",
   "execution_count": 7,
   "metadata": {},
   "outputs": [
    {
     "name": "stdout",
     "output_type": "stream",
     "text": [
      "The difference is 15 degrees between the expected highest and lowes temperature\n"
     ]
    }
   ],
   "source": [
    "print(\"The difference is\", round(sky_mn_dailydata[0][\"temperatureHigh\"] - sky_mn_dailydata[0][\"temperatureLow\"]), \"degrees between the expected highest and lowes temperature\")"
   ]
  },
  {
   "cell_type": "code",
   "execution_count": null,
   "metadata": {
    "collapsed": true
   },
   "outputs": [],
   "source": []
  },
  {
   "cell_type": "code",
   "execution_count": null,
   "metadata": {
    "collapsed": true
   },
   "outputs": [],
   "source": []
  },
  {
   "cell_type": "markdown",
   "metadata": {},
   "source": [
    "## 5) Go through the daily forecasts, printing out the next week's worth of predictions.\n",
    "\n",
    "I'd like to know the **high temperature** for each day, and whether it's **hot, warm, or cold** (based on what temperatures you think are hot, warm or cold).\n",
    "\n",
    "- *Tip: Is it returning F or C? You can change them by adding `?units=us` or `?units=si` onto the end of the URL.*\n",
    "- *Tip: You'll need to use an `if` statement to say whether it is hot, warm or cold.*"
   ]
  },
  {
   "cell_type": "code",
   "execution_count": 8,
   "metadata": {},
   "outputs": [
    {
     "name": "stdout",
     "output_type": "stream",
     "text": [
      "1 day(s) from now the temperature in Mannheim is rather warm. It should be 27.82 degrees\n",
      "2 day(s) from now the temperature in Mannheim is rather warm. It should be 22.17 degrees\n",
      "3 day(s) from now the temperature in Mannheim is rather warm. It should be 25.39 degrees\n",
      "4 day(s) from now the temperature in Mannheim is rather cold. It should be 20.82 degrees\n",
      "5 day(s) from now the temperature in Mannheim is rather cold. It should be 17.69 degrees\n",
      "6 day(s) from now the temperature in Mannheim is rather cold. It should be 18.07 degrees\n",
      "7 day(s) from now the temperature in Mannheim is rather warm. It should be 23.26 degrees\n",
      "8 day(s) from now the temperature in Mannheim is rather warm. It should be 25.23 degrees\n"
     ]
    }
   ],
   "source": [
    "warm = 22\n",
    "d = 0\n",
    "\n",
    "for sky_mn_dailydata_el in sky_mn_dailydata:\n",
    "    if sky_mn_dailydata_el[\"temperatureHigh\"] > warm:\n",
    "        d = d + 1\n",
    "        print(d, \"day(s) from now the temperature in Mannheim is rather warm. It should be\", sky_mn_dailydata_el[\"temperatureHigh\"], \"degrees\")\n",
    "    else:\n",
    "        d = d + 1\n",
    "        print(d, \"day(s) from now the temperature in Mannheim is rather cold. It should be\", sky_mn_dailydata_el[\"temperatureHigh\"], \"degrees\")\n",
    "\n",
    "\n"
   ]
  },
  {
   "cell_type": "code",
   "execution_count": null,
   "metadata": {},
   "outputs": [],
   "source": []
  },
  {
   "cell_type": "code",
   "execution_count": null,
   "metadata": {
    "collapsed": true
   },
   "outputs": [],
   "source": []
  },
  {
   "cell_type": "markdown",
   "metadata": {},
   "source": [
    "# 6) What will be the hottest day in the next week? What is the high temperature on that day?\n",
    "\n",
    "It's okay if your result looks like `1453363200`. If you want to be extra-fancy, though, format it as a **real date** - the weird number is called a **UNIX timestamp**, which might help in googling.\n",
    "\n",
    "- *Tip: It's okay to skip this if it seems too difficult!*"
   ]
  },
  {
   "cell_type": "code",
   "execution_count": 9,
   "metadata": {},
   "outputs": [
    {
     "name": "stdout",
     "output_type": "stream",
     "text": [
      "1559858400 has the highest temperature with approx. 27.82 degrees\n"
     ]
    }
   ],
   "source": [
    "high_temp = 0\n",
    "\n",
    "for sky_mn_dailydata_el in sky_mn_dailydata:\n",
    "    if sky_mn_dailydata_el[\"temperatureHigh\"] > high_temp:\n",
    "        high_temp = high_temp + sky_mn_dailydata_el[\"temperatureHigh\"]\n",
    "        print(sky_mn_dailydata_el[\"time\"], \"has the highest temperature with approx.\", sky_mn_dailydata_el[\"temperatureHigh\"], \"degrees\")\n",
    "    else:\n",
    "        pass"
   ]
  },
  {
   "cell_type": "code",
   "execution_count": null,
   "metadata": {},
   "outputs": [],
   "source": []
  },
  {
   "cell_type": "code",
   "execution_count": null,
   "metadata": {
    "collapsed": true
   },
   "outputs": [],
   "source": []
  },
  {
   "cell_type": "markdown",
   "metadata": {},
   "source": [
    "## 7) What's the weather looking like for the next 24+ hours in Miami, Florida?\n",
    "\n",
    "I'd like to know the temperature for every hour, and if it's going to have cloud cover of more than 50% say \"{temperature} and cloudy\" instead of just the temperature. \n",
    "\n",
    "\n",
    "- *Tip: Be sure to remember how latitude and longitude are done with positive and negative numbers*\n",
    "- *Tip: How do you represent \"50%\" for cloud cover?*"
   ]
  },
  {
   "cell_type": "code",
   "execution_count": 10,
   "metadata": {},
   "outputs": [],
   "source": [
    "sky_mi_hourlydata = sky_mi[\"hourly\"][\"data\"]"
   ]
  },
  {
   "cell_type": "code",
   "execution_count": 11,
   "metadata": {},
   "outputs": [
    {
     "name": "stdout",
     "output_type": "stream",
     "text": [
      "32.99 degrees and cloudy\n",
      "32.62 degrees and cloudy\n",
      "31.1 degrees and cloudy\n",
      "30.94 degrees and cloudy\n",
      "30.17 degrees and cloudy\n",
      "29.53 degrees and cloudy\n",
      "29.19 degrees and cloudy\n",
      "28.44 degrees and not so cloudy\n",
      "28.16 degrees and not so cloudy\n",
      "27.91 degrees and cloudy\n",
      "27.47 degrees and cloudy\n",
      "27.14 degrees and cloudy\n",
      "26.17 degrees and cloudy\n",
      "25.16 degrees and cloudy\n",
      "25.1 degrees and cloudy\n",
      "25.26 degrees and cloudy\n",
      "25.45 degrees and cloudy\n",
      "25.78 degrees and cloudy\n",
      "26.64 degrees and cloudy\n",
      "27.92 degrees and cloudy\n",
      "29.16 degrees and not so cloudy\n",
      "30.24 degrees and not so cloudy\n",
      "30.92 degrees and not so cloudy\n",
      "32.36 degrees and cloudy\n",
      "33.16 degrees and cloudy\n",
      "32.91 degrees and cloudy\n",
      "32.27 degrees and cloudy\n",
      "31.66 degrees and cloudy\n",
      "30.87 degrees and cloudy\n",
      "30.2 degrees and cloudy\n",
      "29.78 degrees and cloudy\n",
      "29.15 degrees and cloudy\n",
      "28.76 degrees and cloudy\n",
      "28.42 degrees and cloudy\n",
      "28.06 degrees and cloudy\n",
      "27.76 degrees and cloudy\n",
      "26.7 degrees and cloudy\n",
      "25.49 degrees and cloudy\n",
      "25.11 degrees and cloudy\n",
      "25.03 degrees and cloudy\n",
      "25.22 degrees and cloudy\n",
      "25.58 degrees and not so cloudy\n",
      "26.47 degrees and not so cloudy\n",
      "27.79 degrees and not so cloudy\n",
      "28.84 degrees and not so cloudy\n",
      "29.71 degrees and not so cloudy\n",
      "30.38 degrees and not so cloudy\n",
      "31.97 degrees and not so cloudy\n",
      "32.94 degrees and not so cloudy\n"
     ]
    }
   ],
   "source": [
    "for sky_mi_hourlydata_el in sky_mi_hourlydata:\n",
    "    if sky_mi_hourlydata_el[\"cloudCover\"] > 0.5:\n",
    "        print(f'{sky_mi_hourlydata_el[\"temperature\"]} degrees and cloudy')\n",
    "    else:\n",
    "        print(f'{sky_mi_hourlydata_el[\"temperature\"]} degrees and not so cloudy')"
   ]
  },
  {
   "cell_type": "code",
   "execution_count": null,
   "metadata": {
    "collapsed": true
   },
   "outputs": [],
   "source": []
  },
  {
   "cell_type": "markdown",
   "metadata": {},
   "source": [
    "# 8) For the next 24-ish hours in Miami, what percent of the time is the temperature above 85 degrees?\n",
    "\n",
    "If they give you 48 hours instead of 24, that's okay.\n",
    "\n",
    "- *Tip: You might want to read up on [looping patterns](http://jonathansoma.com/lede/foundations-2017/classes/data%20structures/looping-patterns/)*"
   ]
  },
  {
   "cell_type": "code",
   "execution_count": 12,
   "metadata": {},
   "outputs": [
    {
     "name": "stdout",
     "output_type": "stream",
     "text": [
      "34.69 % of the next 49 hours will be cloudy in Miami\n"
     ]
    }
   ],
   "source": [
    "#85 F = 30 C\n",
    "\n",
    "hrs_count = 0\n",
    "total_count = 0\n",
    "\n",
    "for sky_mi_hourlydata_el in sky_mi_hourlydata:\n",
    "    total_count = total_count + 1\n",
    "    if sky_mi_hourlydata_el[\"temperature\"] > 30:\n",
    "        hrs_count = hrs_count + 1\n",
    "    else:\n",
    "        pass\n",
    "print(round((hrs_count / total_count)*100,2), \"% of the next\", total_count, \"hours will be cloudy in Miami\")"
   ]
  },
  {
   "cell_type": "code",
   "execution_count": null,
   "metadata": {
    "collapsed": true
   },
   "outputs": [],
   "source": []
  },
  {
   "cell_type": "code",
   "execution_count": null,
   "metadata": {
    "collapsed": true
   },
   "outputs": [],
   "source": []
  },
  {
   "cell_type": "markdown",
   "metadata": {},
   "source": [
    "## 9) What was the temperature in Central Park on Christmas Day, 2012? How about 2007? 2005? How far back does the API allow you to go?\n",
    "\n",
    "- *Tip: You'll need to use UNIX time, which is the number of seconds since January 1, 1970. Google can help you convert a normal date!*\n",
    "- *Tip: You'll want to use Forecast.io's \"time machine\" API, [documentation here](https://darksky.net/dev/docs/time-machine)*"
   ]
  },
  {
   "cell_type": "code",
   "execution_count": 13,
   "metadata": {},
   "outputs": [
    {
     "name": "stdout",
     "output_type": "stream",
     "text": [
      "On Christmas Day in 2012 it was -1.04 degrees in Central Park\n",
      "On Christmas Day in 2007 it was 2.8 degrees in Central Park\n",
      "On Christmas Day in 2005 it was 2.62 degrees in Central Park\n",
      "The first Christmas Day available in the Dark Sky Database is from 1937. It was -2.56 degrees in Central Park\n"
     ]
    }
   ],
   "source": [
    "print(\"On Christmas Day in 2012 it was\", sky_nyc_tm12[\"currently\"][\"temperature\"], \"degrees in Central Park\")\n",
    "print(\"On Christmas Day in 2007 it was\", sky_nyc_tm07[\"currently\"][\"temperature\"], \"degrees in Central Park\")\n",
    "print(\"On Christmas Day in 2005 it was\", sky_nyc_tm05[\"currently\"][\"temperature\"], \"degrees in Central Park\")\n",
    "print(\"The first Christmas Day available in the Dark Sky Database is from 1937. It was\", sky_nyc_tm37[\"currently\"][\"temperature\"], \"degrees in Central Park\")"
   ]
  },
  {
   "cell_type": "code",
   "execution_count": null,
   "metadata": {
    "collapsed": true
   },
   "outputs": [],
   "source": []
  },
  {
   "cell_type": "code",
   "execution_count": null,
   "metadata": {
    "collapsed": true
   },
   "outputs": [],
   "source": []
  }
 ],
 "metadata": {
  "kernelspec": {
   "display_name": "Python 3",
   "language": "python",
   "name": "python3"
  },
  "language_info": {
   "codemirror_mode": {
    "name": "ipython",
    "version": 3
   },
   "file_extension": ".py",
   "mimetype": "text/x-python",
   "name": "python",
   "nbconvert_exporter": "python",
   "pygments_lexer": "ipython3",
   "version": "3.7.3"
  }
 },
 "nbformat": 4,
 "nbformat_minor": 1
}
