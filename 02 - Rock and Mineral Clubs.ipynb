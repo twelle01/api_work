{
 "cells": [
  {
   "cell_type": "markdown",
   "metadata": {},
   "source": [
    "# Rock and Mineral Clubs\n",
    "\n",
    "Scrape all of the rock and mineral clubs listed at https://rocktumbler.com/blog/rock-and-mineral-clubs/ (but don't just cut and paste!)\n",
    "\n",
    "Save a CSV called `rock-clubs.csv` with the name of the club, their URL, and the city they're located in.\n",
    "\n",
    "**Bonus**: Add a column for the state. There are a few ways to do this, but knowing that `element.parent` goes 'up' one element might be helpful.\n",
    "\n",
    "* _**Hint:** The name of the club and the city are both inside of td elements, and they aren't distinguishable by class. Instead you'll just want to ask for all of the tds and then just ask for the text from the first or second one._\n",
    "* _**Hint:** If you use BeautifulSoup, you can select elements by attributes other than class or id._"
   ]
  },
  {
   "cell_type": "code",
   "execution_count": 1,
   "metadata": {},
   "outputs": [],
   "source": [
    "import requests\n",
    "import pandas as pd\n",
    "from bs4 import BeautifulSoup\n",
    "import re"
   ]
  },
  {
   "cell_type": "code",
   "execution_count": 3,
   "metadata": {},
   "outputs": [],
   "source": [
    "headers = {\n",
    "    'User-Agent': 'Mozilla/5.0 (Macintosh; Intel Mac OS X 10_10_1) AppleWebKit/537.36 (KHTML, like Gecko) Chrome/39.0.2171.95 Safari/537.36'\n",
    "}\n",
    "\n",
    "response = requests.get('https://rocktumbler.com/blog/rock-and-mineral-clubs/', headers=headers)\n",
    "doc = BeautifulSoup(response.text)    \n",
    "    "
   ]
  },
  {
   "cell_type": "code",
   "execution_count": 71,
   "metadata": {},
   "outputs": [],
   "source": [
    "article = doc.find(\"article\")\n",
    "tables = article.find_all(\"td\")"
   ]
  },
  {
   "cell_type": "code",
   "execution_count": 72,
   "metadata": {},
   "outputs": [],
   "source": [
    "clubs = []\n",
    "for table in tables:\n",
    "    elements = table.find_all(\"a\")\n",
    "    for element in elements:\n",
    "        club = {}\n",
    "        club['name'] = element.text\n",
    "        club['city'] = element.parent.find_next(\"td\").string\n",
    "        club['link'] = element[\"href\"]\n",
    "        clubs.append(club)"
   ]
  },
  {
   "cell_type": "code",
   "execution_count": 73,
   "metadata": {},
   "outputs": [],
   "source": [
    "df = pd.DataFrame(clubs)"
   ]
  },
  {
   "cell_type": "code",
   "execution_count": 74,
   "metadata": {},
   "outputs": [
    {
     "data": {
      "text/html": [
       "<div>\n",
       "<style scoped>\n",
       "    .dataframe tbody tr th:only-of-type {\n",
       "        vertical-align: middle;\n",
       "    }\n",
       "\n",
       "    .dataframe tbody tr th {\n",
       "        vertical-align: top;\n",
       "    }\n",
       "\n",
       "    .dataframe thead th {\n",
       "        text-align: right;\n",
       "    }\n",
       "</style>\n",
       "<table border=\"1\" class=\"dataframe\">\n",
       "  <thead>\n",
       "    <tr style=\"text-align: right;\">\n",
       "      <th></th>\n",
       "      <th>city</th>\n",
       "      <th>link</th>\n",
       "      <th>name</th>\n",
       "    </tr>\n",
       "  </thead>\n",
       "  <tbody>\n",
       "    <tr>\n",
       "      <th>0</th>\n",
       "      <td>Birmingham</td>\n",
       "      <td>http://www.lapidaryclub.com/</td>\n",
       "      <td>Alabama Mineral &amp; Lapidary Society</td>\n",
       "    </tr>\n",
       "    <tr>\n",
       "      <th>1</th>\n",
       "      <td>Dothan</td>\n",
       "      <td>http://www.wiregrassrockhounds.com/</td>\n",
       "      <td>Dothan Gem &amp; Mineral Club</td>\n",
       "    </tr>\n",
       "    <tr>\n",
       "      <th>2</th>\n",
       "      <td>Huntsville</td>\n",
       "      <td>http://huntsvillegms.org/</td>\n",
       "      <td>Huntsville Gem and Mineral Society</td>\n",
       "    </tr>\n",
       "    <tr>\n",
       "      <th>3</th>\n",
       "      <td>Mobile</td>\n",
       "      <td>http://www.mobilerockandgem.com/</td>\n",
       "      <td>Mobile Rock &amp; Gem Society</td>\n",
       "    </tr>\n",
       "    <tr>\n",
       "      <th>4</th>\n",
       "      <td>Montgomery</td>\n",
       "      <td>http://montgomerygemandmineralsociety.com/mgms/</td>\n",
       "      <td>Montgomery Gem &amp; Mineral Society</td>\n",
       "    </tr>\n",
       "  </tbody>\n",
       "</table>\n",
       "</div>"
      ],
      "text/plain": [
       "         city                                             link  \\\n",
       "0  Birmingham                     http://www.lapidaryclub.com/   \n",
       "1      Dothan              http://www.wiregrassrockhounds.com/   \n",
       "2  Huntsville                        http://huntsvillegms.org/   \n",
       "3      Mobile                 http://www.mobilerockandgem.com/   \n",
       "4  Montgomery  http://montgomerygemandmineralsociety.com/mgms/   \n",
       "\n",
       "                                 name  \n",
       "0  Alabama Mineral & Lapidary Society  \n",
       "1           Dothan Gem & Mineral Club  \n",
       "2  Huntsville Gem and Mineral Society  \n",
       "3           Mobile Rock & Gem Society  \n",
       "4    Montgomery Gem & Mineral Society  "
      ]
     },
     "execution_count": 74,
     "metadata": {},
     "output_type": "execute_result"
    }
   ],
   "source": [
    "df.head()"
   ]
  },
  {
   "cell_type": "code",
   "execution_count": 75,
   "metadata": {},
   "outputs": [],
   "source": [
    "df.to_csv(\"rock-clubs.csv\",index=False)"
   ]
  },
  {
   "cell_type": "code",
   "execution_count": null,
   "metadata": {},
   "outputs": [],
   "source": []
  }
 ],
 "metadata": {
  "kernelspec": {
   "display_name": "Python 3",
   "language": "python",
   "name": "python3"
  },
  "language_info": {
   "codemirror_mode": {
    "name": "ipython",
    "version": 3
   },
   "file_extension": ".py",
   "mimetype": "text/x-python",
   "name": "python",
   "nbconvert_exporter": "python",
   "pygments_lexer": "ipython3",
   "version": "3.7.3"
  }
 },
 "nbformat": 4,
 "nbformat_minor": 2
}
