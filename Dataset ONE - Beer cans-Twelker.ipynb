{
 "cells": [
  {
   "cell_type": "markdown",
   "metadata": {
    "collapsed": true
   },
   "source": [
    "# Homework 6, Part One: Lots and lots of questions about beer"
   ]
  },
  {
   "cell_type": "markdown",
   "metadata": {},
   "source": [
    "### Do your importing and your setup"
   ]
  },
  {
   "cell_type": "code",
   "execution_count": 1,
   "metadata": {},
   "outputs": [],
   "source": [
    "import pandas as pd\n",
    "import numpy as np\n",
    "import matplotlib.pyplot as plt\n",
    "\n",
    "%matplotlib inline"
   ]
  },
  {
   "cell_type": "markdown",
   "metadata": {},
   "source": [
    "## Read in the file `craftcans.csv`, and look at the first first rows"
   ]
  },
  {
   "cell_type": "code",
   "execution_count": 2,
   "metadata": {},
   "outputs": [
    {
     "data": {
      "text/html": [
       "<div>\n",
       "<style scoped>\n",
       "    .dataframe tbody tr th:only-of-type {\n",
       "        vertical-align: middle;\n",
       "    }\n",
       "\n",
       "    .dataframe tbody tr th {\n",
       "        vertical-align: top;\n",
       "    }\n",
       "\n",
       "    .dataframe thead th {\n",
       "        text-align: right;\n",
       "    }\n",
       "</style>\n",
       "<table border=\"1\" class=\"dataframe\">\n",
       "  <thead>\n",
       "    <tr style=\"text-align: right;\">\n",
       "      <th></th>\n",
       "      <th>Beer</th>\n",
       "      <th>Brewery</th>\n",
       "      <th>Location</th>\n",
       "      <th>Style</th>\n",
       "      <th>Size</th>\n",
       "      <th>ABV</th>\n",
       "      <th>IBUs</th>\n",
       "    </tr>\n",
       "  </thead>\n",
       "  <tbody>\n",
       "    <tr>\n",
       "      <th>0</th>\n",
       "      <td>Get Together</td>\n",
       "      <td>NorthGate Brewing</td>\n",
       "      <td>Minneapolis, MN</td>\n",
       "      <td>American IPA</td>\n",
       "      <td>16 oz.</td>\n",
       "      <td>4.50%</td>\n",
       "      <td>50.0</td>\n",
       "    </tr>\n",
       "    <tr>\n",
       "      <th>1</th>\n",
       "      <td>Maggie's Leap</td>\n",
       "      <td>NorthGate Brewing</td>\n",
       "      <td>Minneapolis, MN</td>\n",
       "      <td>Milk / Sweet Stout</td>\n",
       "      <td>16 oz.</td>\n",
       "      <td>4.90%</td>\n",
       "      <td>26.0</td>\n",
       "    </tr>\n",
       "    <tr>\n",
       "      <th>2</th>\n",
       "      <td>Wall's End</td>\n",
       "      <td>NorthGate Brewing</td>\n",
       "      <td>Minneapolis, MN</td>\n",
       "      <td>English Brown Ale</td>\n",
       "      <td>16 oz.</td>\n",
       "      <td>4.80%</td>\n",
       "      <td>19.0</td>\n",
       "    </tr>\n",
       "    <tr>\n",
       "      <th>3</th>\n",
       "      <td>Pumpion</td>\n",
       "      <td>NorthGate Brewing</td>\n",
       "      <td>Minneapolis, MN</td>\n",
       "      <td>Pumpkin Ale</td>\n",
       "      <td>16 oz.</td>\n",
       "      <td>6.00%</td>\n",
       "      <td>38.0</td>\n",
       "    </tr>\n",
       "    <tr>\n",
       "      <th>4</th>\n",
       "      <td>Stronghold</td>\n",
       "      <td>NorthGate Brewing</td>\n",
       "      <td>Minneapolis, MN</td>\n",
       "      <td>American Porter</td>\n",
       "      <td>16 oz.</td>\n",
       "      <td>6.00%</td>\n",
       "      <td>25.0</td>\n",
       "    </tr>\n",
       "  </tbody>\n",
       "</table>\n",
       "</div>"
      ],
      "text/plain": [
       "            Beer            Brewery         Location               Style  \\\n",
       "0   Get Together  NorthGate Brewing  Minneapolis, MN        American IPA   \n",
       "1  Maggie's Leap  NorthGate Brewing  Minneapolis, MN  Milk / Sweet Stout   \n",
       "2     Wall's End  NorthGate Brewing  Minneapolis, MN   English Brown Ale   \n",
       "3        Pumpion  NorthGate Brewing  Minneapolis, MN         Pumpkin Ale   \n",
       "4     Stronghold  NorthGate Brewing  Minneapolis, MN     American Porter   \n",
       "\n",
       "     Size    ABV  IBUs  \n",
       "0  16 oz.  4.50%  50.0  \n",
       "1  16 oz.  4.90%  26.0  \n",
       "2  16 oz.  4.80%  19.0  \n",
       "3  16 oz.  6.00%  38.0  \n",
       "4  16 oz.  6.00%  25.0  "
      ]
     },
     "execution_count": 2,
     "metadata": {},
     "output_type": "execute_result"
    }
   ],
   "source": [
    "df = pd.read_csv(\"craftcans.csv\", na_values = [\"NaN\", \"Does not apply\"])\n",
    "df.head()"
   ]
  },
  {
   "cell_type": "markdown",
   "metadata": {},
   "source": [
    "## How many rows do you have in the data? What are the column types?"
   ]
  },
  {
   "cell_type": "code",
   "execution_count": 3,
   "metadata": {},
   "outputs": [
    {
     "data": {
      "text/plain": [
       "(2416, 7)"
      ]
     },
     "execution_count": 3,
     "metadata": {},
     "output_type": "execute_result"
    }
   ],
   "source": [
    "df.shape"
   ]
  },
  {
   "cell_type": "markdown",
   "metadata": {},
   "source": [
    "# Checking out our alcohol"
   ]
  },
  {
   "cell_type": "markdown",
   "metadata": {},
   "source": [
    "## What are the top 10 producers of cans of beer?"
   ]
  },
  {
   "cell_type": "code",
   "execution_count": 4,
   "metadata": {},
   "outputs": [
    {
     "data": {
      "text/plain": [
       "Brewery Vivant                62\n",
       "Oskar Blues Brewery           46\n",
       "Sun King Brewing Company      38\n",
       "Cigar City Brewing Company    25\n",
       "Sixpoint Craft Ales           24\n",
       "Hopworks Urban Brewery        23\n",
       "Stevens Point Brewery         22\n",
       "Great Crescent Brewery        20\n",
       "21st Amendment Brewery        20\n",
       "Bonfire Brewing Company       19\n",
       "Name: Brewery, dtype: int64"
      ]
     },
     "execution_count": 4,
     "metadata": {},
     "output_type": "execute_result"
    }
   ],
   "source": [
    "df.Brewery.value_counts().head(10)"
   ]
  },
  {
   "cell_type": "markdown",
   "metadata": {},
   "source": [
    "## What is the most common ABV? (alcohol by volume)"
   ]
  },
  {
   "cell_type": "code",
   "execution_count": 5,
   "metadata": {},
   "outputs": [
    {
     "data": {
      "text/plain": [
       "5.00%    215\n",
       "Name: ABV, dtype: int64"
      ]
     },
     "execution_count": 5,
     "metadata": {},
     "output_type": "execute_result"
    }
   ],
   "source": [
    "df.ABV.value_counts().head(1)"
   ]
  },
  {
   "cell_type": "markdown",
   "metadata": {},
   "source": [
    "## Oh, weird, ABV isn't a number. Convert it to a number for me, please.\n",
    "\n",
    "It's going to take a few steps!\n",
    "\n",
    "### First, let's just look at the ABV column by itself"
   ]
  },
  {
   "cell_type": "code",
   "execution_count": 6,
   "metadata": {},
   "outputs": [],
   "source": [
    "df['ABV'] = df['ABV'].str.rstrip('%').astype('float') / 100.0\n"
   ]
  },
  {
   "cell_type": "code",
   "execution_count": 7,
   "metadata": {},
   "outputs": [
    {
     "data": {
      "text/plain": [
       "Beer         object\n",
       "Brewery      object\n",
       "Location     object\n",
       "Style        object\n",
       "Size         object\n",
       "ABV         float64\n",
       "IBUs        float64\n",
       "dtype: object"
      ]
     },
     "execution_count": 7,
     "metadata": {},
     "output_type": "execute_result"
    }
   ],
   "source": [
    "df.dtypes"
   ]
  },
  {
   "cell_type": "markdown",
   "metadata": {},
   "source": [
    "### Hm, `%` isn't part of  a number. Let's remove it.\n",
    "\n",
    "When you're confident you got it right, save the results back into the `ABV` column.\n",
    "\n",
    "- *Tip: In programming the easiest way to remove something is to *replacing it with nothing*.\n",
    "- *Tip: \"nothing\" might seem like `NaN` sinc we talked about it a lot in class, but in this case it isn't! It's just an empty string, like \"\"*\n",
    "- *Tip: `.replace` is used for replacing ENTIRE cells, while `.str.replace` is useful for replacing PARTS of cells (see my New York example)*"
   ]
  },
  {
   "cell_type": "code",
   "execution_count": 8,
   "metadata": {},
   "outputs": [],
   "source": [
    "#Done that already above but as a float.. "
   ]
  },
  {
   "cell_type": "markdown",
   "metadata": {},
   "source": [
    "### Now let's turn `ABV` into a numeric data type\n",
    "\n",
    "Save the results back into the `ABV` column (again), and then check `df.dtypes` to make sure it worked.\n",
    "\n",
    "- *Tip: We used `.astype(int)` during class, but this has a decimal in it...*"
   ]
  },
  {
   "cell_type": "code",
   "execution_count": 89,
   "metadata": {},
   "outputs": [],
   "source": [
    "#Done that already above."
   ]
  },
  {
   "cell_type": "markdown",
   "metadata": {},
   "source": [
    "## What's the ABV of the average beer look like?\n",
    "\n",
    "### Show me in two different ways: one command to show the `median`/`mean`/etc, and secondly show me a chart"
   ]
  },
  {
   "cell_type": "code",
   "execution_count": 90,
   "metadata": {},
   "outputs": [
    {
     "data": {
      "text/plain": [
       "count    2348.000000\n",
       "mean        0.059773\n",
       "std         0.013542\n",
       "min         0.001000\n",
       "25%         0.050000\n",
       "50%         0.056000\n",
       "75%         0.067000\n",
       "max         0.128000\n",
       "Name: ABV, dtype: float64"
      ]
     },
     "execution_count": 90,
     "metadata": {},
     "output_type": "execute_result"
    }
   ],
   "source": [
    "#print(round(df.ABV.median() * 100,2))\n",
    "#print(round(df.ABV.mean() * 100,2))\n",
    "df.ABV.describe()"
   ]
  },
  {
   "cell_type": "code",
   "execution_count": 11,
   "metadata": {},
   "outputs": [
    {
     "data": {
      "text/plain": [
       "<matplotlib.axes._subplots.AxesSubplot at 0x10a5f310>"
      ]
     },
     "execution_count": 11,
     "metadata": {},
     "output_type": "execute_result"
    },
    {
     "data": {
      "image/png": "[encoded data removed]",
      "text/plain": [
       "<Figure size 432x288 with 1 Axes>"
      ]
     },
     "metadata": {
      "needs_background": "light"
     },
     "output_type": "display_data"
    }
   ],
   "source": [
    "df.ABV.hist(bins=30)"
   ]
  },
  {
   "cell_type": "markdown",
   "metadata": {},
   "source": [
    "### We don't have ABV for all of the beers, how many are we missing them from?\n",
    "\n",
    "- *Tip: You can use `isnull()` or `notnull()` to see where a column is missing data.*\n",
    "- *Tip: You just want to count how many `True`s and `False`s there are.*\n",
    "- *Tip: It's a weird trick involving something we usually use to count things in a column*"
   ]
  },
  {
   "cell_type": "code",
   "execution_count": 12,
   "metadata": {},
   "outputs": [
    {
     "data": {
      "text/plain": [
       "False    2348\n",
       "True       68\n",
       "Name: ABV, dtype: int64"
      ]
     },
     "execution_count": 12,
     "metadata": {},
     "output_type": "execute_result"
    }
   ],
   "source": [
    "df.ABV.isna().value_counts()"
   ]
  },
  {
   "cell_type": "markdown",
   "metadata": {},
   "source": [
    "# Looking at location\n",
    "\n",
    "Brooklyn used to produce 80% of the country's beer! Let's see if it's still true."
   ]
  },
  {
   "cell_type": "markdown",
   "metadata": {},
   "source": [
    "## What are the top 10 cities in the US for canned craft beer?"
   ]
  },
  {
   "cell_type": "code",
   "execution_count": 13,
   "metadata": {},
   "outputs": [
    {
     "data": {
      "text/plain": [
       "Grand Rapids, MI    66\n",
       "Chicago, IL         55\n",
       "Portland, OR        52\n",
       "Indianapolis, IN    43\n",
       "San Diego, CA       42\n",
       "Boulder, CO         41\n",
       "Denver, CO          40\n",
       "Brooklyn, NY        38\n",
       "Seattle, WA         35\n",
       "Longmont, CO        33\n",
       "Name: Location, dtype: int64"
      ]
     },
     "execution_count": 13,
     "metadata": {},
     "output_type": "execute_result"
    }
   ],
   "source": [
    "df.Location.value_counts().head(10)"
   ]
  },
  {
   "cell_type": "markdown",
   "metadata": {},
   "source": [
    "## List all of the beer from Brooklyn, NY"
   ]
  },
  {
   "cell_type": "code",
   "execution_count": 15,
   "metadata": {},
   "outputs": [
    {
     "data": {
      "text/plain": [
       "115                              4Beans\n",
       "210                              Jammer\n",
       "246                             Abigale\n",
       "404                       Nomader Weiss\n",
       "421                                 Rad\n",
       "439                        Molotov Lite\n",
       "588                             Bengali\n",
       "713                       Sensi Harvest\n",
       "969                              Hi-Res\n",
       "987               KelSo Nut Brown Lager\n",
       "1057                      Global Warmer\n",
       "1074                 Autumnation (2013)\n",
       "1093               KelSo India Pale Ale\n",
       "1267                          The Crisp\n",
       "1268                       Sweet Action\n",
       "1269                      Righteous Ale\n",
       "1270                      Bengali Tiger\n",
       "1305                      KelSo Pilsner\n",
       "1365    Hipster Ale (Two Roads Brewing)\n",
       "1366                        Bikini Beer\n",
       "1373                East India Pale Ale\n",
       "1624                             3Beans\n",
       "1836                         Brownstone\n",
       "1857                Brooklyn Summer Ale\n",
       "1962    Hipster Ale (Westbrook Brewing)\n",
       "1970                             Apollo\n",
       "1971                          Harbinger\n",
       "1972                              Resin\n",
       "2027                East India Pale Ale\n",
       "2062                             Diesel\n",
       "2074       Autumnation (2011-12) (2011)\n",
       "2140                   The Crisp (2011)\n",
       "2141                Sweet Action (2011)\n",
       "2142               Righteous Ale (2011)\n",
       "2143               Bengali Tiger (2011)\n",
       "2219         Brooklyn Summer Ale (2011)\n",
       "2350            Brooklyn Lager (16 oz.)\n",
       "2351            Brooklyn Lager (12 oz.)\n",
       "Name: Beer, dtype: object"
      ]
     },
     "execution_count": 15,
     "metadata": {},
     "output_type": "execute_result"
    }
   ],
   "source": [
    "df[df.Location == 'Brooklyn, NY'].Beer\n",
    "#df[df.Location == 'Brooklyn, NY'].Beer.value_counts() would tell us that there are two \"EIPAs\" in the list... just FYI."
   ]
  },
  {
   "cell_type": "markdown",
   "metadata": {},
   "source": [
    "## What brewery in Brooklyn puts out the most cans of beer?"
   ]
  },
  {
   "cell_type": "code",
   "execution_count": 16,
   "metadata": {},
   "outputs": [
    {
     "data": {
      "text/plain": [
       "Sixpoint Craft Ales    24\n",
       "Brooklyn Brewery        6\n",
       "Evil Twin Brewing       5\n",
       "KelSo Beer Company      3\n",
       "Name: Brewery, dtype: int64"
      ]
     },
     "execution_count": 16,
     "metadata": {},
     "output_type": "execute_result"
    }
   ],
   "source": [
    "df[df.Location == 'Brooklyn, NY'].Brewery.value_counts()"
   ]
  },
  {
   "cell_type": "markdown",
   "metadata": {},
   "source": [
    "## What are the five most popular styles of beer produced by Sixpoint?"
   ]
  },
  {
   "cell_type": "code",
   "execution_count": 17,
   "metadata": {},
   "outputs": [
    {
     "data": {
      "text/plain": [
       "American IPA                      4\n",
       "American Double / Imperial IPA    2\n",
       "Baltic Porter                     2\n",
       "Cream Ale                         2\n",
       "German Pilsener                   2\n",
       "Name: Style, dtype: int64"
      ]
     },
     "execution_count": 17,
     "metadata": {},
     "output_type": "execute_result"
    }
   ],
   "source": [
    "df[df.Brewery == 'Sixpoint Craft Ales'].Style.value_counts().head()"
   ]
  },
  {
   "cell_type": "markdown",
   "metadata": {},
   "source": [
    "## List all of the breweries in New York state.\n",
    "\n",
    "- *Tip: We want to match *part* of the `Location` column, but not all of it.*\n",
    "- *Tip: Watch out for `NaN` values! You might be close, but you'll need to pass an extra parameter to make it work without an error.*"
   ]
  },
  {
   "cell_type": "code",
   "execution_count": 18,
   "metadata": {},
   "outputs": [],
   "source": [
    "loc_ny_breweries = df[df.Location.str.contains(\", NY\", na=False)]"
   ]
  },
  {
   "cell_type": "code",
   "execution_count": 92,
   "metadata": {},
   "outputs": [
    {
     "data": {
      "text/plain": [
       "{'Blue Point Brewing Company',\n",
       " 'Bomb Beer Company',\n",
       " 'Brooklyn Brewery',\n",
       " 'Butternuts Beer and Ale',\n",
       " 'Chatham Brewing',\n",
       " 'Dundee Brewing Company',\n",
       " 'Evil Twin Brewing',\n",
       " 'KelSo Beer Company',\n",
       " 'Matt Brewing Company',\n",
       " 'Montauk Brewing Company',\n",
       " 'Newburgh Brewing Company',\n",
       " 'Sixpoint Craft Ales',\n",
       " 'Southampton Publick House',\n",
       " 'The Bronx Brewery',\n",
       " 'The Manhattan Brewing Company',\n",
       " 'Upstate Brewing Company'}"
      ]
     },
     "execution_count": 92,
     "metadata": {},
     "output_type": "execute_result"
    }
   ],
   "source": [
    "#loc_ny_breweries.Brewery.value_counts()\n",
    "set(loc_ny_breweries.Brewery)"
   ]
  },
  {
   "cell_type": "markdown",
   "metadata": {},
   "source": [
    "### Now *count* all of the breweries in New York state"
   ]
  },
  {
   "cell_type": "code",
   "execution_count": 21,
   "metadata": {},
   "outputs": [
    {
     "data": {
      "text/plain": [
       "16"
      ]
     },
     "execution_count": 21,
     "metadata": {},
     "output_type": "execute_result"
    }
   ],
   "source": [
    "len(loc_ny_breweries.groupby(by='Brewery'))"
   ]
  },
  {
   "cell_type": "markdown",
   "metadata": {},
   "source": [
    "# Measuring International Bitterness Units\n",
    "\n",
    "## Display all of the IPAs\n",
    "\n",
    "Include American IPAs, Imperial IPAs, and anything else with \"IPA in it.\"\n",
    "\n",
    "IPA stands for [India Pale Ale](https://www.bonappetit.com/story/ipa-beer-styles), and is probably the most popular kind of beer in the US for people who are drinking [craft beer](https://www.craftbeer.com/beer/what-is-craft-beer)."
   ]
  },
  {
   "cell_type": "code",
   "execution_count": 22,
   "metadata": {},
   "outputs": [
    {
     "data": {
      "text/html": [
       "<div>\n",
       "<style scoped>\n",
       "    .dataframe tbody tr th:only-of-type {\n",
       "        vertical-align: middle;\n",
       "    }\n",
       "\n",
       "    .dataframe tbody tr th {\n",
       "        vertical-align: top;\n",
       "    }\n",
       "\n",
       "    .dataframe thead th {\n",
       "        text-align: right;\n",
       "    }\n",
       "</style>\n",
       "<table border=\"1\" class=\"dataframe\">\n",
       "  <thead>\n",
       "    <tr style=\"text-align: right;\">\n",
       "      <th></th>\n",
       "      <th>Beer</th>\n",
       "      <th>Brewery</th>\n",
       "      <th>Location</th>\n",
       "      <th>Style</th>\n",
       "      <th>Size</th>\n",
       "      <th>ABV</th>\n",
       "      <th>IBUs</th>\n",
       "    </tr>\n",
       "  </thead>\n",
       "  <tbody>\n",
       "    <tr>\n",
       "      <th>48</th>\n",
       "      <td>Titan IPA</td>\n",
       "      <td>Great Divide Brewing Company</td>\n",
       "      <td>Denver, CO</td>\n",
       "      <td>American IPA</td>\n",
       "      <td>12 oz.</td>\n",
       "      <td>0.071</td>\n",
       "      <td>NaN</td>\n",
       "    </tr>\n",
       "    <tr>\n",
       "      <th>61</th>\n",
       "      <td>Grapefruit IPA</td>\n",
       "      <td>Perrin Brewing Company</td>\n",
       "      <td>Comstock Park, MI</td>\n",
       "      <td>American IPA</td>\n",
       "      <td>12 oz.</td>\n",
       "      <td>0.050</td>\n",
       "      <td>35.0</td>\n",
       "    </tr>\n",
       "    <tr>\n",
       "      <th>92</th>\n",
       "      <td>Linnaeus Mango IPA</td>\n",
       "      <td>Brewery Vivant</td>\n",
       "      <td>Grand Rapids, MI</td>\n",
       "      <td>American IPA</td>\n",
       "      <td>16 oz.</td>\n",
       "      <td>0.060</td>\n",
       "      <td>NaN</td>\n",
       "    </tr>\n",
       "    <tr>\n",
       "      <th>104</th>\n",
       "      <td>Galaxy IPA</td>\n",
       "      <td>Big Muddy Brewing</td>\n",
       "      <td>Murphysboro, IL</td>\n",
       "      <td>American IPA</td>\n",
       "      <td>16 oz.</td>\n",
       "      <td>0.075</td>\n",
       "      <td>60.0</td>\n",
       "    </tr>\n",
       "    <tr>\n",
       "      <th>107</th>\n",
       "      <td>Mosaic Single Hop IPA</td>\n",
       "      <td>Lost Nation Brewing</td>\n",
       "      <td>East Fairfield, VT</td>\n",
       "      <td>American IPA</td>\n",
       "      <td>16 oz.</td>\n",
       "      <td>0.055</td>\n",
       "      <td>NaN</td>\n",
       "    </tr>\n",
       "    <tr>\n",
       "      <th>111</th>\n",
       "      <td>IPA</td>\n",
       "      <td>Anchor Brewing Company</td>\n",
       "      <td>San Francisco, CA</td>\n",
       "      <td>American IPA</td>\n",
       "      <td>12 oz.</td>\n",
       "      <td>0.065</td>\n",
       "      <td>NaN</td>\n",
       "    </tr>\n",
       "    <tr>\n",
       "      <th>132</th>\n",
       "      <td>Uber Lupin Schwarz IPA</td>\n",
       "      <td>Bent Brewstillery</td>\n",
       "      <td>Roseville, MN</td>\n",
       "      <td>American Double / Imperial IPA</td>\n",
       "      <td>16 oz.</td>\n",
       "      <td>0.083</td>\n",
       "      <td>NaN</td>\n",
       "    </tr>\n",
       "    <tr>\n",
       "      <th>174</th>\n",
       "      <td>Pump House IPA</td>\n",
       "      <td>Red Shedman Farm Brewery and Hop...</td>\n",
       "      <td>Mt. Airy, MD</td>\n",
       "      <td>American IPA</td>\n",
       "      <td>16 oz.</td>\n",
       "      <td>0.055</td>\n",
       "      <td>45.0</td>\n",
       "    </tr>\n",
       "    <tr>\n",
       "      <th>175</th>\n",
       "      <td>Suicide Blonde IPA</td>\n",
       "      <td>Red Shedman Farm Brewery and Hop...</td>\n",
       "      <td>Mt. Airy, MD</td>\n",
       "      <td>Belgian IPA</td>\n",
       "      <td>16 oz.</td>\n",
       "      <td>0.070</td>\n",
       "      <td>NaN</td>\n",
       "    </tr>\n",
       "    <tr>\n",
       "      <th>203</th>\n",
       "      <td>Baby Daddy Session IPA</td>\n",
       "      <td>Speakasy Ales &amp; Lagers</td>\n",
       "      <td>San Francisco, CA</td>\n",
       "      <td>American IPA</td>\n",
       "      <td>12 oz.</td>\n",
       "      <td>0.047</td>\n",
       "      <td>35.0</td>\n",
       "    </tr>\n",
       "    <tr>\n",
       "      <th>248</th>\n",
       "      <td>Mission IPA</td>\n",
       "      <td>Mission Brewery</td>\n",
       "      <td>San Diego, CA</td>\n",
       "      <td>American IPA</td>\n",
       "      <td>32 oz.</td>\n",
       "      <td>0.068</td>\n",
       "      <td>66.0</td>\n",
       "    </tr>\n",
       "    <tr>\n",
       "      <th>249</th>\n",
       "      <td>Bay of Bengal Double IPA (2014)</td>\n",
       "      <td>Christian Moerlein Brewing Company</td>\n",
       "      <td>Cincinnati, OH</td>\n",
       "      <td>American Double / Imperial IPA</td>\n",
       "      <td>12 oz.</td>\n",
       "      <td>0.089</td>\n",
       "      <td>126.0</td>\n",
       "    </tr>\n",
       "    <tr>\n",
       "      <th>252</th>\n",
       "      <td>Newport Storm IPA</td>\n",
       "      <td>Coastal Extreme Brewing Company</td>\n",
       "      <td>Newport, RI</td>\n",
       "      <td>American IPA</td>\n",
       "      <td>12 oz.</td>\n",
       "      <td>0.065</td>\n",
       "      <td>75.0</td>\n",
       "    </tr>\n",
       "    <tr>\n",
       "      <th>263</th>\n",
       "      <td>Clean Shave IPA</td>\n",
       "      <td>Glabrous Brewing Company</td>\n",
       "      <td>Pineland, ME</td>\n",
       "      <td>American IPA</td>\n",
       "      <td>12 oz.</td>\n",
       "      <td>0.067</td>\n",
       "      <td>70.0</td>\n",
       "    </tr>\n",
       "    <tr>\n",
       "      <th>265</th>\n",
       "      <td>Big Star White IPA</td>\n",
       "      <td>Four String Brewing Company</td>\n",
       "      <td>Columbus, OH</td>\n",
       "      <td>American White IPA</td>\n",
       "      <td>12 oz.</td>\n",
       "      <td>0.070</td>\n",
       "      <td>70.0</td>\n",
       "    </tr>\n",
       "    <tr>\n",
       "      <th>269</th>\n",
       "      <td>Back Bay IPA</td>\n",
       "      <td>Beer Works Brewery</td>\n",
       "      <td>Lowell, MA</td>\n",
       "      <td>American IPA</td>\n",
       "      <td>12 oz.</td>\n",
       "      <td>0.068</td>\n",
       "      <td>85.0</td>\n",
       "    </tr>\n",
       "    <tr>\n",
       "      <th>272</th>\n",
       "      <td>4000 Footer IPA</td>\n",
       "      <td>Woodstock Inn, Station &amp; Brewery</td>\n",
       "      <td>North Woodstock, NH</td>\n",
       "      <td>American IPA</td>\n",
       "      <td>12 oz.</td>\n",
       "      <td>0.065</td>\n",
       "      <td>82.0</td>\n",
       "    </tr>\n",
       "    <tr>\n",
       "      <th>282</th>\n",
       "      <td>Rule G IPA</td>\n",
       "      <td>Smartmouth Brewing Company</td>\n",
       "      <td>Norfolk, VA</td>\n",
       "      <td>American IPA</td>\n",
       "      <td>12 oz.</td>\n",
       "      <td>0.070</td>\n",
       "      <td>88.0</td>\n",
       "    </tr>\n",
       "    <tr>\n",
       "      <th>288</th>\n",
       "      <td>Yellow Wolf Imperial IPA</td>\n",
       "      <td>Alameda Brewing</td>\n",
       "      <td>Portland, OR</td>\n",
       "      <td>American Double / Imperial IPA</td>\n",
       "      <td>12 oz.</td>\n",
       "      <td>0.082</td>\n",
       "      <td>103.0</td>\n",
       "    </tr>\n",
       "    <tr>\n",
       "      <th>309</th>\n",
       "      <td>IPA #11</td>\n",
       "      <td>Cheboygan Brewing Company</td>\n",
       "      <td>Cheboygan, MI</td>\n",
       "      <td>American IPA</td>\n",
       "      <td>16 oz.</td>\n",
       "      <td>0.057</td>\n",
       "      <td>58.0</td>\n",
       "    </tr>\n",
       "    <tr>\n",
       "      <th>320</th>\n",
       "      <td>Black Hop IPA</td>\n",
       "      <td>Shebeen Brewing Company</td>\n",
       "      <td>Wolcott, CT</td>\n",
       "      <td>American Black Ale</td>\n",
       "      <td>12 oz.</td>\n",
       "      <td>0.068</td>\n",
       "      <td>NaN</td>\n",
       "    </tr>\n",
       "    <tr>\n",
       "      <th>326</th>\n",
       "      <td>2014 IPA Cicada Series</td>\n",
       "      <td>Southern Prohibition Brewing Com...</td>\n",
       "      <td>Hattiesburg, MS</td>\n",
       "      <td>American IPA</td>\n",
       "      <td>16 oz.</td>\n",
       "      <td>0.075</td>\n",
       "      <td>72.0</td>\n",
       "    </tr>\n",
       "    <tr>\n",
       "      <th>342</th>\n",
       "      <td>Sinister Minister Black IPA</td>\n",
       "      <td>Southern Prohibition Brewing Com...</td>\n",
       "      <td>Hattiesburg, MS</td>\n",
       "      <td>American IPA</td>\n",
       "      <td>16 oz.</td>\n",
       "      <td>0.077</td>\n",
       "      <td>65.0</td>\n",
       "    </tr>\n",
       "    <tr>\n",
       "      <th>345</th>\n",
       "      <td>O’Malley’s IPA</td>\n",
       "      <td>Weston Brewing Company</td>\n",
       "      <td>Weston, MO</td>\n",
       "      <td>American IPA</td>\n",
       "      <td>12 oz.</td>\n",
       "      <td>0.075</td>\n",
       "      <td>89.0</td>\n",
       "    </tr>\n",
       "    <tr>\n",
       "      <th>351</th>\n",
       "      <td>Charlie's Rye IPA</td>\n",
       "      <td>Angry Minnow</td>\n",
       "      <td>Hayward, WI</td>\n",
       "      <td>American IPA</td>\n",
       "      <td>16 oz.</td>\n",
       "      <td>0.060</td>\n",
       "      <td>NaN</td>\n",
       "    </tr>\n",
       "    <tr>\n",
       "      <th>357</th>\n",
       "      <td>Watershed IPA</td>\n",
       "      <td>Oakshire Brewing</td>\n",
       "      <td>Eugene, OR</td>\n",
       "      <td>American IPA</td>\n",
       "      <td>12 oz.</td>\n",
       "      <td>0.067</td>\n",
       "      <td>70.0</td>\n",
       "    </tr>\n",
       "    <tr>\n",
       "      <th>364</th>\n",
       "      <td>Ultra Gnar Gnar IPA</td>\n",
       "      <td>Base Camp Brewing Co.</td>\n",
       "      <td>Portland, OR</td>\n",
       "      <td>American IPA</td>\n",
       "      <td>12 oz.</td>\n",
       "      <td>0.067</td>\n",
       "      <td>60.0</td>\n",
       "    </tr>\n",
       "    <tr>\n",
       "      <th>371</th>\n",
       "      <td>Hoodoo Voodoo IPA</td>\n",
       "      <td>Three Creeks Brewing</td>\n",
       "      <td>Sisters, OR</td>\n",
       "      <td>American IPA</td>\n",
       "      <td>12 oz.</td>\n",
       "      <td>0.062</td>\n",
       "      <td>82.0</td>\n",
       "    </tr>\n",
       "    <tr>\n",
       "      <th>372</th>\n",
       "      <td>Hopportunity Knocks IPA</td>\n",
       "      <td>Caldera Brewing Company</td>\n",
       "      <td>Ashland, OR</td>\n",
       "      <td>American IPA</td>\n",
       "      <td>12 oz.</td>\n",
       "      <td>0.068</td>\n",
       "      <td>100.0</td>\n",
       "    </tr>\n",
       "    <tr>\n",
       "      <th>374</th>\n",
       "      <td>Mothman Black IPA</td>\n",
       "      <td>Greenbrier Valley Brewing Company</td>\n",
       "      <td>Lewisburg, WV</td>\n",
       "      <td>American Black Ale</td>\n",
       "      <td>12 oz.</td>\n",
       "      <td>0.067</td>\n",
       "      <td>71.0</td>\n",
       "    </tr>\n",
       "    <tr>\n",
       "      <th>...</th>\n",
       "      <td>...</td>\n",
       "      <td>...</td>\n",
       "      <td>...</td>\n",
       "      <td>...</td>\n",
       "      <td>...</td>\n",
       "      <td>...</td>\n",
       "      <td>...</td>\n",
       "    </tr>\n",
       "    <tr>\n",
       "      <th>2186</th>\n",
       "      <td>Hop Ottin' IPA (2011)</td>\n",
       "      <td>Anderson Valley Brewing Company</td>\n",
       "      <td>Boonville, CA</td>\n",
       "      <td>American IPA</td>\n",
       "      <td>12 oz.</td>\n",
       "      <td>0.070</td>\n",
       "      <td>80.0</td>\n",
       "    </tr>\n",
       "    <tr>\n",
       "      <th>2195</th>\n",
       "      <td>Hop Knot IPA</td>\n",
       "      <td>Four Peaks Brewing Company</td>\n",
       "      <td>Tempe, AZ</td>\n",
       "      <td>American IPA</td>\n",
       "      <td>12 oz.</td>\n",
       "      <td>0.067</td>\n",
       "      <td>47.0</td>\n",
       "    </tr>\n",
       "    <tr>\n",
       "      <th>2198</th>\n",
       "      <td>Lumberyard IPA</td>\n",
       "      <td>Lumberyard Brewing Company</td>\n",
       "      <td>Flagstaff, AZ</td>\n",
       "      <td>American IPA</td>\n",
       "      <td>12 oz.</td>\n",
       "      <td>0.061</td>\n",
       "      <td>NaN</td>\n",
       "    </tr>\n",
       "    <tr>\n",
       "      <th>2203</th>\n",
       "      <td>Sunken Island IPA</td>\n",
       "      <td>Kenai River Brewing Company</td>\n",
       "      <td>Soldotna, AK</td>\n",
       "      <td>American IPA</td>\n",
       "      <td>12 oz.</td>\n",
       "      <td>0.068</td>\n",
       "      <td>NaN</td>\n",
       "    </tr>\n",
       "    <tr>\n",
       "      <th>2209</th>\n",
       "      <td>Fire Eagle IPA</td>\n",
       "      <td>Austin Beerworks</td>\n",
       "      <td>Austin, TX</td>\n",
       "      <td>American IPA</td>\n",
       "      <td>12 oz.</td>\n",
       "      <td>0.062</td>\n",
       "      <td>NaN</td>\n",
       "    </tr>\n",
       "    <tr>\n",
       "      <th>2216</th>\n",
       "      <td>Ponderosa IPA</td>\n",
       "      <td>Prescott Brewing Company</td>\n",
       "      <td>Prescott, AZ</td>\n",
       "      <td>American IPA</td>\n",
       "      <td>12 oz.</td>\n",
       "      <td>NaN</td>\n",
       "      <td>NaN</td>\n",
       "    </tr>\n",
       "    <tr>\n",
       "      <th>2225</th>\n",
       "      <td>Gandhi-Bot Double IPA</td>\n",
       "      <td>New England Brewing Company</td>\n",
       "      <td>Woodbridge, CT</td>\n",
       "      <td>American Double / Imperial IPA</td>\n",
       "      <td>12 oz.</td>\n",
       "      <td>0.088</td>\n",
       "      <td>85.0</td>\n",
       "    </tr>\n",
       "    <tr>\n",
       "      <th>2228</th>\n",
       "      <td>Vortex IPA</td>\n",
       "      <td>Fort George Brewery</td>\n",
       "      <td>Astoria, OR</td>\n",
       "      <td>American IPA</td>\n",
       "      <td>16 oz.</td>\n",
       "      <td>0.074</td>\n",
       "      <td>97.0</td>\n",
       "    </tr>\n",
       "    <tr>\n",
       "      <th>2229</th>\n",
       "      <td>Hop Shock IPA (2010)</td>\n",
       "      <td>SanTan Brewing Company</td>\n",
       "      <td>Chandler, AZ</td>\n",
       "      <td>American IPA</td>\n",
       "      <td>12 oz.</td>\n",
       "      <td>0.070</td>\n",
       "      <td>85.0</td>\n",
       "    </tr>\n",
       "    <tr>\n",
       "      <th>2234</th>\n",
       "      <td>Snake Handler Double IPA</td>\n",
       "      <td>Good People Brewing Company</td>\n",
       "      <td>Birmingham, AL</td>\n",
       "      <td>American Double / Imperial IPA</td>\n",
       "      <td>12 oz.</td>\n",
       "      <td>0.093</td>\n",
       "      <td>103.0</td>\n",
       "    </tr>\n",
       "    <tr>\n",
       "      <th>2236</th>\n",
       "      <td>Good People IPA</td>\n",
       "      <td>Good People Brewing Company</td>\n",
       "      <td>Birmingham, AL</td>\n",
       "      <td>American IPA</td>\n",
       "      <td>12 oz.</td>\n",
       "      <td>0.060</td>\n",
       "      <td>64.0</td>\n",
       "    </tr>\n",
       "    <tr>\n",
       "      <th>2245</th>\n",
       "      <td>11th Hour IPA</td>\n",
       "      <td>Crow Peak Brewing Company</td>\n",
       "      <td>Spearfish, SD</td>\n",
       "      <td>American IPA</td>\n",
       "      <td>12 oz.</td>\n",
       "      <td>0.060</td>\n",
       "      <td>NaN</td>\n",
       "    </tr>\n",
       "    <tr>\n",
       "      <th>2248</th>\n",
       "      <td>Happy Camper IPA</td>\n",
       "      <td>Santa Fe Brewing Company</td>\n",
       "      <td>Santa Fe, NM</td>\n",
       "      <td>American IPA</td>\n",
       "      <td>12 oz.</td>\n",
       "      <td>0.066</td>\n",
       "      <td>NaN</td>\n",
       "    </tr>\n",
       "    <tr>\n",
       "      <th>2252</th>\n",
       "      <td>Lucky U IPA</td>\n",
       "      <td>Breckenridge Brewery</td>\n",
       "      <td>Denver, CO</td>\n",
       "      <td>American IPA</td>\n",
       "      <td>12 oz.</td>\n",
       "      <td>0.062</td>\n",
       "      <td>68.0</td>\n",
       "    </tr>\n",
       "    <tr>\n",
       "      <th>2261</th>\n",
       "      <td>Stowaway IPA</td>\n",
       "      <td>Baxter Brewing Company</td>\n",
       "      <td>Lewiston, ME</td>\n",
       "      <td>American IPA</td>\n",
       "      <td>12 oz.</td>\n",
       "      <td>0.069</td>\n",
       "      <td>69.0</td>\n",
       "    </tr>\n",
       "    <tr>\n",
       "      <th>2281</th>\n",
       "      <td>Cornerstone IPA</td>\n",
       "      <td>Rochester Mills Brewing Company</td>\n",
       "      <td>Rochester, MI</td>\n",
       "      <td>American IPA</td>\n",
       "      <td>16 oz.</td>\n",
       "      <td>0.070</td>\n",
       "      <td>NaN</td>\n",
       "    </tr>\n",
       "    <tr>\n",
       "      <th>2299</th>\n",
       "      <td>Harpoon IPA (2010)</td>\n",
       "      <td>Harpoon Brewery</td>\n",
       "      <td>Boston, MA</td>\n",
       "      <td>American IPA</td>\n",
       "      <td>12 oz.</td>\n",
       "      <td>0.059</td>\n",
       "      <td>42.0</td>\n",
       "    </tr>\n",
       "    <tr>\n",
       "      <th>2306</th>\n",
       "      <td>Ranger IPA (Current)</td>\n",
       "      <td>New Belgium Brewing Company</td>\n",
       "      <td>Fort Collins, CO</td>\n",
       "      <td>American IPA</td>\n",
       "      <td>12 oz.</td>\n",
       "      <td>0.065</td>\n",
       "      <td>70.0</td>\n",
       "    </tr>\n",
       "    <tr>\n",
       "      <th>2319</th>\n",
       "      <td>Tallgrass IPA</td>\n",
       "      <td>Tallgrass Brewing Company</td>\n",
       "      <td>Manhattan, KS</td>\n",
       "      <td>American IPA</td>\n",
       "      <td>16 oz.</td>\n",
       "      <td>0.063</td>\n",
       "      <td>60.0</td>\n",
       "    </tr>\n",
       "    <tr>\n",
       "      <th>2330</th>\n",
       "      <td>Double Haul IPA</td>\n",
       "      <td>Kettle House Brewing Company</td>\n",
       "      <td>Missoula, MT</td>\n",
       "      <td>American IPA</td>\n",
       "      <td>16 oz.</td>\n",
       "      <td>0.065</td>\n",
       "      <td>65.0</td>\n",
       "    </tr>\n",
       "    <tr>\n",
       "      <th>2341</th>\n",
       "      <td>Epic IPA</td>\n",
       "      <td>Mammoth Brewing Company</td>\n",
       "      <td>Mammoth Lakes, CA</td>\n",
       "      <td>American IPA</td>\n",
       "      <td>12 oz.</td>\n",
       "      <td>0.065</td>\n",
       "      <td>NaN</td>\n",
       "    </tr>\n",
       "    <tr>\n",
       "      <th>2365</th>\n",
       "      <td>Snapperhead IPA</td>\n",
       "      <td>Butternuts Beer and Ale</td>\n",
       "      <td>Garrattsville, NY</td>\n",
       "      <td>American IPA</td>\n",
       "      <td>12 oz.</td>\n",
       "      <td>0.068</td>\n",
       "      <td>NaN</td>\n",
       "    </tr>\n",
       "    <tr>\n",
       "      <th>2369</th>\n",
       "      <td>Ballz Deep Double IPA</td>\n",
       "      <td>7 Seas Brewing Company</td>\n",
       "      <td>Gig Harbor, WA</td>\n",
       "      <td>American Double / Imperial IPA</td>\n",
       "      <td>16 oz.</td>\n",
       "      <td>0.084</td>\n",
       "      <td>82.0</td>\n",
       "    </tr>\n",
       "    <tr>\n",
       "      <th>2375</th>\n",
       "      <td>Gandhi-Bot Double IPA</td>\n",
       "      <td>New England Brewing Company</td>\n",
       "      <td>Woodbridge, CT</td>\n",
       "      <td>American Double / Imperial IPA</td>\n",
       "      <td>16 oz.</td>\n",
       "      <td>0.088</td>\n",
       "      <td>85.0</td>\n",
       "    </tr>\n",
       "    <tr>\n",
       "      <th>2379</th>\n",
       "      <td>Sea Hag IPA (Current)</td>\n",
       "      <td>New England Brewing Company</td>\n",
       "      <td>Woodbridge, CT</td>\n",
       "      <td>American IPA</td>\n",
       "      <td>12 oz.</td>\n",
       "      <td>0.062</td>\n",
       "      <td>NaN</td>\n",
       "    </tr>\n",
       "    <tr>\n",
       "      <th>2382</th>\n",
       "      <td>Caldera IPA</td>\n",
       "      <td>Caldera Brewing Company</td>\n",
       "      <td>Ashland, OR</td>\n",
       "      <td>American IPA</td>\n",
       "      <td>12 oz.</td>\n",
       "      <td>0.061</td>\n",
       "      <td>94.0</td>\n",
       "    </tr>\n",
       "    <tr>\n",
       "      <th>2387</th>\n",
       "      <td>Big Swell IPA</td>\n",
       "      <td>Maui Brewing Company</td>\n",
       "      <td>Lahaina, HI</td>\n",
       "      <td>American IPA</td>\n",
       "      <td>12 oz.</td>\n",
       "      <td>0.062</td>\n",
       "      <td>65.0</td>\n",
       "    </tr>\n",
       "    <tr>\n",
       "      <th>2394</th>\n",
       "      <td>113 IPA</td>\n",
       "      <td>Sly Fox Brewing Company</td>\n",
       "      <td>Pottstown, PA</td>\n",
       "      <td>American IPA</td>\n",
       "      <td>12 oz.</td>\n",
       "      <td>0.070</td>\n",
       "      <td>113.0</td>\n",
       "    </tr>\n",
       "    <tr>\n",
       "      <th>2408</th>\n",
       "      <td>Brew Free! or Die IPA</td>\n",
       "      <td>21st Amendment Brewery</td>\n",
       "      <td>San Francisco, CA</td>\n",
       "      <td>American IPA</td>\n",
       "      <td>12 oz.</td>\n",
       "      <td>0.070</td>\n",
       "      <td>65.0</td>\n",
       "    </tr>\n",
       "    <tr>\n",
       "      <th>2412</th>\n",
       "      <td>GUBNA Imperial IPA</td>\n",
       "      <td>Oskar Blues Brewery</td>\n",
       "      <td>Longmont, CO</td>\n",
       "      <td>American Double / Imperial IPA</td>\n",
       "      <td>12 oz.</td>\n",
       "      <td>0.099</td>\n",
       "      <td>100.0</td>\n",
       "    </tr>\n",
       "  </tbody>\n",
       "</table>\n",
       "<p>336 rows × 7 columns</p>\n",
       "</div>"
      ],
      "text/plain": [
       "                                 Beer                              Brewery  \\\n",
       "48                          Titan IPA         Great Divide Brewing Company   \n",
       "61                     Grapefruit IPA               Perrin Brewing Company   \n",
       "92                 Linnaeus Mango IPA                       Brewery Vivant   \n",
       "104                        Galaxy IPA                    Big Muddy Brewing   \n",
       "107             Mosaic Single Hop IPA                  Lost Nation Brewing   \n",
       "111                               IPA               Anchor Brewing Company   \n",
       "132            Uber Lupin Schwarz IPA                    Bent Brewstillery   \n",
       "174                    Pump House IPA  Red Shedman Farm Brewery and Hop...   \n",
       "175                Suicide Blonde IPA  Red Shedman Farm Brewery and Hop...   \n",
       "203            Baby Daddy Session IPA               Speakasy Ales & Lagers   \n",
       "248                       Mission IPA                      Mission Brewery   \n",
       "249   Bay of Bengal Double IPA (2014)   Christian Moerlein Brewing Company   \n",
       "252                 Newport Storm IPA      Coastal Extreme Brewing Company   \n",
       "263                   Clean Shave IPA             Glabrous Brewing Company   \n",
       "265                Big Star White IPA          Four String Brewing Company   \n",
       "269                      Back Bay IPA                   Beer Works Brewery   \n",
       "272                   4000 Footer IPA     Woodstock Inn, Station & Brewery   \n",
       "282                        Rule G IPA           Smartmouth Brewing Company   \n",
       "288          Yellow Wolf Imperial IPA                      Alameda Brewing   \n",
       "309                           IPA #11            Cheboygan Brewing Company   \n",
       "320                     Black Hop IPA              Shebeen Brewing Company   \n",
       "326            2014 IPA Cicada Series  Southern Prohibition Brewing Com...   \n",
       "342       Sinister Minister Black IPA  Southern Prohibition Brewing Com...   \n",
       "345                    O’Malley’s IPA               Weston Brewing Company   \n",
       "351                 Charlie's Rye IPA                         Angry Minnow   \n",
       "357                     Watershed IPA                     Oakshire Brewing   \n",
       "364               Ultra Gnar Gnar IPA                Base Camp Brewing Co.   \n",
       "371                 Hoodoo Voodoo IPA                 Three Creeks Brewing   \n",
       "372           Hopportunity Knocks IPA              Caldera Brewing Company   \n",
       "374                 Mothman Black IPA    Greenbrier Valley Brewing Company   \n",
       "...                               ...                                  ...   \n",
       "2186            Hop Ottin' IPA (2011)      Anderson Valley Brewing Company   \n",
       "2195                     Hop Knot IPA           Four Peaks Brewing Company   \n",
       "2198                   Lumberyard IPA           Lumberyard Brewing Company   \n",
       "2203                Sunken Island IPA          Kenai River Brewing Company   \n",
       "2209                   Fire Eagle IPA                     Austin Beerworks   \n",
       "2216                    Ponderosa IPA             Prescott Brewing Company   \n",
       "2225           Gandhi-Bot Double IPA           New England Brewing Company   \n",
       "2228                       Vortex IPA                  Fort George Brewery   \n",
       "2229             Hop Shock IPA (2010)               SanTan Brewing Company   \n",
       "2234         Snake Handler Double IPA          Good People Brewing Company   \n",
       "2236                  Good People IPA          Good People Brewing Company   \n",
       "2245                    11th Hour IPA            Crow Peak Brewing Company   \n",
       "2248                 Happy Camper IPA             Santa Fe Brewing Company   \n",
       "2252                      Lucky U IPA                 Breckenridge Brewery   \n",
       "2261                     Stowaway IPA               Baxter Brewing Company   \n",
       "2281                  Cornerstone IPA      Rochester Mills Brewing Company   \n",
       "2299               Harpoon IPA (2010)                      Harpoon Brewery   \n",
       "2306             Ranger IPA (Current)          New Belgium Brewing Company   \n",
       "2319                    Tallgrass IPA            Tallgrass Brewing Company   \n",
       "2330                  Double Haul IPA         Kettle House Brewing Company   \n",
       "2341                         Epic IPA              Mammoth Brewing Company   \n",
       "2365                  Snapperhead IPA              Butternuts Beer and Ale   \n",
       "2369            Ballz Deep Double IPA               7 Seas Brewing Company   \n",
       "2375           Gandhi-Bot Double IPA           New England Brewing Company   \n",
       "2379            Sea Hag IPA (Current)          New England Brewing Company   \n",
       "2382                      Caldera IPA              Caldera Brewing Company   \n",
       "2387                    Big Swell IPA                 Maui Brewing Company   \n",
       "2394                          113 IPA              Sly Fox Brewing Company   \n",
       "2408            Brew Free! or Die IPA               21st Amendment Brewery   \n",
       "2412               GUBNA Imperial IPA                  Oskar Blues Brewery   \n",
       "\n",
       "                 Location                           Style    Size    ABV  \\\n",
       "48             Denver, CO                    American IPA  12 oz.  0.071   \n",
       "61      Comstock Park, MI                    American IPA  12 oz.  0.050   \n",
       "92       Grand Rapids, MI                    American IPA  16 oz.  0.060   \n",
       "104       Murphysboro, IL                    American IPA  16 oz.  0.075   \n",
       "107    East Fairfield, VT                    American IPA  16 oz.  0.055   \n",
       "111     San Francisco, CA                    American IPA  12 oz.  0.065   \n",
       "132         Roseville, MN  American Double / Imperial IPA  16 oz.  0.083   \n",
       "174          Mt. Airy, MD                    American IPA  16 oz.  0.055   \n",
       "175          Mt. Airy, MD                     Belgian IPA  16 oz.  0.070   \n",
       "203     San Francisco, CA                    American IPA  12 oz.  0.047   \n",
       "248         San Diego, CA                    American IPA  32 oz.  0.068   \n",
       "249        Cincinnati, OH  American Double / Imperial IPA  12 oz.  0.089   \n",
       "252           Newport, RI                    American IPA  12 oz.  0.065   \n",
       "263          Pineland, ME                    American IPA  12 oz.  0.067   \n",
       "265          Columbus, OH              American White IPA  12 oz.  0.070   \n",
       "269            Lowell, MA                    American IPA  12 oz.  0.068   \n",
       "272   North Woodstock, NH                    American IPA  12 oz.  0.065   \n",
       "282           Norfolk, VA                    American IPA  12 oz.  0.070   \n",
       "288          Portland, OR  American Double / Imperial IPA  12 oz.  0.082   \n",
       "309         Cheboygan, MI                    American IPA  16 oz.  0.057   \n",
       "320           Wolcott, CT              American Black Ale  12 oz.  0.068   \n",
       "326       Hattiesburg, MS                    American IPA  16 oz.  0.075   \n",
       "342       Hattiesburg, MS                    American IPA  16 oz.  0.077   \n",
       "345            Weston, MO                    American IPA  12 oz.  0.075   \n",
       "351           Hayward, WI                    American IPA  16 oz.  0.060   \n",
       "357            Eugene, OR                    American IPA  12 oz.  0.067   \n",
       "364          Portland, OR                    American IPA  12 oz.  0.067   \n",
       "371           Sisters, OR                    American IPA  12 oz.  0.062   \n",
       "372           Ashland, OR                    American IPA  12 oz.  0.068   \n",
       "374         Lewisburg, WV              American Black Ale  12 oz.  0.067   \n",
       "...                   ...                             ...     ...    ...   \n",
       "2186        Boonville, CA                    American IPA  12 oz.  0.070   \n",
       "2195            Tempe, AZ                    American IPA  12 oz.  0.067   \n",
       "2198        Flagstaff, AZ                    American IPA  12 oz.  0.061   \n",
       "2203         Soldotna, AK                    American IPA  12 oz.  0.068   \n",
       "2209           Austin, TX                    American IPA  12 oz.  0.062   \n",
       "2216         Prescott, AZ                    American IPA  12 oz.    NaN   \n",
       "2225       Woodbridge, CT  American Double / Imperial IPA  12 oz.  0.088   \n",
       "2228          Astoria, OR                    American IPA  16 oz.  0.074   \n",
       "2229         Chandler, AZ                    American IPA  12 oz.  0.070   \n",
       "2234       Birmingham, AL  American Double / Imperial IPA  12 oz.  0.093   \n",
       "2236       Birmingham, AL                    American IPA  12 oz.  0.060   \n",
       "2245        Spearfish, SD                    American IPA  12 oz.  0.060   \n",
       "2248         Santa Fe, NM                    American IPA  12 oz.  0.066   \n",
       "2252           Denver, CO                    American IPA  12 oz.  0.062   \n",
       "2261         Lewiston, ME                    American IPA  12 oz.  0.069   \n",
       "2281        Rochester, MI                    American IPA  16 oz.  0.070   \n",
       "2299           Boston, MA                    American IPA  12 oz.  0.059   \n",
       "2306     Fort Collins, CO                    American IPA  12 oz.  0.065   \n",
       "2319        Manhattan, KS                    American IPA  16 oz.  0.063   \n",
       "2330         Missoula, MT                    American IPA  16 oz.  0.065   \n",
       "2341    Mammoth Lakes, CA                    American IPA  12 oz.  0.065   \n",
       "2365    Garrattsville, NY                    American IPA  12 oz.  0.068   \n",
       "2369       Gig Harbor, WA  American Double / Imperial IPA  16 oz.  0.084   \n",
       "2375       Woodbridge, CT  American Double / Imperial IPA  16 oz.  0.088   \n",
       "2379       Woodbridge, CT                    American IPA  12 oz.  0.062   \n",
       "2382          Ashland, OR                    American IPA  12 oz.  0.061   \n",
       "2387          Lahaina, HI                    American IPA  12 oz.  0.062   \n",
       "2394        Pottstown, PA                    American IPA  12 oz.  0.070   \n",
       "2408    San Francisco, CA                    American IPA  12 oz.  0.070   \n",
       "2412         Longmont, CO  American Double / Imperial IPA  12 oz.  0.099   \n",
       "\n",
       "       IBUs  \n",
       "48      NaN  \n",
       "61     35.0  \n",
       "92      NaN  \n",
       "104    60.0  \n",
       "107     NaN  \n",
       "111     NaN  \n",
       "132     NaN  \n",
       "174    45.0  \n",
       "175     NaN  \n",
       "203    35.0  \n",
       "248    66.0  \n",
       "249   126.0  \n",
       "252    75.0  \n",
       "263    70.0  \n",
       "265    70.0  \n",
       "269    85.0  \n",
       "272    82.0  \n",
       "282    88.0  \n",
       "288   103.0  \n",
       "309    58.0  \n",
       "320     NaN  \n",
       "326    72.0  \n",
       "342    65.0  \n",
       "345    89.0  \n",
       "351     NaN  \n",
       "357    70.0  \n",
       "364    60.0  \n",
       "371    82.0  \n",
       "372   100.0  \n",
       "374    71.0  \n",
       "...     ...  \n",
       "2186   80.0  \n",
       "2195   47.0  \n",
       "2198    NaN  \n",
       "2203    NaN  \n",
       "2209    NaN  \n",
       "2216    NaN  \n",
       "2225   85.0  \n",
       "2228   97.0  \n",
       "2229   85.0  \n",
       "2234  103.0  \n",
       "2236   64.0  \n",
       "2245    NaN  \n",
       "2248    NaN  \n",
       "2252   68.0  \n",
       "2261   69.0  \n",
       "2281    NaN  \n",
       "2299   42.0  \n",
       "2306   70.0  \n",
       "2319   60.0  \n",
       "2330   65.0  \n",
       "2341    NaN  \n",
       "2365    NaN  \n",
       "2369   82.0  \n",
       "2375   85.0  \n",
       "2379    NaN  \n",
       "2382   94.0  \n",
       "2387   65.0  \n",
       "2394  113.0  \n",
       "2408   65.0  \n",
       "2412  100.0  \n",
       "\n",
       "[336 rows x 7 columns]"
      ]
     },
     "execution_count": 22,
     "metadata": {},
     "output_type": "execute_result"
    }
   ],
   "source": [
    "df[df.Beer.str.contains(\"IPA\", na=False)]"
   ]
  },
  {
   "cell_type": "markdown",
   "metadata": {},
   "source": [
    "IPAs are usually pretty hoppy and bitter. IBU stands for [International Bitterness Unit](http://www.thebrewenthusiast.com/ibus/), and while a lot of places like to brag about having the most bitter beer (it's an American thing!), IBUs don't necessary *mean anything*.\n",
    "\n",
    "Let's look at how different beers have different IBU measurements."
   ]
  },
  {
   "cell_type": "markdown",
   "metadata": {},
   "source": [
    "## Try to get the average IBU measurement across all beers"
   ]
  },
  {
   "cell_type": "code",
   "execution_count": 23,
   "metadata": {},
   "outputs": [],
   "source": [
    "#df[\"IBUs\"] = df.IBUs.replace([\"NaN\", np.nan]) did not use this..."
   ]
  },
  {
   "cell_type": "code",
   "execution_count": 24,
   "metadata": {},
   "outputs": [],
   "source": [
    "#df[\"IBUs\"] = df.IBUs.replace([\"Does not apply\"]) did not use this..."
   ]
  },
  {
   "cell_type": "code",
   "execution_count": 23,
   "metadata": {},
   "outputs": [],
   "source": [
    "df['IBUs'] = df['IBUs'].astype('float')"
   ]
  },
  {
   "cell_type": "markdown",
   "metadata": {},
   "source": [
    "### Oh no, it doesn't work!\n",
    "\n",
    "It looks like some of those values *aren't numbers*. There are two ways to fix this:\n",
    "\n",
    "1. Do the `.replace` and `np.nan` thing we did in class. Then convert the column to a number. This is boring.\n",
    "2. When you're reading in your csv, there [is an option called `na_values`](http://pandas.pydata.org/pandas-docs/version/0.23/generated/pandas.read_csv.html). You can give it a list of **numbers or strings to count as `NaN`**. It's a lot easier than doing the `np.nan` thing, although you'll need to go add it up top and run all of your cells again.\n",
    "\n",
    "- *Tip: Make sure you're giving `na_values` a LIST, not just a string*\n",
    "\n",
    "### Now try to get the average IBUs again"
   ]
  },
  {
   "cell_type": "code",
   "execution_count": 24,
   "metadata": {},
   "outputs": [
    {
     "data": {
      "text/plain": [
       "42.71316725978647"
      ]
     },
     "execution_count": 24,
     "metadata": {},
     "output_type": "execute_result"
    }
   ],
   "source": [
    "df.IBUs.mean()"
   ]
  },
  {
   "cell_type": "markdown",
   "metadata": {},
   "source": [
    "## Draw the distribution of IBU measurements, but with *twenty* bins instead of the default of 10\n",
    "\n",
    "- *Tip: Every time I ask for a distribution, I'm looking for a histogram*\n",
    "- *Tip: Use the `?` to get all of the options for building a histogram*\n",
    "- *Tip: Make sure your `matplotlib` thing is set up right!*"
   ]
  },
  {
   "cell_type": "code",
   "execution_count": 25,
   "metadata": {},
   "outputs": [
    {
     "data": {
      "text/plain": [
       "<matplotlib.axes._subplots.AxesSubplot at 0x11a9d410>"
      ]
     },
     "execution_count": 25,
     "metadata": {},
     "output_type": "execute_result"
    },
    {
     "data": {
      "image/png": "[encoded data removed]",
      "text/plain": [
       "<Figure size 432x288 with 1 Axes>"
      ]
     },
     "metadata": {
      "needs_background": "light"
     },
     "output_type": "display_data"
    }
   ],
   "source": [
    "df.IBUs.hist(bins=20)"
   ]
  },
  {
   "cell_type": "markdown",
   "metadata": {},
   "source": [
    "## Hm, Interesting distribution. List all of the beers with IBUs above the 75th percentile\n",
    "\n",
    "- *Tip: There's a single that gives you the 25/50/75th percentile*\n",
    "- *Tip: You can just manually type the number when you list those beers*"
   ]
  },
  {
   "cell_type": "code",
   "execution_count": 26,
   "metadata": {},
   "outputs": [
    {
     "data": {
      "text/plain": [
       "6                          Citra Ass Down\n",
       "7                          London Balling\n",
       "14                            Rico Sauvin\n",
       "17                           Pile of Face\n",
       "21                             Excess IPL\n",
       "22                         Hoponius Union\n",
       "24                         Habitus (2014)\n",
       "25                                  Solis\n",
       "27                                Habitus\n",
       "46                    Yeti Imperial Stout\n",
       "59      98 Problems (Cuz A Hop Ain't One)\n",
       "62                           Train Hopper\n",
       "68                                   Csar\n",
       "69                         Saucy Intruder\n",
       "79                             The Gadget\n",
       "89                             Gone A-Rye\n",
       "93                          Heavy Lifting\n",
       "110                               Jah Mon\n",
       "123                        Flying Mouse 4\n",
       "149                        Citra Ass Down\n",
       "168                            Soul Doubt\n",
       "170                          Bimini Twist\n",
       "178                             Long Leaf\n",
       "182                        Double Duckpin\n",
       "186                            Hop A-Peel\n",
       "192                                Wobble\n",
       "218                      Hopkick Dropkick\n",
       "226                            Union Jack\n",
       "229                        India Pale Ale\n",
       "239                          Self Starter\n",
       "                      ...                \n",
       "2181                       Upstate I.P.W.\n",
       "2182                         Heady Topper\n",
       "2186                Hop Ottin' IPA (2011)\n",
       "2218                                  WET\n",
       "2225               Gandhi-Bot Double IPA \n",
       "2228                           Vortex IPA\n",
       "2229                 Hop Shock IPA (2010)\n",
       "2234             Snake Handler Double IPA\n",
       "2252                          Lucky U IPA\n",
       "2257                       The Corruption\n",
       "2261                         Stowaway IPA\n",
       "2267                        Back in Black\n",
       "2306                 Ranger IPA (Current)\n",
       "2313                 Avery India Pale Ale\n",
       "2316                         Oasis (2010)\n",
       "2326                   Third Eye Pale Ale\n",
       "2330                      Double Haul IPA\n",
       "2349                      Modus Hoperandi\n",
       "2369                Ballz Deep Double IPA\n",
       "2375               Gandhi-Bot Double IPA \n",
       "2382                          Caldera IPA\n",
       "2387                        Big Swell IPA\n",
       "2394                              113 IPA\n",
       "2403                         Abrasive Ale\n",
       "2406                              Furious\n",
       "2408                Brew Free! or Die IPA\n",
       "2410              Ten Fidy Imperial Stout\n",
       "2412                   GUBNA Imperial IPA\n",
       "2414                    Gordon Ale (2009)\n",
       "2415                      Dale's Pale Ale\n",
       "Name: Beer, Length: 346, dtype: object"
      ]
     },
     "execution_count": 26,
     "metadata": {},
     "output_type": "execute_result"
    }
   ],
   "source": [
    "df[df.IBUs > df.IBUs.quantile(0.75)].Beer"
   ]
  },
  {
   "cell_type": "markdown",
   "metadata": {},
   "source": [
    "## List all of the beers with IBUs below the 25th percentile"
   ]
  },
  {
   "cell_type": "code",
   "execution_count": 27,
   "metadata": {},
   "outputs": [
    {
     "data": {
      "text/plain": [
       "0                                Get Together\n",
       "1                               Maggie's Leap\n",
       "3                                     Pumpion\n",
       "4                                  Stronghold\n",
       "5                                 Parapet ESB\n",
       "6                              Citra Ass Down\n",
       "7                              London Balling\n",
       "8                                        35 K\n",
       "9                                      A Beer\n",
       "10                            Rules are Rules\n",
       "14                                Rico Sauvin\n",
       "15                           Coq de la Marche\n",
       "17                               Pile of Face\n",
       "21                                 Excess IPL\n",
       "22                             Hoponius Union\n",
       "23                                   Calyptra\n",
       "24                             Habitus (2014)\n",
       "25                                      Solis\n",
       "26                                   Jucundus\n",
       "27                                    Habitus\n",
       "28                                    Grazias\n",
       "29                                   Claritas\n",
       "33                                   Villager\n",
       "46                        Yeti Imperial Stout\n",
       "49                              Peck's Porter\n",
       "50                                  Dark Star\n",
       "55                                   Nordskye\n",
       "59          98 Problems (Cuz A Hop Ain't One)\n",
       "60                   Veteran’s Pale Ale (VPA)\n",
       "61                             Grapefruit IPA\n",
       "                        ...                  \n",
       "2371                       Pine Belt Pale Ale\n",
       "2375                   Gandhi-Bot Double IPA \n",
       "2380                  Caldera Pale Ale (2011)\n",
       "2381                        Ashland Amber Ale\n",
       "2382                              Caldera IPA\n",
       "2383          Montana Trout Slayer Ale (2009)\n",
       "2384             Moose Drool Brown Ale (2009)\n",
       "2386                           CoCoNut Porter\n",
       "2387                            Big Swell IPA\n",
       "2390              Tule Duck Red Ale (Current)\n",
       "2391    Original Orange Blossom Ale (Current)\n",
       "2392              Black Noddy Lager (Current)\n",
       "2394                                  113 IPA\n",
       "2397                            Pikeland Pils\n",
       "2398                         Phoenix Pale Ale\n",
       "2399                            Bitter Brewer\n",
       "2400                                SurlyFest\n",
       "2401                            Coffee Bender\n",
       "2402                                   Bender\n",
       "2403                             Abrasive Ale\n",
       "2405                                 CynicAle\n",
       "2406                                  Furious\n",
       "2407                             Monk's Blood\n",
       "2408                    Brew Free! or Die IPA\n",
       "2410                  Ten Fidy Imperial Stout\n",
       "2411                 Mama's Little Yella Pils\n",
       "2412                       GUBNA Imperial IPA\n",
       "2413                                 Old Chub\n",
       "2414                        Gordon Ale (2009)\n",
       "2415                          Dale's Pale Ale\n",
       "Name: Beer, Length: 1045, dtype: object"
      ]
     },
     "execution_count": 27,
     "metadata": {},
     "output_type": "execute_result"
    }
   ],
   "source": [
    "df[df.IBUs > df.IBUs.quantile(0.25)].Beer"
   ]
  },
  {
   "cell_type": "markdown",
   "metadata": {},
   "source": [
    "## List the median IBUs of each type of beer. Graph it.\n",
    "\n",
    "Put the highest at the top, and the missing ones at the bottom.\n",
    "\n",
    "- Tip: Look at the options for `sort_values` to figure out the `NaN` thing. The `?` probably won't help you here."
   ]
  },
  {
   "cell_type": "code",
   "execution_count": 28,
   "metadata": {},
   "outputs": [
    {
     "data": {
      "text/plain": [
       "Style\n",
       "American Barleywine                    96.0\n",
       "Russian Imperial Stout                 94.0\n",
       "American Double / Imperial IPA         91.0\n",
       "American Double / Imperial Pilsner     85.0\n",
       "American Black Ale                     73.0\n",
       "Belgian Strong Dark Ale                72.0\n",
       "American Strong Ale                    70.0\n",
       "American IPA                           69.0\n",
       "English Stout                          66.0\n",
       "American India Pale Lager              65.0\n",
       "Belgian IPA                            61.0\n",
       "English Barleywine                     60.0\n",
       "Rye Beer                               57.0\n",
       "Baltic Porter                          52.0\n",
       "English Strong Ale                     52.0\n",
       "American Double / Imperial Stout       51.0\n",
       "English India Pale Ale (IPA)           47.0\n",
       "American White IPA                     45.0\n",
       "American Pale Ale (APA)                44.0\n",
       "Extra Special / Strong Bitter (ESB)    41.0\n",
       "California Common / Steam Beer         41.0\n",
       "Old Ale                                40.0\n",
       "American Stout                         40.0\n",
       "Altbier                                36.5\n",
       "Foreign / Export Stout                 36.0\n",
       "Smoked Beer                            35.0\n",
       "Belgian Dark Ale                       35.0\n",
       "German Pilsener                        35.0\n",
       "Irish Dry Stout                        34.0\n",
       "Czech Pilsener                         33.0\n",
       "                                       ... \n",
       "Munich Dunkel Lager                    21.0\n",
       "English Brown Ale                      20.5\n",
       "American Blonde Ale                    20.0\n",
       "American Pale Wheat Ale                20.0\n",
       "Roggenbier                             20.0\n",
       "Pumpkin Ale                            20.0\n",
       "Keller Bier / Zwickel Bier             20.0\n",
       "Cream Ale                              20.0\n",
       "American Pale Lager                    18.5\n",
       "Munich Helles Lager                    18.0\n",
       "English Pale Mild Ale                  16.0\n",
       "Dunkelweizen                           16.0\n",
       "Other                                  16.0\n",
       "Witbier                                15.5\n",
       "Fruit / Vegetable Beer                 15.5\n",
       "Herbed / Spiced Beer                   15.0\n",
       "Hefeweizen                             15.0\n",
       "Light Lager                            12.0\n",
       "Gose                                   10.0\n",
       "American Adjunct Lager                  9.0\n",
       "Berliner Weissbier                      8.0\n",
       "American Malt Liquor                    NaN\n",
       "Braggot                                 NaN\n",
       "Cider                                   NaN\n",
       "Flanders Red Ale                        NaN\n",
       "Kristalweizen                           NaN\n",
       "Low Alcohol Beer                        NaN\n",
       "Mead                                    NaN\n",
       "Rauchbier                               NaN\n",
       "Shandy                                  NaN\n",
       "Name: IBUs, Length: 99, dtype: float64"
      ]
     },
     "execution_count": 28,
     "metadata": {},
     "output_type": "execute_result"
    }
   ],
   "source": [
    "df.groupby(by='Style').IBUs.median().sort_values(ascending=False, na_position='last')"
   ]
  },
  {
   "cell_type": "code",
   "execution_count": 29,
   "metadata": {},
   "outputs": [
    {
     "data": {
      "text/plain": [
       "<matplotlib.axes._subplots.AxesSubplot at 0x1343770>"
      ]
     },
     "execution_count": 29,
     "metadata": {},
     "output_type": "execute_result"
    },
    {
     "data": {
      "image/png": "[encoded data removed]",
      "text/plain": [
       "<Figure size 720x1800 with 1 Axes>"
      ]
     },
     "metadata": {
      "needs_background": "light"
     },
     "output_type": "display_data"
    }
   ],
   "source": [
    "df.groupby(by='Style').IBUs.median().sort_values(na_position='first').plot(figsize=(10,25), kind=\"barh\")\n",
    "#great graph"
   ]
  },
  {
   "cell_type": "markdown",
   "metadata": {},
   "source": [
    "## Hmmmm, it looks like they are generally different styles. What are the most common 5 styles of high-IBU beer vs. low-IBU beer?\n",
    "\n",
    "- *Tip: You'll want to think about it in three pieces - filtering to only find the specific beers beers, then finding out what the most common styles are, then getting the top 5.*\n",
    "- *Tip: You CANNOT do this in one command. It's going to be one command for the high and one for the low.*\n",
    "- *Tip: \"High IBU\" means higher than 75th percentile, \"Low IBU\" is under 25th percentile*"
   ]
  },
  {
   "cell_type": "code",
   "execution_count": 30,
   "metadata": {},
   "outputs": [
    {
     "data": {
      "text/plain": [
       "American IPA                      195\n",
       "American Double / Imperial IPA     72\n",
       "American Pale Ale (APA)            18\n",
       "American Black Ale                 15\n",
       "American Strong Ale                 9\n",
       "Name: Style, dtype: int64"
      ]
     },
     "execution_count": 30,
     "metadata": {},
     "output_type": "execute_result"
    }
   ],
   "source": [
    "df[df.IBUs > df.IBUs.quantile(0.75)].Style.value_counts().head()"
   ]
  },
  {
   "cell_type": "code",
   "execution_count": 31,
   "metadata": {},
   "outputs": [
    {
     "data": {
      "text/plain": [
       "American Pale Wheat Ale    43\n",
       "American Blonde Ale        36\n",
       "Fruit / Vegetable Beer     28\n",
       "Hefeweizen                 21\n",
       "Witbier                    20\n",
       "Name: Style, dtype: int64"
      ]
     },
     "execution_count": 31,
     "metadata": {},
     "output_type": "execute_result"
    }
   ],
   "source": [
    "df[df.IBUs < df.IBUs.quantile(0.25)].Style.value_counts().head()"
   ]
  },
  {
   "cell_type": "markdown",
   "metadata": {},
   "source": [
    "## Get the average IBU of \"Witbier\", \"Hefeweizen\" and \"American Pale Wheat Ale\" styles\n",
    "\n",
    "I'm counting these as wheat beers. If you see any other wheat beer categories, feel free to include them. I want ONE measurement and ONE graph, not three separate ones. And 20 to 30 bins in the histogram, please.\n",
    "\n",
    "- *Tip: I hope that `isin` is in your toolbox*"
   ]
  },
  {
   "cell_type": "code",
   "execution_count": 32,
   "metadata": {},
   "outputs": [],
   "source": [
    "wheat_beers = [\"Witbier\", \"Hefeweizen\", \"American Pale Wheat Ale\"]"
   ]
  },
  {
   "cell_type": "code",
   "execution_count": 35,
   "metadata": {},
   "outputs": [
    {
     "data": {
      "text/plain": [
       "18.982142857142858"
      ]
     },
     "execution_count": 35,
     "metadata": {},
     "output_type": "execute_result"
    }
   ],
   "source": [
    "#df[df.Style.isin(wheat_beers)].groupby(by='Style').IBUs.mean() I think you don't want this.. do you?\n",
    "df[df.Style.isin(wheat_beers)].IBUs.mean()"
   ]
  },
  {
   "cell_type": "code",
   "execution_count": 36,
   "metadata": {},
   "outputs": [
    {
     "data": {
      "text/plain": [
       "<matplotlib.axes._subplots.AxesSubplot at 0x135b6730>"
      ]
     },
     "execution_count": 36,
     "metadata": {},
     "output_type": "execute_result"
    },
    {
     "data": {
      "image/png": "[encoded data removed]",
      "text/plain": [
       "<Figure size 432x288 with 1 Axes>"
      ]
     },
     "metadata": {
      "needs_background": "light"
     },
     "output_type": "display_data"
    }
   ],
   "source": [
    "df[df.Style.isin(wheat_beers)].groupby(by='Style').IBUs.mean().hist()\n",
    "#whithout grouping it does not really make sense...."
   ]
  },
  {
   "cell_type": "markdown",
   "metadata": {},
   "source": [
    "## Draw a histogram of the IBUs of those beers"
   ]
  },
  {
   "cell_type": "code",
   "execution_count": 37,
   "metadata": {},
   "outputs": [],
   "source": [
    "#ist that the previous question?"
   ]
  },
  {
   "cell_type": "markdown",
   "metadata": {},
   "source": [
    "## Get the average IBU of any style with \"IPA\" in it (also draw a histogram)"
   ]
  },
  {
   "cell_type": "code",
   "execution_count": 38,
   "metadata": {},
   "outputs": [
    {
     "data": {
      "text/plain": [
       "71.68333333333334"
      ]
     },
     "execution_count": 38,
     "metadata": {},
     "output_type": "execute_result"
    }
   ],
   "source": [
    "df[df.Beer.str.contains(\"IPA\", na=False)].IBUs.mean()"
   ]
  },
  {
   "cell_type": "code",
   "execution_count": 39,
   "metadata": {},
   "outputs": [
    {
     "data": {
      "text/plain": [
       "<matplotlib.axes._subplots.AxesSubplot at 0x13611c10>"
      ]
     },
     "execution_count": 39,
     "metadata": {},
     "output_type": "execute_result"
    },
    {
     "data": {
      "image/png": "[encoded data removed]",
      "text/plain": [
       "<Figure size 432x288 with 1 Axes>"
      ]
     },
     "metadata": {
      "needs_background": "light"
     },
     "output_type": "display_data"
    }
   ],
   "source": [
    "df[df.Beer.str.contains(\"IPA\", na=False)].groupby(by=\"Style\").IBUs.mean().hist()\n",
    "#numpy problem???!?!?!"
   ]
  },
  {
   "cell_type": "markdown",
   "metadata": {},
   "source": [
    "## Plot those two histograms on top of one another\n",
    "\n",
    "To plot two plots on top of one another, you do two steps.\n",
    "\n",
    "1. First, you make a plot using `plot` or `hist`, and you save it into a variable called `ax`.\n",
    "2. You draw your second graph using `plot` or `hist`, and send `ax=ax` to it as a parameter.\n",
    "\n",
    "It would look something like this:\n",
    "\n",
    "```python\n",
    "ax = df.plot(....)\n",
    "df.plot(ax=ax, ....)\n",
    "``` \n",
    "\n",
    "(...except totally different)"
   ]
  },
  {
   "cell_type": "code",
   "execution_count": 40,
   "metadata": {},
   "outputs": [
    {
     "data": {
      "text/plain": [
       "<matplotlib.axes._subplots.AxesSubplot at 0x1367ee70>"
      ]
     },
     "execution_count": 40,
     "metadata": {},
     "output_type": "execute_result"
    },
    {
     "data": {
      "image/png": "[encoded data removed]",
      "text/plain": [
       "<Figure size 432x288 with 3 Axes>"
      ]
     },
     "metadata": {
      "needs_background": "light"
     },
     "output_type": "display_data"
    }
   ],
   "source": [
    "fig, ax = plt.subplots()\n",
    "ax1 = fig.add_subplot(211)\n",
    "ax2 = fig.add_subplot(212)\n",
    "\n",
    "df[df.Style.isin(wheat_beers)].groupby(by='Style').IBUs.mean().hist(ax=ax1)\n",
    "df[df.Beer.str.contains(\"IPA\", na=False)].groupby(by=\"Style\").IBUs.mean().hist(ax=ax2)"
   ]
  },
  {
   "cell_type": "markdown",
   "metadata": {},
   "source": [
    "## Compare the ABV of wheat beers vs. IPAs : their IBUs were really different, but how about their alcohol percentage?\n",
    "\n",
    "Wheat beers might include witbier, hefeweizen, American Pale Wheat Ale, and anything else you think is wheaty. IPAs probably have \"IPA\" in their name."
   ]
  },
  {
   "cell_type": "code",
   "execution_count": 43,
   "metadata": {},
   "outputs": [],
   "source": [
    "df_IPA = df[df.Beer.str.contains(\"IPA\", na=False)]\n",
    "df_WHEAT = df[df.Style.isin(wheat_beers)]"
   ]
  },
  {
   "cell_type": "code",
   "execution_count": 88,
   "metadata": {},
   "outputs": [
    {
     "name": "stdout",
     "output_type": "stream",
     "text": [
      "ABV comparison:\n",
      "Wheat beers: 5.04 %\n",
      "IPA beers: 6.78 %\n",
      "\n",
      "IBU comparison:\n",
      "Wheat beers: 18.98\n",
      "IPA beers: 71.68\n"
     ]
    }
   ],
   "source": [
    "print(\"ABV comparison:\")\n",
    "print(\"Wheat beers:\", round(df_WHEAT.ABV.mean() * 100,2),\"%\")\n",
    "print(\"IPA beers:\", round(df_IPA.ABV.mean() * 100,2),\"%\")\n",
    "print(\"\")\n",
    "print(\"IBU comparison:\")\n",
    "print(\"Wheat beers:\", round(df_WHEAT.IBUs.mean(),2))\n",
    "print(\"IPA beers:\", round(df_IPA.IBUs.mean(),2))"
   ]
  },
  {
   "cell_type": "markdown",
   "metadata": {
    "collapsed": true
   },
   "source": [
    "## Good work!\n",
    "\n",
    "If you made it this far you deserve a drink."
   ]
  },
  {
   "cell_type": "code",
   "execution_count": null,
   "metadata": {},
   "outputs": [],
   "source": []
  },
  {
   "cell_type": "code",
   "execution_count": null,
   "metadata": {},
   "outputs": [],
   "source": []
  }
 ],
 "metadata": {
  "kernelspec": {
   "display_name": "Python 3",
   "language": "python",
   "name": "python3"
  },
  "language_info": {
   "codemirror_mode": {
    "name": "ipython",
    "version": 3
   },
   "file_extension": ".py",
   "mimetype": "text/x-python",
   "name": "python",
   "nbconvert_exporter": "python",
   "pygments_lexer": "ipython3",
   "version": "3.7.3"
  }
 },
 "nbformat": 4,
 "nbformat_minor": 2
}
