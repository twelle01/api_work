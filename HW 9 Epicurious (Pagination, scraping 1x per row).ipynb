{
 "cells": [
  {
   "cell_type": "code",
   "execution_count": 1,
   "metadata": {},
   "outputs": [],
   "source": [
    "import requests\n",
    "import pandas as pd\n",
    "import re\n",
    "import numpy as np\n",
    "from bs4 import BeautifulSoup"
   ]
  },
  {
   "cell_type": "code",
   "execution_count": 2,
   "metadata": {},
   "outputs": [],
   "source": [
    "headers = {'User-Agent': 'Mozilla/5.0 (Macintosh; Intel Mac OS X 10_10_1) AppleWebKit/537.36 (KHTML, like Gecko) Chrome/39.0.2171.95 Safari/537.36'}\n",
    "\n",
    "response = requests.get('https://www.epicurious.com/search/cucumbers', headers=headers)\n",
    "doc = BeautifulSoup(response.text)"
   ]
  },
  {
   "cell_type": "code",
   "execution_count": 4,
   "metadata": {},
   "outputs": [],
   "source": [
    "rows = []\n",
    "cucumbers = doc.find_all(\"article\")\n",
    "for cucumber in cucumbers:\n",
    "    row = {}\n",
    "    try: row[\"recipe_name\"] = cucumber.find(class_='hed').text\n",
    "    except: pass \n",
    "    try: row[\"slug\"] = cucumber.find(class_='hed')('a')[0]['href']\n",
    "    except: pass \n",
    "    try: row[\"make_again\"] = cucumber.find(class_='make-again-percentage').text\n",
    "    except: pass \n",
    "    try: row[\"rating\"] = cucumber.find(itemprop='ratingValue').text.strip()\n",
    "    except: pass \n",
    "    try: row['summary'] = cucumber.find(class_=\"dek\").text.strip()\n",
    "    except: pass\n",
    "    try: row['tag'] = cucumber.find(class_=\"tag\").text.strip()\n",
    "    except: pass\n",
    "    rows.append(row)\n",
    "\n",
    "    df = pd.DataFrame(rows)"
   ]
  },
  {
   "cell_type": "code",
   "execution_count": 5,
   "metadata": {},
   "outputs": [
    {
     "data": {
      "text/html": [
       "<div>\n",
       "<style scoped>\n",
       "    .dataframe tbody tr th:only-of-type {\n",
       "        vertical-align: middle;\n",
       "    }\n",
       "\n",
       "    .dataframe tbody tr th {\n",
       "        vertical-align: top;\n",
       "    }\n",
       "\n",
       "    .dataframe thead th {\n",
       "        text-align: right;\n",
       "    }\n",
       "</style>\n",
       "<table border=\"1\" class=\"dataframe\">\n",
       "  <thead>\n",
       "    <tr style=\"text-align: right;\">\n",
       "      <th></th>\n",
       "      <th>make_again</th>\n",
       "      <th>rating</th>\n",
       "      <th>recipe_name</th>\n",
       "      <th>slug</th>\n",
       "      <th>summary</th>\n",
       "      <th>tag</th>\n",
       "    </tr>\n",
       "  </thead>\n",
       "  <tbody>\n",
       "    <tr>\n",
       "      <th>0</th>\n",
       "      <td>100%</td>\n",
       "      <td>4</td>\n",
       "      <td>Spicy Lightly Pickled Cucumbers</td>\n",
       "      <td>/recipes/food/views/spicy-lightly-pickled-cucu...</td>\n",
       "      <td>These quick pickles have just the right amount...</td>\n",
       "      <td>recipe</td>\n",
       "    </tr>\n",
       "    <tr>\n",
       "      <th>1</th>\n",
       "      <td>100%</td>\n",
       "      <td>4</td>\n",
       "      <td>Cucumbers with Ajo Blanco Sauce</td>\n",
       "      <td>/recipes/food/views/cucumbers-with-ajo-blanco-...</td>\n",
       "      <td>Think of this as an all-purpose garlic sauce. ...</td>\n",
       "      <td>recipe</td>\n",
       "    </tr>\n",
       "    <tr>\n",
       "      <th>2</th>\n",
       "      <td>0%</td>\n",
       "      <td>2</td>\n",
       "      <td>Cold Beef Tenderloin with Tomatoes and Cucumbers</td>\n",
       "      <td>/recipes/food/views/cold-beef-tenderloin-with-...</td>\n",
       "      <td>Beef tenderloin is precious enough to baby on ...</td>\n",
       "      <td>recipe</td>\n",
       "    </tr>\n",
       "    <tr>\n",
       "      <th>3</th>\n",
       "      <td>100%</td>\n",
       "      <td>3</td>\n",
       "      <td>Grain Salad with Tomatoes and Cucumbers</td>\n",
       "      <td>/recipes/food/views/farro-spelt-grain-salad-wi...</td>\n",
       "      <td>We call for semi-pearled grains because they c...</td>\n",
       "      <td>recipe</td>\n",
       "    </tr>\n",
       "    <tr>\n",
       "      <th>4</th>\n",
       "      <td>100%</td>\n",
       "      <td>3</td>\n",
       "      <td>Fried Fish Sandwiches with Cucumbers and Tarta...</td>\n",
       "      <td>/recipes/food/views/fried-fish-sandwiches-with...</td>\n",
       "      <td>Take your cast-iron pan to the grill for this ...</td>\n",
       "      <td>recipe</td>\n",
       "    </tr>\n",
       "  </tbody>\n",
       "</table>\n",
       "</div>"
      ],
      "text/plain": [
       "  make_again rating                                        recipe_name  \\\n",
       "0       100%      4                    Spicy Lightly Pickled Cucumbers   \n",
       "1       100%      4                    Cucumbers with Ajo Blanco Sauce   \n",
       "2         0%      2   Cold Beef Tenderloin with Tomatoes and Cucumbers   \n",
       "3       100%      3            Grain Salad with Tomatoes and Cucumbers   \n",
       "4       100%      3  Fried Fish Sandwiches with Cucumbers and Tarta...   \n",
       "\n",
       "                                                slug  \\\n",
       "0  /recipes/food/views/spicy-lightly-pickled-cucu...   \n",
       "1  /recipes/food/views/cucumbers-with-ajo-blanco-...   \n",
       "2  /recipes/food/views/cold-beef-tenderloin-with-...   \n",
       "3  /recipes/food/views/farro-spelt-grain-salad-wi...   \n",
       "4  /recipes/food/views/fried-fish-sandwiches-with...   \n",
       "\n",
       "                                             summary     tag  \n",
       "0  These quick pickles have just the right amount...  recipe  \n",
       "1  Think of this as an all-purpose garlic sauce. ...  recipe  \n",
       "2  Beef tenderloin is precious enough to baby on ...  recipe  \n",
       "3  We call for semi-pearled grains because they c...  recipe  \n",
       "4  Take your cast-iron pan to the grill for this ...  recipe  "
      ]
     },
     "execution_count": 5,
     "metadata": {},
     "output_type": "execute_result"
    }
   ],
   "source": [
    "df.head()"
   ]
  },
  {
   "cell_type": "code",
   "execution_count": 6,
   "metadata": {},
   "outputs": [
    {
     "data": {
      "text/plain": [
       "(19, 6)"
      ]
     },
     "execution_count": 6,
     "metadata": {},
     "output_type": "execute_result"
    }
   ],
   "source": [
    "df.shape"
   ]
  },
  {
   "cell_type": "code",
   "execution_count": 7,
   "metadata": {},
   "outputs": [
    {
     "name": "stdout",
     "output_type": "stream",
     "text": [
      "Now scraping: https://www.epicurious.com/search/cucumbers?page=1\n",
      "Now scraping: https://www.epicurious.com/search/cucumbers?page=2\n",
      "Now scraping: https://www.epicurious.com/search/cucumbers?page=3\n",
      "Now scraping: https://www.epicurious.com/search/cucumbers?page=4\n",
      "Now scraping: https://www.epicurious.com/search/cucumbers?page=5\n",
      "Now scraping: https://www.epicurious.com/search/cucumbers?page=6\n",
      "Now scraping: https://www.epicurious.com/search/cucumbers?page=7\n",
      "Now scraping: https://www.epicurious.com/search/cucumbers?page=8\n",
      "Now scraping: https://www.epicurious.com/search/cucumbers?page=9\n",
      "Now scraping: https://www.epicurious.com/search/cucumbers?page=10\n"
     ]
    }
   ],
   "source": [
    "rows = []\n",
    "for page_num in range(1,11):\n",
    "    url = f'https://www.epicurious.com/search/cucumbers?page={page_num}'\n",
    "    print(\"Now scraping:\", url)\n",
    "    \n",
    "    response = requests.get(url, headers=headers)\n",
    "    doc = BeautifulSoup(response.text)\n",
    "    \n",
    "    cucumbers = doc.find_all('article')\n",
    "    for cucumber in cucumbers:\n",
    "        row = {}\n",
    "        try: row[\"recipe_name\"] = cucumber.find(class_='hed').text\n",
    "        except: pass \n",
    "        try: row[\"slug\"] = cucumber.find(class_='hed')('a')[0]['href']\n",
    "        except: pass \n",
    "        try: row[\"make_again\"] = cucumber.find(class_='make-again-percentage').text\n",
    "        except: pass \n",
    "        try: row[\"rating\"] = cucumber.find(itemprop='ratingValue').text.strip()\n",
    "        except: pass \n",
    "        try: row['summary'] = cucumber.find(class_=\"dek\").text.strip()\n",
    "        except: pass\n",
    "        try: row['tag'] = cucumber.find(class_=\"tag\").text.strip()\n",
    "        except: pass\n",
    "        rows.append(row)\n",
    "        \n",
    "df = pd.DataFrame(rows)"
   ]
  },
  {
   "cell_type": "code",
   "execution_count": 8,
   "metadata": {},
   "outputs": [
    {
     "data": {
      "text/plain": [
       "(190, 6)"
      ]
     },
     "execution_count": 8,
     "metadata": {},
     "output_type": "execute_result"
    }
   ],
   "source": [
    "df.shape"
   ]
  },
  {
   "cell_type": "code",
   "execution_count": 9,
   "metadata": {},
   "outputs": [
    {
     "data": {
      "text/html": [
       "<div>\n",
       "<style scoped>\n",
       "    .dataframe tbody tr th:only-of-type {\n",
       "        vertical-align: middle;\n",
       "    }\n",
       "\n",
       "    .dataframe tbody tr th {\n",
       "        vertical-align: top;\n",
       "    }\n",
       "\n",
       "    .dataframe thead th {\n",
       "        text-align: right;\n",
       "    }\n",
       "</style>\n",
       "<table border=\"1\" class=\"dataframe\">\n",
       "  <thead>\n",
       "    <tr style=\"text-align: right;\">\n",
       "      <th></th>\n",
       "      <th>make_again</th>\n",
       "      <th>rating</th>\n",
       "      <th>recipe_name</th>\n",
       "      <th>slug</th>\n",
       "      <th>summary</th>\n",
       "      <th>tag</th>\n",
       "    </tr>\n",
       "  </thead>\n",
       "  <tbody>\n",
       "    <tr>\n",
       "      <th>0</th>\n",
       "      <td>100%</td>\n",
       "      <td>4</td>\n",
       "      <td>Spicy Lightly Pickled Cucumbers</td>\n",
       "      <td>/recipes/food/views/spicy-lightly-pickled-cucu...</td>\n",
       "      <td>These quick pickles have just the right amount...</td>\n",
       "      <td>recipe</td>\n",
       "    </tr>\n",
       "    <tr>\n",
       "      <th>1</th>\n",
       "      <td>100%</td>\n",
       "      <td>4</td>\n",
       "      <td>Cucumbers with Ajo Blanco Sauce</td>\n",
       "      <td>/recipes/food/views/cucumbers-with-ajo-blanco-...</td>\n",
       "      <td>Think of this as an all-purpose garlic sauce. ...</td>\n",
       "      <td>recipe</td>\n",
       "    </tr>\n",
       "    <tr>\n",
       "      <th>2</th>\n",
       "      <td>0%</td>\n",
       "      <td>2</td>\n",
       "      <td>Cold Beef Tenderloin with Tomatoes and Cucumbers</td>\n",
       "      <td>/recipes/food/views/cold-beef-tenderloin-with-...</td>\n",
       "      <td>Beef tenderloin is precious enough to baby on ...</td>\n",
       "      <td>recipe</td>\n",
       "    </tr>\n",
       "    <tr>\n",
       "      <th>3</th>\n",
       "      <td>100%</td>\n",
       "      <td>3</td>\n",
       "      <td>Grain Salad with Tomatoes and Cucumbers</td>\n",
       "      <td>/recipes/food/views/farro-spelt-grain-salad-wi...</td>\n",
       "      <td>We call for semi-pearled grains because they c...</td>\n",
       "      <td>recipe</td>\n",
       "    </tr>\n",
       "    <tr>\n",
       "      <th>4</th>\n",
       "      <td>100%</td>\n",
       "      <td>3</td>\n",
       "      <td>Fried Fish Sandwiches with Cucumbers and Tarta...</td>\n",
       "      <td>/recipes/food/views/fried-fish-sandwiches-with...</td>\n",
       "      <td>Take your cast-iron pan to the grill for this ...</td>\n",
       "      <td>recipe</td>\n",
       "    </tr>\n",
       "  </tbody>\n",
       "</table>\n",
       "</div>"
      ],
      "text/plain": [
       "  make_again rating                                        recipe_name  \\\n",
       "0       100%      4                    Spicy Lightly Pickled Cucumbers   \n",
       "1       100%      4                    Cucumbers with Ajo Blanco Sauce   \n",
       "2         0%      2   Cold Beef Tenderloin with Tomatoes and Cucumbers   \n",
       "3       100%      3            Grain Salad with Tomatoes and Cucumbers   \n",
       "4       100%      3  Fried Fish Sandwiches with Cucumbers and Tarta...   \n",
       "\n",
       "                                                slug  \\\n",
       "0  /recipes/food/views/spicy-lightly-pickled-cucu...   \n",
       "1  /recipes/food/views/cucumbers-with-ajo-blanco-...   \n",
       "2  /recipes/food/views/cold-beef-tenderloin-with-...   \n",
       "3  /recipes/food/views/farro-spelt-grain-salad-wi...   \n",
       "4  /recipes/food/views/fried-fish-sandwiches-with...   \n",
       "\n",
       "                                             summary     tag  \n",
       "0  These quick pickles have just the right amount...  recipe  \n",
       "1  Think of this as an all-purpose garlic sauce. ...  recipe  \n",
       "2  Beef tenderloin is precious enough to baby on ...  recipe  \n",
       "3  We call for semi-pearled grains because they c...  recipe  \n",
       "4  Take your cast-iron pan to the grill for this ...  recipe  "
      ]
     },
     "execution_count": 9,
     "metadata": {},
     "output_type": "execute_result"
    }
   ],
   "source": [
    "df.head()"
   ]
  },
  {
   "cell_type": "code",
   "execution_count": 10,
   "metadata": {},
   "outputs": [],
   "source": [
    "df.to_csv(\"cucumbers.csv\",index=False)"
   ]
  },
  {
   "cell_type": "code",
   "execution_count": 11,
   "metadata": {},
   "outputs": [],
   "source": [
    "df = pd.read_csv(\"cucumbers.csv\")"
   ]
  },
  {
   "cell_type": "code",
   "execution_count": 12,
   "metadata": {},
   "outputs": [],
   "source": [
    "df1 = df[df['tag'] == \"recipe\"]"
   ]
  },
  {
   "cell_type": "code",
   "execution_count": 13,
   "metadata": {},
   "outputs": [
    {
     "data": {
      "text/html": [
       "<div>\n",
       "<style scoped>\n",
       "    .dataframe tbody tr th:only-of-type {\n",
       "        vertical-align: middle;\n",
       "    }\n",
       "\n",
       "    .dataframe tbody tr th {\n",
       "        vertical-align: top;\n",
       "    }\n",
       "\n",
       "    .dataframe thead th {\n",
       "        text-align: right;\n",
       "    }\n",
       "</style>\n",
       "<table border=\"1\" class=\"dataframe\">\n",
       "  <thead>\n",
       "    <tr style=\"text-align: right;\">\n",
       "      <th></th>\n",
       "      <th>make_again</th>\n",
       "      <th>rating</th>\n",
       "      <th>recipe_name</th>\n",
       "      <th>slug</th>\n",
       "      <th>summary</th>\n",
       "      <th>tag</th>\n",
       "    </tr>\n",
       "  </thead>\n",
       "  <tbody>\n",
       "    <tr>\n",
       "      <th>0</th>\n",
       "      <td>100%</td>\n",
       "      <td>4.0</td>\n",
       "      <td>Spicy Lightly Pickled Cucumbers</td>\n",
       "      <td>/recipes/food/views/spicy-lightly-pickled-cucu...</td>\n",
       "      <td>These quick pickles have just the right amount...</td>\n",
       "      <td>recipe</td>\n",
       "    </tr>\n",
       "    <tr>\n",
       "      <th>1</th>\n",
       "      <td>100%</td>\n",
       "      <td>4.0</td>\n",
       "      <td>Cucumbers with Ajo Blanco Sauce</td>\n",
       "      <td>/recipes/food/views/cucumbers-with-ajo-blanco-...</td>\n",
       "      <td>Think of this as an all-purpose garlic sauce. ...</td>\n",
       "      <td>recipe</td>\n",
       "    </tr>\n",
       "    <tr>\n",
       "      <th>2</th>\n",
       "      <td>0%</td>\n",
       "      <td>2.0</td>\n",
       "      <td>Cold Beef Tenderloin with Tomatoes and Cucumbers</td>\n",
       "      <td>/recipes/food/views/cold-beef-tenderloin-with-...</td>\n",
       "      <td>Beef tenderloin is precious enough to baby on ...</td>\n",
       "      <td>recipe</td>\n",
       "    </tr>\n",
       "    <tr>\n",
       "      <th>3</th>\n",
       "      <td>100%</td>\n",
       "      <td>3.0</td>\n",
       "      <td>Grain Salad with Tomatoes and Cucumbers</td>\n",
       "      <td>/recipes/food/views/farro-spelt-grain-salad-wi...</td>\n",
       "      <td>We call for semi-pearled grains because they c...</td>\n",
       "      <td>recipe</td>\n",
       "    </tr>\n",
       "    <tr>\n",
       "      <th>4</th>\n",
       "      <td>100%</td>\n",
       "      <td>3.0</td>\n",
       "      <td>Fried Fish Sandwiches with Cucumbers and Tarta...</td>\n",
       "      <td>/recipes/food/views/fried-fish-sandwiches-with...</td>\n",
       "      <td>Take your cast-iron pan to the grill for this ...</td>\n",
       "      <td>recipe</td>\n",
       "    </tr>\n",
       "  </tbody>\n",
       "</table>\n",
       "</div>"
      ],
      "text/plain": [
       "  make_again  rating                                        recipe_name  \\\n",
       "0       100%     4.0                    Spicy Lightly Pickled Cucumbers   \n",
       "1       100%     4.0                    Cucumbers with Ajo Blanco Sauce   \n",
       "2         0%     2.0   Cold Beef Tenderloin with Tomatoes and Cucumbers   \n",
       "3       100%     3.0            Grain Salad with Tomatoes and Cucumbers   \n",
       "4       100%     3.0  Fried Fish Sandwiches with Cucumbers and Tarta...   \n",
       "\n",
       "                                                slug  \\\n",
       "0  /recipes/food/views/spicy-lightly-pickled-cucu...   \n",
       "1  /recipes/food/views/cucumbers-with-ajo-blanco-...   \n",
       "2  /recipes/food/views/cold-beef-tenderloin-with-...   \n",
       "3  /recipes/food/views/farro-spelt-grain-salad-wi...   \n",
       "4  /recipes/food/views/fried-fish-sandwiches-with...   \n",
       "\n",
       "                                             summary     tag  \n",
       "0  These quick pickles have just the right amount...  recipe  \n",
       "1  Think of this as an all-purpose garlic sauce. ...  recipe  \n",
       "2  Beef tenderloin is precious enough to baby on ...  recipe  \n",
       "3  We call for semi-pearled grains because they c...  recipe  \n",
       "4  Take your cast-iron pan to the grill for this ...  recipe  "
      ]
     },
     "execution_count": 13,
     "metadata": {},
     "output_type": "execute_result"
    }
   ],
   "source": [
    "df1.head()"
   ]
  },
  {
   "cell_type": "code",
   "execution_count": 14,
   "metadata": {},
   "outputs": [],
   "source": [
    "url = \"https://www.epicurious.com/recipes/food/views/spicy-lightly-pickled-cucumbers\"\n",
    "response = requests.get(url)\n",
    "doc = BeautifulSoup(response.text)"
   ]
  },
  {
   "cell_type": "code",
   "execution_count": 15,
   "metadata": {},
   "outputs": [],
   "source": [
    "# ingediants directions and tags"
   ]
  },
  {
   "cell_type": "code",
   "execution_count": 16,
   "metadata": {},
   "outputs": [],
   "source": [
    "ingredients_list = []\n",
    "ingredients = doc.find_all(class_='ingredients')\n",
    "for ingredient in ingredients:\n",
    "    ingredients_list.append(ingredient.text)"
   ]
  },
  {
   "cell_type": "code",
   "execution_count": 17,
   "metadata": {},
   "outputs": [
    {
     "data": {
      "text/plain": [
       "['2 lb. medium Persian cucumbers (about 12), cut lengthwise into spears1/4 cup white wine vinegar or unseasoned rice vinegar1 tsp. sugar3/4 tsp. crushed red pepper flakes2 tsp. kosher salt, plus more2 Tbsp. chopped dill2 Tbsp. fresh lemon juice']"
      ]
     },
     "execution_count": 17,
     "metadata": {},
     "output_type": "execute_result"
    }
   ],
   "source": [
    "ingredients_list"
   ]
  },
  {
   "cell_type": "code",
   "execution_count": 18,
   "metadata": {},
   "outputs": [
    {
     "data": {
      "text/plain": [
       "'Toss cucumbers in a large bowl with vinegar, sugar, red pepper flakes, and 2 tsp. salt. Chill, tossing once, at least 1 hour and up to 6 hours.\\n                                                                            Just before serving, add dill and lemon juice and toss to combine. Taste and season with more salt if needed.'"
      ]
     },
     "execution_count": 18,
     "metadata": {},
     "output_type": "execute_result"
    }
   ],
   "source": [
    "doc.find(class_='preparation-steps').text.strip()"
   ]
  },
  {
   "cell_type": "code",
   "execution_count": 19,
   "metadata": {},
   "outputs": [
    {
     "name": "stdout",
     "output_type": "stream",
     "text": [
      "Bon Appétit\n",
      "Pickles\n",
      "Hors D'Oeuvre\n",
      "Appetizer\n",
      "Side\n",
      "New Year's Eve\n",
      "Cocktail Party\n",
      "Cucumber\n",
      "Dill\n",
      "Vinegar\n",
      "Summer\n"
     ]
    }
   ],
   "source": [
    "tags = doc.find_all(itemprop=\"recipeCategory\")\n",
    "for tag in tags:\n",
    "    print(tag.text)"
   ]
  },
  {
   "cell_type": "code",
   "execution_count": 20,
   "metadata": {},
   "outputs": [
    {
     "name": "stdout",
     "output_type": "stream",
     "text": [
      "We are scraping https://www.epicurious.com/recipes/food/views/spicy-lightly-pickled-cucumbers\n"
     ]
    }
   ],
   "source": [
    "url = \"https://www.epicurious.com/recipes/food/views/spicy-lightly-pickled-cucumbers\"\n",
    "print(\"We are scraping\", url)\n",
    "response = requests.get(url)\n",
    "doc = BeautifulSoup(response.text)\n",
    "\n",
    "page = {}\n",
    "\n",
    "#INGREDIENTS\n",
    "page[\"ingredients_list\"] = []\n",
    "ingredients = doc.find_all(class_='ingredients')\n",
    "for ingredient in ingredients:\n",
    "    page[\"ingredients_list\"].append(ingredient.text)\n",
    "\n",
    "#PREPERATION\n",
    "page[\"prep_steps\"] = []\n",
    "page[\"prep_steps\"].append(doc.find(class_='preparation-steps').text.strip())\n",
    "\n",
    "#TAGs\n",
    "page[\"tags\"] = []\n",
    "tags = doc.find_all(itemprop=\"recipeCategory\")\n",
    "for tag in tags:\n",
    "    page[\"tags\"].append(tag.text)\n",
    "\n"
   ]
  },
  {
   "cell_type": "code",
   "execution_count": 21,
   "metadata": {},
   "outputs": [],
   "source": [
    "def scrape_page(row):\n",
    "    url = f\"https://www.epicurious.com{row['slug']}\"\n",
    "    print(\"Scraping\", row['slug'])"
   ]
  },
  {
   "cell_type": "code",
   "execution_count": 22,
   "metadata": {},
   "outputs": [
    {
     "name": "stdout",
     "output_type": "stream",
     "text": [
      "Scraping /recipes/food/views/spicy-lightly-pickled-cucumbers\n",
      "Scraping /recipes/food/views/cucumbers-with-ajo-blanco-sauce\n",
      "Scraping /recipes/food/views/cold-beef-tenderloin-with-tomatoes-and-cucumbers\n",
      "Scraping /recipes/food/views/farro-spelt-grain-salad-with-tomatoes-and-cucumbers\n",
      "Scraping /recipes/food/views/fried-fish-sandwiches-with-cucumbers-and-tartar-sauce\n",
      "Scraping /recipes/food/views/grilled-charred-cabbage-with-goat-cheese-raita-and-cucumbers\n",
      "Scraping /recipes/food/views/cucumber-seaweed-salad\n",
      "Scraping /recipes/food/views/pineapple-shrimp-noodle-bowls\n",
      "Scraping /recipes/food/views/sambal-shrimp-lettuce-wraps\n",
      "Scraping /recipes/food/views/smashed-cucumber-salad-with-lemon-and-celery-salt\n",
      "Scraping /recipes/food/views/thai-style-squid-and-cucumber-salad\n",
      "Scraping /recipes/food/views/spicy-grilled-chicken-with-crunchy-fennel-salad\n",
      "Scraping /recipes/food/views/grilled-salmon-with-meyer-lemons-and-creamy-cucumber-salad\n",
      "Scraping /recipes/food/views/smashed-cucumber-salad-with-hot-vinegar\n",
      "Scraping /recipes/food/views/sams-spring-cucumber-radish-fattoush-salad\n",
      "Scraping /recipes/food/views/skirt-steak-with-spicy-coconut-dressing\n",
      "Scraping /recipes/food/views/mango-toast-with-hazelnut-pepita-butter\n",
      "Scraping /recipes/food/views/quick-pickled-charred-grilled-vegetables\n",
      "Scraping /recipes/food/views/green-beans-and-cucumbers-with-miso-dressing\n",
      "Scraping /recipes/food/views/fish-milanese-with-cucumber-ceviche\n",
      "Scraping /recipes/food/views/thai-style-pineapple-coconut-rice\n",
      "Scraping /recipes/food/views/rice-noodles-with-peanut-sauce-chicken-and-snap-peas\n",
      "Scraping /recipes/food/views/thai-beef-salad\n",
      "Scraping /recipes/food/views/smashed-cucumbers-and-radishes-in-yogurt-sauce\n",
      "Scraping /recipes/food/views/herby-chicken-kofta-meatballs\n",
      "Scraping /recipes/food/views/teriyaki-steak-skewers-with-asian-style-greens\n",
      "Scraping /recipes/food/views/yogurt-with-raisins-cucumber-and-walnuts\n",
      "Scraping /recipes/food/views/fast-favorite-garlic-dill-pickles-230707\n",
      "Scraping /recipes/food/views/kale-and-cucumber-salad-with-roasted-ginger-dressing\n",
      "Scraping /recipes/food/views/chilled-beet-soup-with-buttermilk-cucumbers-and-dill-chlodnik\n",
      "Scraping /recipes/food/views/flatbread-with-fava-beans-cucumbers-and-burrata\n",
      "Scraping /recipes/food/views/moroccan-skirt-steak-salad-with-chermoula\n",
      "Scraping /recipes/food/views/cucumber-and-raisin-relish-with-mustard-seeds\n",
      "Scraping /recipes/food/views/fresh-dill-cucumbers-with-lemon\n",
      "Scraping /recipes/food/views/crispy-pork-lettuce-wraps-with-spicy-cucumbers-56390119\n",
      "Scraping /recipes/food/views/miso-cured-black-cod-with-chilled-cucumbers-56389995\n",
      "Scraping /recipes/food/views/cold-asian-noodle-salad-with-chicken-and-cucumbers-56389799\n",
      "Scraping /recipes/food/views/cucumbers-with-scallions-and-chili-oil-56389645\n",
      "Scraping /recipes/food/views/strawberry-cucumber-salad-with-lemon-cream-56389861\n",
      "Scraping /recipes/food/views/ginger-dill-pickles-56389773\n",
      "Scraping /recipes/food/views/sweet-and-sour-pickles-56389775\n",
      "Scraping /recipes/food/views/charred-romaine-greek-salad-with-quinoa-crusted-feta-56389585\n"
     ]
    },
    {
     "data": {
      "text/plain": [
       "0      None\n",
       "1      None\n",
       "2      None\n",
       "3      None\n",
       "4      None\n",
       "5      None\n",
       "6      None\n",
       "7      None\n",
       "8      None\n",
       "9      None\n",
       "10     None\n",
       "11     None\n",
       "12     None\n",
       "13     None\n",
       "14     None\n",
       "16     None\n",
       "19     None\n",
       "25     None\n",
       "26     None\n",
       "49     None\n",
       "57     None\n",
       "77     None\n",
       "79     None\n",
       "80     None\n",
       "91     None\n",
       "92     None\n",
       "96     None\n",
       "106    None\n",
       "115    None\n",
       "122    None\n",
       "134    None\n",
       "139    None\n",
       "149    None\n",
       "153    None\n",
       "164    None\n",
       "168    None\n",
       "173    None\n",
       "175    None\n",
       "176    None\n",
       "179    None\n",
       "180    None\n",
       "185    None\n",
       "dtype: object"
      ]
     },
     "execution_count": 22,
     "metadata": {},
     "output_type": "execute_result"
    }
   ],
   "source": [
    "df1.apply(scrape_page, axis=1)"
   ]
  },
  {
   "cell_type": "code",
   "execution_count": 23,
   "metadata": {},
   "outputs": [],
   "source": [
    "def scrape_page(row):\n",
    "    url = f\"https://www.epicurious.com{row['slug']}\"\n",
    "    print(\"Scraping\", row['slug'])\n",
    "\n",
    "    response = requests.get(url)\n",
    "    doc = BeautifulSoup(response.text)\n",
    "\n",
    "    page = {}\n",
    "\n",
    "    #INGREDIENTS\n",
    "    page[\"ingredients_list\"] = []\n",
    "    ingredients = doc.find_all(class_='ingredients')\n",
    "    for ingredient in ingredients:\n",
    "        page[\"ingredients_list\"].append(ingredient.text)\n",
    "\n",
    "    #PREPERATION\n",
    "    page[\"prep_steps\"] = []\n",
    "    page[\"prep_steps\"].append(doc.find(class_='preparation-steps').text.strip())\n",
    "\n",
    "    #TAGs\n",
    "    page[\"tags\"] = []\n",
    "    tags = doc.find_all(itemprop=\"recipeCategory\")\n",
    "    for tag in tags:\n",
    "        page[\"tags\"].append(tag.text)\n",
    "\n",
    "    return pd.Series(page)\n",
    "    \n",
    "    "
   ]
  },
  {
   "cell_type": "code",
   "execution_count": 24,
   "metadata": {},
   "outputs": [
    {
     "name": "stdout",
     "output_type": "stream",
     "text": [
      "Scraping /recipes/food/views/spicy-lightly-pickled-cucumbers\n",
      "Scraping /recipes/food/views/spicy-lightly-pickled-cucumbers\n",
      "Scraping /recipes/food/views/cucumbers-with-ajo-blanco-sauce\n",
      "Scraping /recipes/food/views/cold-beef-tenderloin-with-tomatoes-and-cucumbers\n",
      "Scraping /recipes/food/views/farro-spelt-grain-salad-with-tomatoes-and-cucumbers\n",
      "Scraping /recipes/food/views/fried-fish-sandwiches-with-cucumbers-and-tartar-sauce\n",
      "Scraping /recipes/food/views/grilled-charred-cabbage-with-goat-cheese-raita-and-cucumbers\n",
      "Scraping /recipes/food/views/cucumber-seaweed-salad\n",
      "Scraping /recipes/food/views/pineapple-shrimp-noodle-bowls\n",
      "Scraping /recipes/food/views/sambal-shrimp-lettuce-wraps\n",
      "Scraping /recipes/food/views/smashed-cucumber-salad-with-lemon-and-celery-salt\n",
      "Scraping /recipes/food/views/thai-style-squid-and-cucumber-salad\n",
      "Scraping /recipes/food/views/spicy-grilled-chicken-with-crunchy-fennel-salad\n",
      "Scraping /recipes/food/views/grilled-salmon-with-meyer-lemons-and-creamy-cucumber-salad\n",
      "Scraping /recipes/food/views/smashed-cucumber-salad-with-hot-vinegar\n",
      "Scraping /recipes/food/views/sams-spring-cucumber-radish-fattoush-salad\n",
      "Scraping /recipes/food/views/skirt-steak-with-spicy-coconut-dressing\n",
      "Scraping /recipes/food/views/mango-toast-with-hazelnut-pepita-butter\n",
      "Scraping /recipes/food/views/quick-pickled-charred-grilled-vegetables\n",
      "Scraping /recipes/food/views/green-beans-and-cucumbers-with-miso-dressing\n",
      "Scraping /recipes/food/views/fish-milanese-with-cucumber-ceviche\n",
      "Scraping /recipes/food/views/thai-style-pineapple-coconut-rice\n",
      "Scraping /recipes/food/views/rice-noodles-with-peanut-sauce-chicken-and-snap-peas\n",
      "Scraping /recipes/food/views/thai-beef-salad\n",
      "Scraping /recipes/food/views/smashed-cucumbers-and-radishes-in-yogurt-sauce\n",
      "Scraping /recipes/food/views/herby-chicken-kofta-meatballs\n",
      "Scraping /recipes/food/views/teriyaki-steak-skewers-with-asian-style-greens\n",
      "Scraping /recipes/food/views/yogurt-with-raisins-cucumber-and-walnuts\n",
      "Scraping /recipes/food/views/fast-favorite-garlic-dill-pickles-230707\n",
      "Scraping /recipes/food/views/kale-and-cucumber-salad-with-roasted-ginger-dressing\n",
      "Scraping /recipes/food/views/chilled-beet-soup-with-buttermilk-cucumbers-and-dill-chlodnik\n",
      "Scraping /recipes/food/views/flatbread-with-fava-beans-cucumbers-and-burrata\n",
      "Scraping /recipes/food/views/moroccan-skirt-steak-salad-with-chermoula\n",
      "Scraping /recipes/food/views/cucumber-and-raisin-relish-with-mustard-seeds\n",
      "Scraping /recipes/food/views/fresh-dill-cucumbers-with-lemon\n",
      "Scraping /recipes/food/views/crispy-pork-lettuce-wraps-with-spicy-cucumbers-56390119\n",
      "Scraping /recipes/food/views/miso-cured-black-cod-with-chilled-cucumbers-56389995\n",
      "Scraping /recipes/food/views/cold-asian-noodle-salad-with-chicken-and-cucumbers-56389799\n",
      "Scraping /recipes/food/views/cucumbers-with-scallions-and-chili-oil-56389645\n",
      "Scraping /recipes/food/views/strawberry-cucumber-salad-with-lemon-cream-56389861\n",
      "Scraping /recipes/food/views/ginger-dill-pickles-56389773\n",
      "Scraping /recipes/food/views/sweet-and-sour-pickles-56389775\n",
      "Scraping /recipes/food/views/charred-romaine-greek-salad-with-quinoa-crusted-feta-56389585\n"
     ]
    }
   ],
   "source": [
    "scraped_df1 = df1.apply(scrape_page, axis=1)"
   ]
  },
  {
   "cell_type": "code",
   "execution_count": null,
   "metadata": {},
   "outputs": [],
   "source": []
  },
  {
   "cell_type": "code",
   "execution_count": 30,
   "metadata": {},
   "outputs": [],
   "source": [
    "final_df = df1.merge(scraped_df1, left_index=True, right_index=True)"
   ]
  },
  {
   "cell_type": "code",
   "execution_count": 33,
   "metadata": {},
   "outputs": [],
   "source": [
    "final_df.to_csv(\"scraped_cucumbers.csv\",index=False)"
   ]
  },
  {
   "cell_type": "code",
   "execution_count": 34,
   "metadata": {},
   "outputs": [
    {
     "data": {
      "text/html": [
       "<div>\n",
       "<style scoped>\n",
       "    .dataframe tbody tr th:only-of-type {\n",
       "        vertical-align: middle;\n",
       "    }\n",
       "\n",
       "    .dataframe tbody tr th {\n",
       "        vertical-align: top;\n",
       "    }\n",
       "\n",
       "    .dataframe thead th {\n",
       "        text-align: right;\n",
       "    }\n",
       "</style>\n",
       "<table border=\"1\" class=\"dataframe\">\n",
       "  <thead>\n",
       "    <tr style=\"text-align: right;\">\n",
       "      <th></th>\n",
       "      <th>make_again</th>\n",
       "      <th>rating</th>\n",
       "      <th>recipe_name</th>\n",
       "      <th>slug</th>\n",
       "      <th>summary</th>\n",
       "      <th>tag</th>\n",
       "      <th>ingredients_list</th>\n",
       "      <th>prep_steps</th>\n",
       "      <th>tags</th>\n",
       "    </tr>\n",
       "  </thead>\n",
       "  <tbody>\n",
       "    <tr>\n",
       "      <th>0</th>\n",
       "      <td>100%</td>\n",
       "      <td>4.0</td>\n",
       "      <td>Spicy Lightly Pickled Cucumbers</td>\n",
       "      <td>/recipes/food/views/spicy-lightly-pickled-cucu...</td>\n",
       "      <td>These quick pickles have just the right amount...</td>\n",
       "      <td>recipe</td>\n",
       "      <td>[2 lb. medium Persian cucumbers (about 12), cu...</td>\n",
       "      <td>[Toss cucumbers in a large bowl with vinegar, ...</td>\n",
       "      <td>[Bon Appétit, Pickles, Hors D'Oeuvre, Appetize...</td>\n",
       "    </tr>\n",
       "    <tr>\n",
       "      <th>1</th>\n",
       "      <td>100%</td>\n",
       "      <td>4.0</td>\n",
       "      <td>Cucumbers with Ajo Blanco Sauce</td>\n",
       "      <td>/recipes/food/views/cucumbers-with-ajo-blanco-...</td>\n",
       "      <td>Think of this as an all-purpose garlic sauce. ...</td>\n",
       "      <td>recipe</td>\n",
       "      <td>[5 mini seedless or Persian cucumbers (about 1...</td>\n",
       "      <td>[Preheat oven to 350°F. Cut cucumbers about 1\"...</td>\n",
       "      <td>[Bon Appétit, Sauce, Condiment, Garlic, Almond...</td>\n",
       "    </tr>\n",
       "    <tr>\n",
       "      <th>2</th>\n",
       "      <td>0%</td>\n",
       "      <td>2.0</td>\n",
       "      <td>Cold Beef Tenderloin with Tomatoes and Cucumbers</td>\n",
       "      <td>/recipes/food/views/cold-beef-tenderloin-with-...</td>\n",
       "      <td>Beef tenderloin is precious enough to baby on ...</td>\n",
       "      <td>recipe</td>\n",
       "      <td>[1/4 cup extra-virgin olive oil, plus more1 (3...</td>\n",
       "      <td>[Prepare a grill for 2-zone heat (for a charco...</td>\n",
       "      <td>[Bon Appétit, Dinner, Beef Tenderloin, Beef, T...</td>\n",
       "    </tr>\n",
       "    <tr>\n",
       "      <th>3</th>\n",
       "      <td>100%</td>\n",
       "      <td>3.0</td>\n",
       "      <td>Grain Salad with Tomatoes and Cucumbers</td>\n",
       "      <td>/recipes/food/views/farro-spelt-grain-salad-wi...</td>\n",
       "      <td>We call for semi-pearled grains because they c...</td>\n",
       "      <td>recipe</td>\n",
       "      <td>[2 cups semi-pearled farro or speltKosher salt...</td>\n",
       "      <td>[Preheat oven to 350°F. Cook farro in a large ...</td>\n",
       "      <td>[Bon Appétit, Salad, Side, Grains, Cucumber, T...</td>\n",
       "    </tr>\n",
       "    <tr>\n",
       "      <th>4</th>\n",
       "      <td>100%</td>\n",
       "      <td>3.0</td>\n",
       "      <td>Fried Fish Sandwiches with Cucumbers and Tarta...</td>\n",
       "      <td>/recipes/food/views/fried-fish-sandwiches-with...</td>\n",
       "      <td>Take your cast-iron pan to the grill for this ...</td>\n",
       "      <td>recipe</td>\n",
       "      <td>[1/2 cup mayonnaise1/4 cup finely grated lemon...</td>\n",
       "      <td>[Mix mayonnaise, lemon zest and juice, relish,...</td>\n",
       "      <td>[Bon Appétit, Sandwich, Fish, Seafood, Fry, Be...</td>\n",
       "    </tr>\n",
       "  </tbody>\n",
       "</table>\n",
       "</div>"
      ],
      "text/plain": [
       "  make_again  rating                                        recipe_name  \\\n",
       "0       100%     4.0                    Spicy Lightly Pickled Cucumbers   \n",
       "1       100%     4.0                    Cucumbers with Ajo Blanco Sauce   \n",
       "2         0%     2.0   Cold Beef Tenderloin with Tomatoes and Cucumbers   \n",
       "3       100%     3.0            Grain Salad with Tomatoes and Cucumbers   \n",
       "4       100%     3.0  Fried Fish Sandwiches with Cucumbers and Tarta...   \n",
       "\n",
       "                                                slug  \\\n",
       "0  /recipes/food/views/spicy-lightly-pickled-cucu...   \n",
       "1  /recipes/food/views/cucumbers-with-ajo-blanco-...   \n",
       "2  /recipes/food/views/cold-beef-tenderloin-with-...   \n",
       "3  /recipes/food/views/farro-spelt-grain-salad-wi...   \n",
       "4  /recipes/food/views/fried-fish-sandwiches-with...   \n",
       "\n",
       "                                             summary     tag  \\\n",
       "0  These quick pickles have just the right amount...  recipe   \n",
       "1  Think of this as an all-purpose garlic sauce. ...  recipe   \n",
       "2  Beef tenderloin is precious enough to baby on ...  recipe   \n",
       "3  We call for semi-pearled grains because they c...  recipe   \n",
       "4  Take your cast-iron pan to the grill for this ...  recipe   \n",
       "\n",
       "                                    ingredients_list  \\\n",
       "0  [2 lb. medium Persian cucumbers (about 12), cu...   \n",
       "1  [5 mini seedless or Persian cucumbers (about 1...   \n",
       "2  [1/4 cup extra-virgin olive oil, plus more1 (3...   \n",
       "3  [2 cups semi-pearled farro or speltKosher salt...   \n",
       "4  [1/2 cup mayonnaise1/4 cup finely grated lemon...   \n",
       "\n",
       "                                          prep_steps  \\\n",
       "0  [Toss cucumbers in a large bowl with vinegar, ...   \n",
       "1  [Preheat oven to 350°F. Cut cucumbers about 1\"...   \n",
       "2  [Prepare a grill for 2-zone heat (for a charco...   \n",
       "3  [Preheat oven to 350°F. Cook farro in a large ...   \n",
       "4  [Mix mayonnaise, lemon zest and juice, relish,...   \n",
       "\n",
       "                                                tags  \n",
       "0  [Bon Appétit, Pickles, Hors D'Oeuvre, Appetize...  \n",
       "1  [Bon Appétit, Sauce, Condiment, Garlic, Almond...  \n",
       "2  [Bon Appétit, Dinner, Beef Tenderloin, Beef, T...  \n",
       "3  [Bon Appétit, Salad, Side, Grains, Cucumber, T...  \n",
       "4  [Bon Appétit, Sandwich, Fish, Seafood, Fry, Be...  "
      ]
     },
     "execution_count": 34,
     "metadata": {},
     "output_type": "execute_result"
    }
   ],
   "source": [
    "final_df.head()"
   ]
  },
  {
   "cell_type": "code",
   "execution_count": null,
   "metadata": {},
   "outputs": [],
   "source": []
  }
 ],
 "metadata": {
  "kernelspec": {
   "display_name": "Python 3",
   "language": "python",
   "name": "python3"
  },
  "language_info": {
   "codemirror_mode": {
    "name": "ipython",
    "version": 3
   },
   "file_extension": ".py",
   "mimetype": "text/x-python",
   "name": "python",
   "nbconvert_exporter": "python",
   "pygments_lexer": "ipython3",
   "version": "3.7.3"
  }
 },
 "nbformat": 4,
 "nbformat_minor": 2
}
