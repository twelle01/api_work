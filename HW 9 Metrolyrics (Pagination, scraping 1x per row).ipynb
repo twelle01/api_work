{
 "cells": [
  {
   "cell_type": "code",
   "execution_count": 1,
   "metadata": {},
   "outputs": [],
   "source": [
    "import requests\n",
    "import pandas as pd\n",
    "import re\n",
    "import numpy as np\n",
    "from bs4 import BeautifulSoup"
   ]
  },
  {
   "cell_type": "code",
   "execution_count": 67,
   "metadata": {},
   "outputs": [],
   "source": [
    "headers = {'User-Agent': 'Mozilla/5.0 (Macintosh; Intel Mac OS X 10_10_1) AppleWebKit/537.36 (KHTML, like Gecko) Chrome/39.0.2171.95 Safari/537.36'}\n",
    "\n",
    "response = requests.get('http://www.metrolyrics.com/king-krule-lyrics.html', headers=headers)\n",
    "doc = BeautifulSoup(response.text)"
   ]
  },
  {
   "cell_type": "code",
   "execution_count": 68,
   "metadata": {},
   "outputs": [],
   "source": [
    "table = doc.find_all(class_=\"songs-table compact\")[0]\n",
    "songs = table.find_all(\"tr\")[1:]"
   ]
  },
  {
   "cell_type": "code",
   "execution_count": 69,
   "metadata": {},
   "outputs": [],
   "source": [
    "rows = []\n",
    "for song in songs: \n",
    "    row = {}\n",
    "    row['title'] = song.find(class_=\"title\").text.strip()\n",
    "    row['url'] = song.find('a')['href']\n",
    "    row['popularity'] = song.find(class_='bar')\n",
    "    row['year'] = song.find_all('td')[2].text\n",
    "    rows.append(row)\n",
    "\n",
    "df = pd.DataFrame(rows)"
   ]
  },
  {
   "cell_type": "code",
   "execution_count": 70,
   "metadata": {},
   "outputs": [
    {
     "data": {
      "text/html": [
       "<div>\n",
       "<style scoped>\n",
       "    .dataframe tbody tr th:only-of-type {\n",
       "        vertical-align: middle;\n",
       "    }\n",
       "\n",
       "    .dataframe tbody tr th {\n",
       "        vertical-align: top;\n",
       "    }\n",
       "\n",
       "    .dataframe thead th {\n",
       "        text-align: right;\n",
       "    }\n",
       "</style>\n",
       "<table border=\"1\" class=\"dataframe\">\n",
       "  <thead>\n",
       "    <tr style=\"text-align: right;\">\n",
       "      <th></th>\n",
       "      <th>popularity</th>\n",
       "      <th>title</th>\n",
       "      <th>url</th>\n",
       "      <th>year</th>\n",
       "    </tr>\n",
       "  </thead>\n",
       "  <tbody>\n",
       "    <tr>\n",
       "      <th>0</th>\n",
       "      <td>&lt;span class=\"bar popular10\"&gt;\n",
       "&lt;span style=\"widt...</td>\n",
       "      <td>Baby Blue Lyrics</td>\n",
       "      <td>http://www.metrolyrics.com/baby-blue-lyrics-ki...</td>\n",
       "      <td>2015</td>\n",
       "    </tr>\n",
       "    <tr>\n",
       "      <th>1</th>\n",
       "      <td>&lt;span class=\"bar popular5\"&gt;\n",
       "&lt;span style=\"width...</td>\n",
       "      <td>A Lizard State Lyrics</td>\n",
       "      <td>http://www.metrolyrics.com/a-lizard-state-lyri...</td>\n",
       "      <td>2014</td>\n",
       "    </tr>\n",
       "    <tr>\n",
       "      <th>2</th>\n",
       "      <td>&lt;span class=\"bar popular5\"&gt;\n",
       "&lt;span style=\"width...</td>\n",
       "      <td>Easy Easy Lyrics</td>\n",
       "      <td>http://www.metrolyrics.com/easy-easy-lyrics-ki...</td>\n",
       "      <td>2013</td>\n",
       "    </tr>\n",
       "    <tr>\n",
       "      <th>3</th>\n",
       "      <td>&lt;span class=\"bar popular4\"&gt;\n",
       "&lt;span style=\"width...</td>\n",
       "      <td>Out Getting Ribs Lyrics</td>\n",
       "      <td>http://www.metrolyrics.com/out-getting-ribs-ly...</td>\n",
       "      <td>2014</td>\n",
       "    </tr>\n",
       "    <tr>\n",
       "      <th>4</th>\n",
       "      <td>&lt;span class=\"bar popular2\"&gt;\n",
       "&lt;span style=\"width...</td>\n",
       "      <td>Dum Surfer Lyrics</td>\n",
       "      <td>http://www.metrolyrics.com/dum-surfer-lyrics-k...</td>\n",
       "      <td>2017</td>\n",
       "    </tr>\n",
       "  </tbody>\n",
       "</table>\n",
       "</div>"
      ],
      "text/plain": [
       "                                          popularity                    title  \\\n",
       "0  <span class=\"bar popular10\">\n",
       "<span style=\"widt...         Baby Blue Lyrics   \n",
       "1  <span class=\"bar popular5\">\n",
       "<span style=\"width...    A Lizard State Lyrics   \n",
       "2  <span class=\"bar popular5\">\n",
       "<span style=\"width...         Easy Easy Lyrics   \n",
       "3  <span class=\"bar popular4\">\n",
       "<span style=\"width...  Out Getting Ribs Lyrics   \n",
       "4  <span class=\"bar popular2\">\n",
       "<span style=\"width...        Dum Surfer Lyrics   \n",
       "\n",
       "                                                 url  year  \n",
       "0  http://www.metrolyrics.com/baby-blue-lyrics-ki...  2015  \n",
       "1  http://www.metrolyrics.com/a-lizard-state-lyri...  2014  \n",
       "2  http://www.metrolyrics.com/easy-easy-lyrics-ki...  2013  \n",
       "3  http://www.metrolyrics.com/out-getting-ribs-ly...  2014  \n",
       "4  http://www.metrolyrics.com/dum-surfer-lyrics-k...  2017  "
      ]
     },
     "execution_count": 70,
     "metadata": {},
     "output_type": "execute_result"
    }
   ],
   "source": [
    "df.head()"
   ]
  },
  {
   "cell_type": "code",
   "execution_count": 71,
   "metadata": {},
   "outputs": [],
   "source": [
    "# df['score'] = df.score.str.replace(\",\",\"\")\n",
    "# df['score'] = df.score.str.extract(r\"score: (.*)\")"
   ]
  },
  {
   "cell_type": "code",
   "execution_count": 72,
   "metadata": {},
   "outputs": [],
   "source": [
    "df['popularity'] = df.popularity.astype(str)"
   ]
  },
  {
   "cell_type": "code",
   "execution_count": 73,
   "metadata": {},
   "outputs": [],
   "source": [
    "df['popularity'] = df.popularity.str.extract(r\"popular(\\d\\d?)\")"
   ]
  },
  {
   "cell_type": "code",
   "execution_count": 74,
   "metadata": {},
   "outputs": [],
   "source": [
    "df['popularity'] = df.popularity.astype(int)"
   ]
  },
  {
   "cell_type": "code",
   "execution_count": 75,
   "metadata": {},
   "outputs": [
    {
     "data": {
      "text/html": [
       "<div>\n",
       "<style scoped>\n",
       "    .dataframe tbody tr th:only-of-type {\n",
       "        vertical-align: middle;\n",
       "    }\n",
       "\n",
       "    .dataframe tbody tr th {\n",
       "        vertical-align: top;\n",
       "    }\n",
       "\n",
       "    .dataframe thead th {\n",
       "        text-align: right;\n",
       "    }\n",
       "</style>\n",
       "<table border=\"1\" class=\"dataframe\">\n",
       "  <thead>\n",
       "    <tr style=\"text-align: right;\">\n",
       "      <th></th>\n",
       "      <th>popularity</th>\n",
       "      <th>title</th>\n",
       "      <th>url</th>\n",
       "      <th>year</th>\n",
       "    </tr>\n",
       "  </thead>\n",
       "  <tbody>\n",
       "    <tr>\n",
       "      <th>0</th>\n",
       "      <td>10</td>\n",
       "      <td>Baby Blue Lyrics</td>\n",
       "      <td>http://www.metrolyrics.com/baby-blue-lyrics-ki...</td>\n",
       "      <td>2015</td>\n",
       "    </tr>\n",
       "    <tr>\n",
       "      <th>1</th>\n",
       "      <td>5</td>\n",
       "      <td>A Lizard State Lyrics</td>\n",
       "      <td>http://www.metrolyrics.com/a-lizard-state-lyri...</td>\n",
       "      <td>2014</td>\n",
       "    </tr>\n",
       "    <tr>\n",
       "      <th>2</th>\n",
       "      <td>5</td>\n",
       "      <td>Easy Easy Lyrics</td>\n",
       "      <td>http://www.metrolyrics.com/easy-easy-lyrics-ki...</td>\n",
       "      <td>2013</td>\n",
       "    </tr>\n",
       "    <tr>\n",
       "      <th>3</th>\n",
       "      <td>4</td>\n",
       "      <td>Out Getting Ribs Lyrics</td>\n",
       "      <td>http://www.metrolyrics.com/out-getting-ribs-ly...</td>\n",
       "      <td>2014</td>\n",
       "    </tr>\n",
       "    <tr>\n",
       "      <th>4</th>\n",
       "      <td>2</td>\n",
       "      <td>Dum Surfer Lyrics</td>\n",
       "      <td>http://www.metrolyrics.com/dum-surfer-lyrics-k...</td>\n",
       "      <td>2017</td>\n",
       "    </tr>\n",
       "  </tbody>\n",
       "</table>\n",
       "</div>"
      ],
      "text/plain": [
       "   popularity                    title  \\\n",
       "0          10         Baby Blue Lyrics   \n",
       "1           5    A Lizard State Lyrics   \n",
       "2           5         Easy Easy Lyrics   \n",
       "3           4  Out Getting Ribs Lyrics   \n",
       "4           2        Dum Surfer Lyrics   \n",
       "\n",
       "                                                 url  year  \n",
       "0  http://www.metrolyrics.com/baby-blue-lyrics-ki...  2015  \n",
       "1  http://www.metrolyrics.com/a-lizard-state-lyri...  2014  \n",
       "2  http://www.metrolyrics.com/easy-easy-lyrics-ki...  2013  \n",
       "3  http://www.metrolyrics.com/out-getting-ribs-ly...  2014  \n",
       "4  http://www.metrolyrics.com/dum-surfer-lyrics-k...  2017  "
      ]
     },
     "execution_count": 75,
     "metadata": {},
     "output_type": "execute_result"
    }
   ],
   "source": [
    "df.head()"
   ]
  },
  {
   "cell_type": "code",
   "execution_count": 76,
   "metadata": {},
   "outputs": [],
   "source": [
    "df.to_csv(\"king_krule.csv\",index=False)"
   ]
  },
  {
   "cell_type": "code",
   "execution_count": 77,
   "metadata": {},
   "outputs": [],
   "source": [
    "df = pd.read_csv(\"king_krule.csv\")"
   ]
  },
  {
   "cell_type": "code",
   "execution_count": 85,
   "metadata": {},
   "outputs": [
    {
     "name": "stdout",
     "output_type": "stream",
     "text": [
      "We are scraping http://www.metrolyrics.com/baby-blue-lyrics-king-krule.html\n",
      "My sandpaper sigh engraves a line\n",
      "Into the rust of your tongue\n",
      "Girl I could've been someone, to you\n",
      "Would have painted the skies blue\n",
      "Baby blue\n",
      "If you knew\n",
      "Baby blue\n",
      "Baby blue\n",
      "Baby blue\n",
      "Edging closer, you swing my way\n",
      "Girl I've got no chance\n",
      "And nothing to say\n",
      "Girl but stay here for a little while\n",
      "Baby blue\n",
      "Baby blue\n",
      "Baby blue\n",
      "But if only you could see\n",
      "My shadow crossing your path\n",
      "It won't be the last baby blue\n",
      "You are my baby\n",
      "You are my baby\n",
      "Bobbing on, the problem\n",
      "On the problem, on the throbbing\n",
      "She was falling, I was bawling\n",
      "But I was stopping, she was throbbing\n"
     ]
    }
   ],
   "source": [
    "url = \"http://www.metrolyrics.com/baby-blue-lyrics-king-krule.html\"\n",
    "print(\"We are scraping\", url)\n",
    "response = requests.get(url)\n",
    "doc = BeautifulSoup(response.text)\n",
    "\n",
    "verses = doc.find_all(class_=\"verse\")\n",
    "for verse in verses:\n",
    "    print(verse.text.strip())"
   ]
  },
  {
   "cell_type": "code",
   "execution_count": null,
   "metadata": {},
   "outputs": [],
   "source": []
  },
  {
   "cell_type": "code",
   "execution_count": null,
   "metadata": {},
   "outputs": [],
   "source": []
  },
  {
   "cell_type": "code",
   "execution_count": 79,
   "metadata": {},
   "outputs": [],
   "source": [
    "def scrape_page(row):\n",
    "    url = f\"{row['url']}\"\n",
    "    print(\"Scraping\", row['url'])\n",
    "\n",
    "    response = requests.get(url)\n",
    "    doc = BeautifulSoup(response.text)\n",
    "\n",
    "    page = {}\n",
    "\n",
    "    verses = doc.find_all(class_=\"verse\")\n",
    "    for verse in verses:\n",
    "        page['lyrics'] = verse.text.strip()\n",
    "\n",
    "    return pd.Series(page)"
   ]
  },
  {
   "cell_type": "code",
   "execution_count": 80,
   "metadata": {},
   "outputs": [
    {
     "name": "stdout",
     "output_type": "stream",
     "text": [
      "Scraping http://www.metrolyrics.com/baby-blue-lyrics-king-krule.html\n",
      "Scraping http://www.metrolyrics.com/baby-blue-lyrics-king-krule.html\n",
      "Scraping http://www.metrolyrics.com/a-lizard-state-lyrics-king-krule.html\n",
      "Scraping http://www.metrolyrics.com/easy-easy-lyrics-king-krule.html\n",
      "Scraping http://www.metrolyrics.com/out-getting-ribs-lyrics-king-krule.html\n",
      "Scraping http://www.metrolyrics.com/dum-surfer-lyrics-king-krule.html\n",
      "Scraping http://www.metrolyrics.com/portrait-in-black-and-blue-lyrics-king-krule.html\n",
      "Scraping http://www.metrolyrics.com/the-noose-of-jah-city-lyrics-king-krule.html\n",
      "Scraping http://www.metrolyrics.com/bleak-bake-lyrics-king-krule.html\n",
      "Scraping http://www.metrolyrics.com/border-line-lyrics-king-krule.html\n",
      "Scraping http://www.metrolyrics.com/lead-existence-lyrics-king-krule.html\n",
      "Scraping http://www.metrolyrics.com/little-wild-lyrics-king-krule.html\n",
      "Scraping http://www.metrolyrics.com/intro-lyrics-king-krule.html\n",
      "Scraping http://www.metrolyrics.com/neptune-estate-lyrics-king-krule.html\n",
      "Scraping http://www.metrolyrics.com/the-cadet-leaps-lyrics-king-krule.html\n",
      "Scraping http://www.metrolyrics.com/the-locomotive-lyrics-king-krule.html\n",
      "Scraping http://www.metrolyrics.com/a-single-tear-lyrics-king-krule.html\n",
      "Scraping http://www.metrolyrics.com/bermondsey-bosom-left-lyrics-king-krule.html\n",
      "Scraping http://www.metrolyrics.com/emergency-blimp-lyrics-king-krule.html\n",
      "Scraping http://www.metrolyrics.com/la-lune-lyrics-king-krule.html\n",
      "Scraping http://www.metrolyrics.com/czech-one-lyrics-king-krule.html\n",
      "Scraping http://www.metrolyrics.com/36n63-lyrics-king-krule.html\n",
      "Scraping http://www.metrolyrics.com/vidual-lyrics-king-krule.html\n",
      "Scraping http://www.metrolyrics.com/the-ooz-lyrics-king-krule.html\n",
      "Scraping http://www.metrolyrics.com/lonely-blue-lyrics-king-krule.html\n",
      "Scraping http://www.metrolyrics.com/half-man-half-shark-lyrics-king-krule.html\n",
      "Scraping http://www.metrolyrics.com/midnight-01-deep-sea-diver-lyrics-king-krule.html\n",
      "Scraping http://www.metrolyrics.com/cadet-limbo-lyrics-king-krule.html\n",
      "Scraping http://www.metrolyrics.com/foreign-2-lyrics-king-krule.html\n",
      "Scraping http://www.metrolyrics.com/slush-puppy-lyrics-king-krule.html\n",
      "Scraping http://www.metrolyrics.com/biscuit-town-lyrics-king-krule.html\n",
      "Scraping http://www.metrolyrics.com/logos-lyrics-king-krule.html\n",
      "Scraping http://www.metrolyrics.com/sublunary-lyrics-king-krule.html\n",
      "Scraping http://www.metrolyrics.com/bermondsey-bosom-right-lyrics-king-krule.html\n",
      "Scraping http://www.metrolyrics.com/neptune-estate-remix-lyrics-king-krule.html\n"
     ]
    }
   ],
   "source": [
    "scraped_df = df.apply(scrape_page, axis=1)"
   ]
  },
  {
   "cell_type": "code",
   "execution_count": 91,
   "metadata": {},
   "outputs": [
    {
     "data": {
      "text/plain": [
       "0     Bobbing on, the problem\\nOn the problem, on th...\n",
       "1     I don't care about sunny days\\ngonna keep it o...\n",
       "2     You're easy\\nSo easy\\nYou're easy\\nMan just le...\n",
       "3     But wait\\nI make my last request\\nYours could ...\n",
       "4     So keep me as the villain\\nBut my prayer, you ...\n",
       "5     I ain't painting this lie any more since it wa...\n",
       "6     It eats away at your brain\\nAs you strain to t...\n",
       "7     And everything hits you in the end\\nAnd spoils...\n",
       "8     But my soul floats\\nAdrift thoughtless minds, ...\n",
       "9     An empty room is now my doom\\nMy past was gone...\n",
       "10    (bonus track featured on the Japanese edition ...\n",
       "11                                                  NaN\n",
       "12    I could stay in your mind\\nWish me to stray aw...\n",
       "13    Dumudulas sa dumi\\nMalungkot pero napapalibuta...\n",
       "14    We all have our evils\\nWe're told just to keep...\n",
       "15                                                  NaN\n",
       "16    Deslizando entre suciedad a solas pero rodeado...\n",
       "17    Yeah no help still\\nNo help still\\nNo help sti...\n",
       "18    See I was raised to the moon\\nJust to hold a g...\n",
       "19    She still sees what I see\\nThe train's motion\\...\n",
       "20                                       [Instrumental]\n",
       "21    She scatters, just like one of the people\\nAnd...\n",
       "22    She pants, she steals\\nCan't you breathe\\nThro...\n",
       "23    The sky was blue\\nAnd high above the moon was ...\n",
       "24                                 They just don't care\n",
       "25    This day's slipping\\nI feel my feet drift\\nTar...\n",
       "26    Has it been this long since I've had this bond...\n",
       "27    Isolated heritage\\nThis path was never relativ...\n",
       "28    I'm as worthless you see (Nothing is working w...\n",
       "29    And now i'm caught off by the taste in her mou...\n",
       "30    The ups and downs, deep velvet folds\\nThe land...\n",
       "31    I was made for sublunary\\nAnd in shades of blu...\n",
       "32    Slipping into filth\\nLonely but surrounded\\nA ...\n",
       "33    I could stay in your mind\\nWish me to stray aw...\n",
       "Name: lyrics, dtype: object"
      ]
     },
     "execution_count": 91,
     "metadata": {},
     "output_type": "execute_result"
    }
   ],
   "source": [
    "scraped_df.lyrics"
   ]
  },
  {
   "cell_type": "code",
   "execution_count": 92,
   "metadata": {},
   "outputs": [],
   "source": [
    "final_df = df.merge(scraped_df, left_index=True, right_index=True)"
   ]
  },
  {
   "cell_type": "code",
   "execution_count": 93,
   "metadata": {},
   "outputs": [],
   "source": [
    "final_df.to_csv(\"scraped_king_krule.csv\",index=False)"
   ]
  },
  {
   "cell_type": "code",
   "execution_count": null,
   "metadata": {},
   "outputs": [],
   "source": []
  }
 ],
 "metadata": {
  "kernelspec": {
   "display_name": "Python 3",
   "language": "python",
   "name": "python3"
  }
 },
 "nbformat": 4,
 "nbformat_minor": 2
}
