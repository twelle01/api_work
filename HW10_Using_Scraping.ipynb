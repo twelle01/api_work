{
 "cells": [
  {
   "cell_type": "code",
   "execution_count": 42,
   "metadata": {},
   "outputs": [
    {
     "data": {
      "text/plain": [
       "'{\\n  \"id\": \"<20190624163412.1.1DFEADF51CF9B7CA@sandboxbd446712cccb4a339bc6b379efb2b0d8.mailgun.org>\",\\n  \"message\": \"Queued. Thank you.\"\\n}'"
      ]
     },
     "execution_count": 42,
     "metadata": {},
     "output_type": "execute_result"
    }
   ],
   "source": [
    "import requests\n",
    "import os\n",
    "from bs4 import BeautifulSoup\n",
    "from dotenv import load_dotenv\n",
    "load_dotenv()\n",
    "import datetime\n",
    "\n",
    "headers = {'User-Agent': 'Mozilla/5.0 (Macintosh; Intel Mac OS X 10_10_1) AppleWebKit/537.36 (KHTML, like Gecko) Chrome/39.0.2171.95 Safari/537.36'}\n",
    "response = requests.get(\"http://www.bbc.com\", headers=headers)\n",
    "doc = BeautifulSoup(response.text, 'html.parser')\n",
    "MG_API_KEY = os.getenv(\"MAILGUN_API_KEY\")\n",
    "\n",
    "stories = doc.find_all(class_='media-list__item')\n",
    "rows = []\n",
    "for story in stories:\n",
    "    row = {}\n",
    "    headline = story.find(class_='media__link')\n",
    "    if headline:\n",
    "        row['headline'] = headline.text.strip()\n",
    "        row['link'] = headline['href']\n",
    "        try:\n",
    "            row['summary'] = story.find(class_='media__summary').text.strip()\n",
    "            row['channel'] = story.find(class_='media__tag').text.strip()\n",
    "        except:\n",
    "            pass\n",
    "\n",
    "        rows.append(row)\n",
    "\n",
    "df = pd.DataFrame(rows)\n",
    "\n",
    "right_now = datetime.datetime.now()\n",
    "datestring = right_now.strftime(\"%Y-%m-%d-%H-%M\")\n",
    "filename = f\"briefing-{datestring}.csv\"\n",
    "\n",
    "df.to_csv(filename, index=False)\n",
    "\n",
    "response = requests.post(\n",
    "    \"https://api.mailgun.net/v3/sandboxbd446712cccb4a339bc6b379efb2b0d8.mailgun.org/messages\",\n",
    "    auth=(\"api\", MG_API_KEY),\n",
    "    files=[(\"attachment\", open(f\"briefing-{datestring}.csv\"))],\n",
    "    data={\"from\": \"Excited User <mailgun@andboxbd446712cccb4a339bc6b379efb2b0d8.mailgun.org>\",\n",
    "          \"to\": [\"mht2140@columbia.edu\"],\n",
    "          \"subject\": \"Here is your 6PM briefing\",\n",
    "          \"text\": \"check the csv. it has great content that will blow your mind\" })\n",
    "\n",
    "response.text\n"
   ]
  },
  {
   "cell_type": "code",
   "execution_count": null,
   "metadata": {},
   "outputs": [],
   "source": []
  },
  {
   "cell_type": "code",
   "execution_count": null,
   "metadata": {},
   "outputs": [],
   "source": []
  },
  {
   "cell_type": "code",
   "execution_count": null,
   "metadata": {},
   "outputs": [],
   "source": []
  },
  {
   "cell_type": "code",
   "execution_count": null,
   "metadata": {},
   "outputs": [],
   "source": []
  },
  {
   "cell_type": "code",
   "execution_count": null,
   "metadata": {},
   "outputs": [],
   "source": []
  }
 ],
 "metadata": {
  "kernelspec": {
   "display_name": "Python 3",
   "language": "python",
   "name": "python3"
  },
  "language_info": {
   "codemirror_mode": {
    "name": "ipython",
    "version": 3
   },
   "file_extension": ".py",
   "mimetype": "text/x-python",
   "name": "python",
   "nbconvert_exporter": "python",
   "pygments_lexer": "ipython3",
   "version": "3.7.3"
  }
 },
 "nbformat": 4,
 "nbformat_minor": 2
}
