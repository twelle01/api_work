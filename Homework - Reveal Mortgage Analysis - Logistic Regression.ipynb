{
 "cells": [
  {
   "cell_type": "markdown",
   "metadata": {},
   "source": [
    "# Lending disparities using Logistic Regression\n",
    "\n",
    "**The story:** https://www.revealnews.org/article/for-people-of-color-banks-are-shutting-the-door-to-homeownership/\n",
    "\n",
    "**Author:** Aaron Glantz and Emmanuel Martinez\n",
    "\n",
    "**Topics:** Logistic regression, odds ratios\n",
    "\n",
    "**Datasets**\n",
    "\n",
    "* **philadelphia-mortgages.csv:** Philadelphia mortgage data for 2015\n",
    "    - A subset of HMDA LAR data from [FFEIC](https://www.ffiec.gov/hmda/hmdaproducts.htm)\n",
    "    - Codebook is `2015HMDACodeSheet.pdf`\n",
    "    - A [guide to HMDA reporting](https://www.ffiec.gov/hmda/guide.htm)\n",
    "    - I've massaged it slightly to make processing a bit easier\n",
    "* **nhgis0006_ds233_20175_2017_tract.csv:**\n",
    "    - Table B03002: Hispanic or Latino Origin by Race\n",
    "    - 2013-2017 American Community Survey data US Census Bureau, from [NHGIS](https://data2.nhgis.org/main)\n",
    "    - Codebook is `nhgis0006_ds233_20175_2017_tract_codebook.txt`\n",
    "* **lending_disparities_whitepaper_180214.pdf:** the whitepaper outlining Reveal's methodology\n",
    "\n",
    "## What's the goal?\n",
    "\n",
    "Do banks provide mortgages at disparate rates between white applicants and people of color? We're going to look at the following variables to find out:\n",
    "\n",
    "* Race/Ethnicity\n",
    "    - Native American\n",
    "    - Asian\n",
    "    - Black\n",
    "    - Native Hawaiian\n",
    "    - Hispanic/Latino\n",
    "    - Race and ethnicity were not reported\n",
    "* Sex\n",
    "* Whether there was a co-applicant\n",
    "* Applicant’s annual income (includes co-applicant income)\n",
    "* Loan amount\n",
    "* Ratio between the loan amount and the applicant’s income\n",
    "* Ratio between the median income of the census tract and the median income of the metro area\n",
    "* Racial and ethnic breakdown by percentage for each census tract\n",
    "* Regulating agency of the lending institution"
   ]
  },
  {
   "cell_type": "markdown",
   "metadata": {},
   "source": [
    "# Setup\n",
    "\n",
    "Import pandas as usual, but also import numpy. We'll need it for logarithms and exponents.\n",
    "\n",
    "Some of our datasets have a lot of columns, so you'll also want to use `pd.set_option` to display up to 100 columns or so."
   ]
  },
  {
   "cell_type": "code",
   "execution_count": 1,
   "metadata": {},
   "outputs": [],
   "source": [
    "import pandas as pd\n",
    "import matplotlib.pyplot as plt\n",
    "import numpy as np\n",
    "from sklearn.linear_model import LinearRegression,LogisticRegression\n",
    "\n",
    "%matplotlib inline"
   ]
  },
  {
   "cell_type": "markdown",
   "metadata": {},
   "source": [
    "# What is each row of our data?\n",
    "\n",
    "If you aren't sure, you might need to look at either the whitepaper or the codebook. You'll need to look at them both eventually, so might as well get started now."
   ]
  },
  {
   "cell_type": "code",
   "execution_count": null,
   "metadata": {},
   "outputs": [],
   "source": []
  },
  {
   "cell_type": "markdown",
   "metadata": {},
   "source": [
    "# Read in your data\n",
    "\n",
    "Read in our Philadelphia mortgage data and take a peek at the first few rows.\n",
    "\n",
    "* **Tip:** As always, census tract columns like to cause problems if they're read in as numbers. Make sure pandas reads it in as a string."
   ]
  },
  {
   "cell_type": "code",
   "execution_count": 2,
   "metadata": {},
   "outputs": [],
   "source": [
    "df_mor = pd.read_csv(\"data/philadelphia-mortgages.csv\", encoding='latin-1', dtype={'census_tract' :'str'})"
   ]
  },
  {
   "cell_type": "code",
   "execution_count": 3,
   "metadata": {},
   "outputs": [
    {
     "data": {
      "text/html": [
       "<div>\n",
       "<style scoped>\n",
       "    .dataframe tbody tr th:only-of-type {\n",
       "        vertical-align: middle;\n",
       "    }\n",
       "\n",
       "    .dataframe tbody tr th {\n",
       "        vertical-align: top;\n",
       "    }\n",
       "\n",
       "    .dataframe thead th {\n",
       "        text-align: right;\n",
       "    }\n",
       "</style>\n",
       "<table border=\"1\" class=\"dataframe\">\n",
       "  <thead>\n",
       "    <tr style=\"text-align: right;\">\n",
       "      <th></th>\n",
       "      <th>census_tract</th>\n",
       "      <th>county_code</th>\n",
       "      <th>state_code</th>\n",
       "      <th>applicant_sex</th>\n",
       "      <th>income</th>\n",
       "      <th>loan_amount</th>\n",
       "      <th>loan_type</th>\n",
       "      <th>property_type</th>\n",
       "      <th>occupancy</th>\n",
       "      <th>action_type</th>\n",
       "      <th>loan_purpose</th>\n",
       "      <th>agency_code</th>\n",
       "      <th>tract_to_msa_income_percent</th>\n",
       "      <th>applicant_race</th>\n",
       "      <th>co_applicant_sex</th>\n",
       "    </tr>\n",
       "  </thead>\n",
       "  <tbody>\n",
       "    <tr>\n",
       "      <th>0</th>\n",
       "      <td>0101.00</td>\n",
       "      <td>101</td>\n",
       "      <td>42</td>\n",
       "      <td>3</td>\n",
       "      <td>26</td>\n",
       "      <td>5</td>\n",
       "      <td>1</td>\n",
       "      <td>1</td>\n",
       "      <td>1</td>\n",
       "      <td>4</td>\n",
       "      <td>2</td>\n",
       "      <td>5</td>\n",
       "      <td>97.09</td>\n",
       "      <td>6</td>\n",
       "      <td>5</td>\n",
       "    </tr>\n",
       "    <tr>\n",
       "      <th>1</th>\n",
       "      <td>0264.00</td>\n",
       "      <td>101</td>\n",
       "      <td>42</td>\n",
       "      <td>2</td>\n",
       "      <td>26</td>\n",
       "      <td>40</td>\n",
       "      <td>1</td>\n",
       "      <td>1</td>\n",
       "      <td>1</td>\n",
       "      <td>4</td>\n",
       "      <td>2</td>\n",
       "      <td>5</td>\n",
       "      <td>98.27</td>\n",
       "      <td>3</td>\n",
       "      <td>5</td>\n",
       "    </tr>\n",
       "    <tr>\n",
       "      <th>2</th>\n",
       "      <td>0281.00</td>\n",
       "      <td>101</td>\n",
       "      <td>42</td>\n",
       "      <td>2</td>\n",
       "      <td>22</td>\n",
       "      <td>20</td>\n",
       "      <td>1</td>\n",
       "      <td>1</td>\n",
       "      <td>1</td>\n",
       "      <td>5</td>\n",
       "      <td>2</td>\n",
       "      <td>5</td>\n",
       "      <td>72.28</td>\n",
       "      <td>6</td>\n",
       "      <td>5</td>\n",
       "    </tr>\n",
       "    <tr>\n",
       "      <th>3</th>\n",
       "      <td>0158.00</td>\n",
       "      <td>101</td>\n",
       "      <td>42</td>\n",
       "      <td>2</td>\n",
       "      <td>57</td>\n",
       "      <td>36</td>\n",
       "      <td>1</td>\n",
       "      <td>1</td>\n",
       "      <td>1</td>\n",
       "      <td>5</td>\n",
       "      <td>3</td>\n",
       "      <td>5</td>\n",
       "      <td>105.87</td>\n",
       "      <td>6</td>\n",
       "      <td>5</td>\n",
       "    </tr>\n",
       "    <tr>\n",
       "      <th>4</th>\n",
       "      <td>0358.00</td>\n",
       "      <td>101</td>\n",
       "      <td>42</td>\n",
       "      <td>1</td>\n",
       "      <td>80</td>\n",
       "      <td>34</td>\n",
       "      <td>1</td>\n",
       "      <td>1</td>\n",
       "      <td>1</td>\n",
       "      <td>1</td>\n",
       "      <td>3</td>\n",
       "      <td>5</td>\n",
       "      <td>139.62</td>\n",
       "      <td>5</td>\n",
       "      <td>2</td>\n",
       "    </tr>\n",
       "  </tbody>\n",
       "</table>\n",
       "</div>"
      ],
      "text/plain": [
       "  census_tract  county_code  state_code  applicant_sex  income  loan_amount  \\\n",
       "0      0101.00          101          42              3      26            5   \n",
       "1      0264.00          101          42              2      26           40   \n",
       "2      0281.00          101          42              2      22           20   \n",
       "3      0158.00          101          42              2      57           36   \n",
       "4      0358.00          101          42              1      80           34   \n",
       "\n",
       "   loan_type  property_type  occupancy  action_type  loan_purpose  \\\n",
       "0          1              1          1            4             2   \n",
       "1          1              1          1            4             2   \n",
       "2          1              1          1            5             2   \n",
       "3          1              1          1            5             3   \n",
       "4          1              1          1            1             3   \n",
       "\n",
       "   agency_code  tract_to_msa_income_percent  applicant_race  co_applicant_sex  \n",
       "0            5                        97.09               6                 5  \n",
       "1            5                        98.27               3                 5  \n",
       "2            5                        72.28               6                 5  \n",
       "3            5                       105.87               6                 5  \n",
       "4            5                       139.62               5                 2  "
      ]
     },
     "execution_count": 3,
     "metadata": {},
     "output_type": "execute_result"
    }
   ],
   "source": [
    "df_mor.head()"
   ]
  },
  {
   "cell_type": "code",
   "execution_count": 5,
   "metadata": {
    "scrolled": true
   },
   "outputs": [],
   "source": [
    "df_cen = pd.read_csv(\"data/nhgis0007_ds215_20155_2015_tract.csv\", encoding='latin-1', dtype={'TRACTA' :'str'})"
   ]
  },
  {
   "cell_type": "code",
   "execution_count": 6,
   "metadata": {},
   "outputs": [
    {
     "data": {
      "text/html": [
       "<div>\n",
       "<style scoped>\n",
       "    .dataframe tbody tr th:only-of-type {\n",
       "        vertical-align: middle;\n",
       "    }\n",
       "\n",
       "    .dataframe tbody tr th {\n",
       "        vertical-align: top;\n",
       "    }\n",
       "\n",
       "    .dataframe thead th {\n",
       "        text-align: right;\n",
       "    }\n",
       "</style>\n",
       "<table border=\"1\" class=\"dataframe\">\n",
       "  <thead>\n",
       "    <tr style=\"text-align: right;\">\n",
       "      <th></th>\n",
       "      <th>GISJOIN</th>\n",
       "      <th>YEAR</th>\n",
       "      <th>REGIONA</th>\n",
       "      <th>DIVISIONA</th>\n",
       "      <th>STATE</th>\n",
       "      <th>STATEA</th>\n",
       "      <th>COUNTY</th>\n",
       "      <th>COUNTYA</th>\n",
       "      <th>COUSUBA</th>\n",
       "      <th>PLACEA</th>\n",
       "      <th>...</th>\n",
       "      <th>ADK5M012</th>\n",
       "      <th>ADK5M013</th>\n",
       "      <th>ADK5M014</th>\n",
       "      <th>ADK5M015</th>\n",
       "      <th>ADK5M016</th>\n",
       "      <th>ADK5M017</th>\n",
       "      <th>ADK5M018</th>\n",
       "      <th>ADK5M019</th>\n",
       "      <th>ADK5M020</th>\n",
       "      <th>ADK5M021</th>\n",
       "    </tr>\n",
       "  </thead>\n",
       "  <tbody>\n",
       "    <tr>\n",
       "      <th>0</th>\n",
       "      <td>G0100010020100</td>\n",
       "      <td>2011-2015</td>\n",
       "      <td>NaN</td>\n",
       "      <td>NaN</td>\n",
       "      <td>Alabama</td>\n",
       "      <td>1</td>\n",
       "      <td>Autauga County</td>\n",
       "      <td>1</td>\n",
       "      <td>NaN</td>\n",
       "      <td>NaN</td>\n",
       "      <td>...</td>\n",
       "      <td>21</td>\n",
       "      <td>21</td>\n",
       "      <td>11</td>\n",
       "      <td>11</td>\n",
       "      <td>11</td>\n",
       "      <td>11</td>\n",
       "      <td>11</td>\n",
       "      <td>11</td>\n",
       "      <td>11</td>\n",
       "      <td>11</td>\n",
       "    </tr>\n",
       "    <tr>\n",
       "      <th>1</th>\n",
       "      <td>G0100010020200</td>\n",
       "      <td>2011-2015</td>\n",
       "      <td>NaN</td>\n",
       "      <td>NaN</td>\n",
       "      <td>Alabama</td>\n",
       "      <td>1</td>\n",
       "      <td>Autauga County</td>\n",
       "      <td>1</td>\n",
       "      <td>NaN</td>\n",
       "      <td>NaN</td>\n",
       "      <td>...</td>\n",
       "      <td>25</td>\n",
       "      <td>23</td>\n",
       "      <td>11</td>\n",
       "      <td>11</td>\n",
       "      <td>11</td>\n",
       "      <td>11</td>\n",
       "      <td>7</td>\n",
       "      <td>11</td>\n",
       "      <td>11</td>\n",
       "      <td>11</td>\n",
       "    </tr>\n",
       "    <tr>\n",
       "      <th>2</th>\n",
       "      <td>G0100010020300</td>\n",
       "      <td>2011-2015</td>\n",
       "      <td>NaN</td>\n",
       "      <td>NaN</td>\n",
       "      <td>Alabama</td>\n",
       "      <td>1</td>\n",
       "      <td>Autauga County</td>\n",
       "      <td>1</td>\n",
       "      <td>NaN</td>\n",
       "      <td>NaN</td>\n",
       "      <td>...</td>\n",
       "      <td>11</td>\n",
       "      <td>11</td>\n",
       "      <td>11</td>\n",
       "      <td>11</td>\n",
       "      <td>11</td>\n",
       "      <td>11</td>\n",
       "      <td>11</td>\n",
       "      <td>11</td>\n",
       "      <td>11</td>\n",
       "      <td>11</td>\n",
       "    </tr>\n",
       "    <tr>\n",
       "      <th>3</th>\n",
       "      <td>G0100010020400</td>\n",
       "      <td>2011-2015</td>\n",
       "      <td>NaN</td>\n",
       "      <td>NaN</td>\n",
       "      <td>Alabama</td>\n",
       "      <td>1</td>\n",
       "      <td>Autauga County</td>\n",
       "      <td>1</td>\n",
       "      <td>NaN</td>\n",
       "      <td>NaN</td>\n",
       "      <td>...</td>\n",
       "      <td>437</td>\n",
       "      <td>33</td>\n",
       "      <td>50</td>\n",
       "      <td>11</td>\n",
       "      <td>11</td>\n",
       "      <td>11</td>\n",
       "      <td>456</td>\n",
       "      <td>29</td>\n",
       "      <td>29</td>\n",
       "      <td>11</td>\n",
       "    </tr>\n",
       "    <tr>\n",
       "      <th>4</th>\n",
       "      <td>G0100010020500</td>\n",
       "      <td>2011-2015</td>\n",
       "      <td>NaN</td>\n",
       "      <td>NaN</td>\n",
       "      <td>Alabama</td>\n",
       "      <td>1</td>\n",
       "      <td>Autauga County</td>\n",
       "      <td>1</td>\n",
       "      <td>NaN</td>\n",
       "      <td>NaN</td>\n",
       "      <td>...</td>\n",
       "      <td>71</td>\n",
       "      <td>71</td>\n",
       "      <td>18</td>\n",
       "      <td>18</td>\n",
       "      <td>18</td>\n",
       "      <td>18</td>\n",
       "      <td>18</td>\n",
       "      <td>18</td>\n",
       "      <td>18</td>\n",
       "      <td>18</td>\n",
       "    </tr>\n",
       "  </tbody>\n",
       "</table>\n",
       "<p>5 rows × 80 columns</p>\n",
       "</div>"
      ],
      "text/plain": [
       "          GISJOIN       YEAR  REGIONA  DIVISIONA    STATE  STATEA  \\\n",
       "0  G0100010020100  2011-2015      NaN        NaN  Alabama       1   \n",
       "1  G0100010020200  2011-2015      NaN        NaN  Alabama       1   \n",
       "2  G0100010020300  2011-2015      NaN        NaN  Alabama       1   \n",
       "3  G0100010020400  2011-2015      NaN        NaN  Alabama       1   \n",
       "4  G0100010020500  2011-2015      NaN        NaN  Alabama       1   \n",
       "\n",
       "           COUNTY  COUNTYA  COUSUBA  PLACEA  ... ADK5M012  ADK5M013  ADK5M014  \\\n",
       "0  Autauga County        1      NaN     NaN  ...       21        21        11   \n",
       "1  Autauga County        1      NaN     NaN  ...       25        23        11   \n",
       "2  Autauga County        1      NaN     NaN  ...       11        11        11   \n",
       "3  Autauga County        1      NaN     NaN  ...      437        33        50   \n",
       "4  Autauga County        1      NaN     NaN  ...       71        71        18   \n",
       "\n",
       "   ADK5M015  ADK5M016  ADK5M017  ADK5M018  ADK5M019  ADK5M020  ADK5M021  \n",
       "0        11        11        11        11        11        11        11  \n",
       "1        11        11        11         7        11        11        11  \n",
       "2        11        11        11        11        11        11        11  \n",
       "3        11        11        11       456        29        29        11  \n",
       "4        18        18        18        18        18        18        18  \n",
       "\n",
       "[5 rows x 80 columns]"
      ]
     },
     "execution_count": 6,
     "metadata": {},
     "output_type": "execute_result"
    }
   ],
   "source": [
    "df_cen.head()"
   ]
  },
  {
   "cell_type": "code",
   "execution_count": 7,
   "metadata": {},
   "outputs": [
    {
     "name": "stdout",
     "output_type": "stream",
     "text": [
      "<class 'pandas.core.frame.DataFrame'>\n",
      "RangeIndex: 74001 entries, 0 to 74000\n",
      "Data columns (total 80 columns):\n",
      "GISJOIN      74001 non-null object\n",
      "YEAR         74001 non-null object\n",
      "REGIONA      0 non-null float64\n",
      "DIVISIONA    0 non-null float64\n",
      "STATE        74001 non-null object\n",
      "STATEA       74001 non-null int64\n",
      "COUNTY       74001 non-null object\n",
      "COUNTYA      74001 non-null int64\n",
      "COUSUBA      0 non-null float64\n",
      "PLACEA       0 non-null float64\n",
      "TRACTA       74001 non-null object\n",
      "BLKGRPA      0 non-null float64\n",
      "CONCITA      0 non-null float64\n",
      "AIANHHA      0 non-null float64\n",
      "RES_ONLYA    0 non-null float64\n",
      "TRUSTA       0 non-null float64\n",
      "AITSCEA      0 non-null float64\n",
      "ANRCA        0 non-null float64\n",
      "CBSAA        0 non-null float64\n",
      "CSAA         0 non-null float64\n",
      "METDIVA      0 non-null float64\n",
      "NECTAA       0 non-null float64\n",
      "CNECTAA      0 non-null float64\n",
      "NECTADIVA    0 non-null float64\n",
      "UAA          0 non-null float64\n",
      "CDCURRA      0 non-null float64\n",
      "SLDUA        0 non-null float64\n",
      "SLDLA        0 non-null float64\n",
      "ZCTA5A       0 non-null float64\n",
      "SUBMCDA      0 non-null float64\n",
      "SDELMA       0 non-null float64\n",
      "SDSECA       0 non-null float64\n",
      "SDUNIA       0 non-null float64\n",
      "PUMA5A       0 non-null float64\n",
      "BTTRA        0 non-null float64\n",
      "BTBGA        0 non-null float64\n",
      "NAME_E       74001 non-null object\n",
      "ADK5E001     74001 non-null int64\n",
      "ADK5E002     74001 non-null int64\n",
      "ADK5E003     74001 non-null int64\n",
      "ADK5E004     74001 non-null int64\n",
      "ADK5E005     74001 non-null int64\n",
      "ADK5E006     74001 non-null int64\n",
      "ADK5E007     74001 non-null int64\n",
      "ADK5E008     74001 non-null int64\n",
      "ADK5E009     74001 non-null int64\n",
      "ADK5E010     74001 non-null int64\n",
      "ADK5E011     74001 non-null int64\n",
      "ADK5E012     74001 non-null int64\n",
      "ADK5E013     74001 non-null int64\n",
      "ADK5E014     74001 non-null int64\n",
      "ADK5E015     74001 non-null int64\n",
      "ADK5E016     74001 non-null int64\n",
      "ADK5E017     74001 non-null int64\n",
      "ADK5E018     74001 non-null int64\n",
      "ADK5E019     74001 non-null int64\n",
      "ADK5E020     74001 non-null int64\n",
      "ADK5E021     74001 non-null int64\n",
      "NAME_M       74001 non-null object\n",
      "ADK5M001     74001 non-null int64\n",
      "ADK5M002     74001 non-null int64\n",
      "ADK5M003     74001 non-null int64\n",
      "ADK5M004     74001 non-null int64\n",
      "ADK5M005     74001 non-null int64\n",
      "ADK5M006     74001 non-null int64\n",
      "ADK5M007     74001 non-null int64\n",
      "ADK5M008     74001 non-null int64\n",
      "ADK5M009     74001 non-null int64\n",
      "ADK5M010     74001 non-null int64\n",
      "ADK5M011     74001 non-null int64\n",
      "ADK5M012     74001 non-null int64\n",
      "ADK5M013     74001 non-null int64\n",
      "ADK5M014     74001 non-null int64\n",
      "ADK5M015     74001 non-null int64\n",
      "ADK5M016     74001 non-null int64\n",
      "ADK5M017     74001 non-null int64\n",
      "ADK5M018     74001 non-null int64\n",
      "ADK5M019     74001 non-null int64\n",
      "ADK5M020     74001 non-null int64\n",
      "ADK5M021     74001 non-null int64\n",
      "dtypes: float64(29), int64(44), object(7)\n",
      "memory usage: 43.2+ MB\n"
     ]
    }
   ],
   "source": [
    "df_cen.info()"
   ]
  },
  {
   "cell_type": "markdown",
   "metadata": {},
   "source": [
    "### Check your column types\n",
    "\n",
    "I mentioned it above, but make sure `census_tract` is an object (a string) or merging isn't going to be any fun later on."
   ]
  },
  {
   "cell_type": "code",
   "execution_count": null,
   "metadata": {},
   "outputs": [],
   "source": []
  },
  {
   "cell_type": "markdown",
   "metadata": {},
   "source": [
    "# Engineering and cleaning up features\n",
    "\n",
    "## Income-related columns\n",
    "\n",
    "> When we plotted the number of applicants, how much money they made and the size of the loan, we found that it skewed to the left, meaning the majority of applicants were clustered on the lower end of the income and loan amount scales. This was especially true for applicants of color. **We took the logarithm transformation of income and loan amount to normalize the distribution of those variables and limit the effect of extreme outliers.**\n",
    "\n",
    "A few of the columns you'll need to calculate yourselves. **Calculate these values and assign them to three new columns.**\n",
    "\n",
    "* Applicant’s adjusted annual income (includes co-applicant income)\n",
    "* Adjusted loan amount\n",
    "* Ratio between the loan amount and the applicant’s income\n",
    "\n",
    "Instead of using the raw income and loan amount, you'll want the log of both income and loan amount. Call these new columns `log_income` and `log_loan_amount`. The third column will be `loan_income_ratio`.\n",
    "\n",
    "* **Tip:** `np.log` gives you the logarithm"
   ]
  },
  {
   "cell_type": "code",
   "execution_count": 10,
   "metadata": {},
   "outputs": [],
   "source": [
    "#Q: What does logic do and how is it adjusted?"
   ]
  },
  {
   "cell_type": "code",
   "execution_count": 8,
   "metadata": {},
   "outputs": [],
   "source": [
    "df_mor['log_income'] = np.log(df_mor.income)"
   ]
  },
  {
   "cell_type": "code",
   "execution_count": 9,
   "metadata": {},
   "outputs": [],
   "source": [
    "df_mor['log_loan_amount'] = np.log(df_mor.loan_amount)"
   ]
  },
  {
   "cell_type": "code",
   "execution_count": 10,
   "metadata": {},
   "outputs": [],
   "source": [
    "df_mor['loan_income_ratio'] = df_mor['log_income'] / df_mor['log_loan_amount']"
   ]
  },
  {
   "cell_type": "code",
   "execution_count": 11,
   "metadata": {},
   "outputs": [
    {
     "data": {
      "text/html": [
       "<div>\n",
       "<style scoped>\n",
       "    .dataframe tbody tr th:only-of-type {\n",
       "        vertical-align: middle;\n",
       "    }\n",
       "\n",
       "    .dataframe tbody tr th {\n",
       "        vertical-align: top;\n",
       "    }\n",
       "\n",
       "    .dataframe thead th {\n",
       "        text-align: right;\n",
       "    }\n",
       "</style>\n",
       "<table border=\"1\" class=\"dataframe\">\n",
       "  <thead>\n",
       "    <tr style=\"text-align: right;\">\n",
       "      <th></th>\n",
       "      <th>census_tract</th>\n",
       "      <th>county_code</th>\n",
       "      <th>state_code</th>\n",
       "      <th>applicant_sex</th>\n",
       "      <th>income</th>\n",
       "      <th>loan_amount</th>\n",
       "      <th>loan_type</th>\n",
       "      <th>property_type</th>\n",
       "      <th>occupancy</th>\n",
       "      <th>action_type</th>\n",
       "      <th>loan_purpose</th>\n",
       "      <th>agency_code</th>\n",
       "      <th>tract_to_msa_income_percent</th>\n",
       "      <th>applicant_race</th>\n",
       "      <th>co_applicant_sex</th>\n",
       "      <th>log_income</th>\n",
       "      <th>log_loan_amount</th>\n",
       "      <th>loan_income_ratio</th>\n",
       "    </tr>\n",
       "  </thead>\n",
       "  <tbody>\n",
       "    <tr>\n",
       "      <th>0</th>\n",
       "      <td>0101.00</td>\n",
       "      <td>101</td>\n",
       "      <td>42</td>\n",
       "      <td>3</td>\n",
       "      <td>26</td>\n",
       "      <td>5</td>\n",
       "      <td>1</td>\n",
       "      <td>1</td>\n",
       "      <td>1</td>\n",
       "      <td>4</td>\n",
       "      <td>2</td>\n",
       "      <td>5</td>\n",
       "      <td>97.09</td>\n",
       "      <td>6</td>\n",
       "      <td>5</td>\n",
       "      <td>3.258097</td>\n",
       "      <td>1.609438</td>\n",
       "      <td>2.024369</td>\n",
       "    </tr>\n",
       "    <tr>\n",
       "      <th>1</th>\n",
       "      <td>0264.00</td>\n",
       "      <td>101</td>\n",
       "      <td>42</td>\n",
       "      <td>2</td>\n",
       "      <td>26</td>\n",
       "      <td>40</td>\n",
       "      <td>1</td>\n",
       "      <td>1</td>\n",
       "      <td>1</td>\n",
       "      <td>4</td>\n",
       "      <td>2</td>\n",
       "      <td>5</td>\n",
       "      <td>98.27</td>\n",
       "      <td>3</td>\n",
       "      <td>5</td>\n",
       "      <td>3.258097</td>\n",
       "      <td>3.688879</td>\n",
       "      <td>0.883221</td>\n",
       "    </tr>\n",
       "    <tr>\n",
       "      <th>2</th>\n",
       "      <td>0281.00</td>\n",
       "      <td>101</td>\n",
       "      <td>42</td>\n",
       "      <td>2</td>\n",
       "      <td>22</td>\n",
       "      <td>20</td>\n",
       "      <td>1</td>\n",
       "      <td>1</td>\n",
       "      <td>1</td>\n",
       "      <td>5</td>\n",
       "      <td>2</td>\n",
       "      <td>5</td>\n",
       "      <td>72.28</td>\n",
       "      <td>6</td>\n",
       "      <td>5</td>\n",
       "      <td>3.091042</td>\n",
       "      <td>2.995732</td>\n",
       "      <td>1.031815</td>\n",
       "    </tr>\n",
       "    <tr>\n",
       "      <th>3</th>\n",
       "      <td>0158.00</td>\n",
       "      <td>101</td>\n",
       "      <td>42</td>\n",
       "      <td>2</td>\n",
       "      <td>57</td>\n",
       "      <td>36</td>\n",
       "      <td>1</td>\n",
       "      <td>1</td>\n",
       "      <td>1</td>\n",
       "      <td>5</td>\n",
       "      <td>3</td>\n",
       "      <td>5</td>\n",
       "      <td>105.87</td>\n",
       "      <td>6</td>\n",
       "      <td>5</td>\n",
       "      <td>4.043051</td>\n",
       "      <td>3.583519</td>\n",
       "      <td>1.128235</td>\n",
       "    </tr>\n",
       "    <tr>\n",
       "      <th>4</th>\n",
       "      <td>0358.00</td>\n",
       "      <td>101</td>\n",
       "      <td>42</td>\n",
       "      <td>1</td>\n",
       "      <td>80</td>\n",
       "      <td>34</td>\n",
       "      <td>1</td>\n",
       "      <td>1</td>\n",
       "      <td>1</td>\n",
       "      <td>1</td>\n",
       "      <td>3</td>\n",
       "      <td>5</td>\n",
       "      <td>139.62</td>\n",
       "      <td>5</td>\n",
       "      <td>2</td>\n",
       "      <td>4.382027</td>\n",
       "      <td>3.526361</td>\n",
       "      <td>1.242649</td>\n",
       "    </tr>\n",
       "    <tr>\n",
       "      <th>5</th>\n",
       "      <td>0027.02</td>\n",
       "      <td>101</td>\n",
       "      <td>42</td>\n",
       "      <td>3</td>\n",
       "      <td>54</td>\n",
       "      <td>70</td>\n",
       "      <td>1</td>\n",
       "      <td>1</td>\n",
       "      <td>1</td>\n",
       "      <td>5</td>\n",
       "      <td>2</td>\n",
       "      <td>5</td>\n",
       "      <td>166.23</td>\n",
       "      <td>6</td>\n",
       "      <td>5</td>\n",
       "      <td>3.988984</td>\n",
       "      <td>4.248495</td>\n",
       "      <td>0.938917</td>\n",
       "    </tr>\n",
       "    <tr>\n",
       "      <th>6</th>\n",
       "      <td>0337.02</td>\n",
       "      <td>101</td>\n",
       "      <td>42</td>\n",
       "      <td>2</td>\n",
       "      <td>137</td>\n",
       "      <td>35</td>\n",
       "      <td>1</td>\n",
       "      <td>1</td>\n",
       "      <td>1</td>\n",
       "      <td>1</td>\n",
       "      <td>2</td>\n",
       "      <td>5</td>\n",
       "      <td>120.17</td>\n",
       "      <td>6</td>\n",
       "      <td>3</td>\n",
       "      <td>4.919981</td>\n",
       "      <td>3.555348</td>\n",
       "      <td>1.383825</td>\n",
       "    </tr>\n",
       "    <tr>\n",
       "      <th>7</th>\n",
       "      <td>4105.00</td>\n",
       "      <td>45</td>\n",
       "      <td>42</td>\n",
       "      <td>2</td>\n",
       "      <td>105</td>\n",
       "      <td>30</td>\n",
       "      <td>1</td>\n",
       "      <td>1</td>\n",
       "      <td>1</td>\n",
       "      <td>4</td>\n",
       "      <td>2</td>\n",
       "      <td>5</td>\n",
       "      <td>77.54</td>\n",
       "      <td>3</td>\n",
       "      <td>5</td>\n",
       "      <td>4.653960</td>\n",
       "      <td>3.401197</td>\n",
       "      <td>1.368330</td>\n",
       "    </tr>\n",
       "    <tr>\n",
       "      <th>8</th>\n",
       "      <td>0362.02</td>\n",
       "      <td>101</td>\n",
       "      <td>42</td>\n",
       "      <td>3</td>\n",
       "      <td>72</td>\n",
       "      <td>15</td>\n",
       "      <td>1</td>\n",
       "      <td>1</td>\n",
       "      <td>1</td>\n",
       "      <td>5</td>\n",
       "      <td>2</td>\n",
       "      <td>5</td>\n",
       "      <td>148.89</td>\n",
       "      <td>6</td>\n",
       "      <td>5</td>\n",
       "      <td>4.276666</td>\n",
       "      <td>2.708050</td>\n",
       "      <td>1.579242</td>\n",
       "    </tr>\n",
       "    <tr>\n",
       "      <th>9</th>\n",
       "      <td>0197.00</td>\n",
       "      <td>101</td>\n",
       "      <td>42</td>\n",
       "      <td>3</td>\n",
       "      <td>31</td>\n",
       "      <td>30</td>\n",
       "      <td>1</td>\n",
       "      <td>1</td>\n",
       "      <td>1</td>\n",
       "      <td>5</td>\n",
       "      <td>2</td>\n",
       "      <td>5</td>\n",
       "      <td>45.85</td>\n",
       "      <td>6</td>\n",
       "      <td>5</td>\n",
       "      <td>3.433987</td>\n",
       "      <td>3.401197</td>\n",
       "      <td>1.009641</td>\n",
       "    </tr>\n",
       "  </tbody>\n",
       "</table>\n",
       "</div>"
      ],
      "text/plain": [
       "  census_tract  county_code  state_code  applicant_sex  income  loan_amount  \\\n",
       "0      0101.00          101          42              3      26            5   \n",
       "1      0264.00          101          42              2      26           40   \n",
       "2      0281.00          101          42              2      22           20   \n",
       "3      0158.00          101          42              2      57           36   \n",
       "4      0358.00          101          42              1      80           34   \n",
       "5      0027.02          101          42              3      54           70   \n",
       "6      0337.02          101          42              2     137           35   \n",
       "7      4105.00           45          42              2     105           30   \n",
       "8      0362.02          101          42              3      72           15   \n",
       "9      0197.00          101          42              3      31           30   \n",
       "\n",
       "   loan_type  property_type  occupancy  action_type  loan_purpose  \\\n",
       "0          1              1          1            4             2   \n",
       "1          1              1          1            4             2   \n",
       "2          1              1          1            5             2   \n",
       "3          1              1          1            5             3   \n",
       "4          1              1          1            1             3   \n",
       "5          1              1          1            5             2   \n",
       "6          1              1          1            1             2   \n",
       "7          1              1          1            4             2   \n",
       "8          1              1          1            5             2   \n",
       "9          1              1          1            5             2   \n",
       "\n",
       "   agency_code  tract_to_msa_income_percent  applicant_race  co_applicant_sex  \\\n",
       "0            5                        97.09               6                 5   \n",
       "1            5                        98.27               3                 5   \n",
       "2            5                        72.28               6                 5   \n",
       "3            5                       105.87               6                 5   \n",
       "4            5                       139.62               5                 2   \n",
       "5            5                       166.23               6                 5   \n",
       "6            5                       120.17               6                 3   \n",
       "7            5                        77.54               3                 5   \n",
       "8            5                       148.89               6                 5   \n",
       "9            5                        45.85               6                 5   \n",
       "\n",
       "   log_income  log_loan_amount  loan_income_ratio  \n",
       "0    3.258097         1.609438           2.024369  \n",
       "1    3.258097         3.688879           0.883221  \n",
       "2    3.091042         2.995732           1.031815  \n",
       "3    4.043051         3.583519           1.128235  \n",
       "4    4.382027         3.526361           1.242649  \n",
       "5    3.988984         4.248495           0.938917  \n",
       "6    4.919981         3.555348           1.383825  \n",
       "7    4.653960         3.401197           1.368330  \n",
       "8    4.276666         2.708050           1.579242  \n",
       "9    3.433987         3.401197           1.009641  "
      ]
     },
     "execution_count": 11,
     "metadata": {},
     "output_type": "execute_result"
    }
   ],
   "source": [
    "df_mor.head(10)"
   ]
  },
  {
   "cell_type": "markdown",
   "metadata": {},
   "source": [
    "### Co-applicants\n",
    "\n",
    "Right now we have a column about the co-applicant's sex (see the codebook for column details). We don't want the sex, though, we're interested in whether there is a co applicant or not. Use the co-applicant's sex to **create a new column called `co_applicant` that is either 'yes', 'no', or 'unknown'.**\n",
    "\n",
    "* **Hint:** If the co-applicant's sex was not provided or is not applicable, count it as unknown.\n",
    "* **Hint:** The easiest way is to use `.replace` on the co-applicant sex column, but store the result in your new column"
   ]
  },
  {
   "cell_type": "code",
   "execution_count": 12,
   "metadata": {},
   "outputs": [],
   "source": [
    "df_mor['co_applicant'] = df_mor['co_applicant_sex'].astype(str)"
   ]
  },
  {
   "cell_type": "code",
   "execution_count": 13,
   "metadata": {},
   "outputs": [],
   "source": [
    "df_mor['co_applicant'] = df_mor.co_applicant.str.replace(\"1\",\"Yes\")\n",
    "df_mor['co_applicant'] = df_mor.co_applicant.str.replace(\"2\",\"Yes\")\n",
    "df_mor['co_applicant'] = df_mor.co_applicant.str.replace(\"3\",\"Unknown\")\n",
    "df_mor['co_applicant'] = df_mor.co_applicant.str.replace(\"4\",\"Unknown\")\n",
    "df_mor['co_applicant'] = df_mor.co_applicant.str.replace(\"5\",\"No\")"
   ]
  },
  {
   "cell_type": "markdown",
   "metadata": {},
   "source": [
    "# Filter loan applicants\n",
    "\n",
    "If you read the whitepaper - `lending_disparities_whitepaper_180214.pdf` - many filters are used to get to the target dataset for analysis.\n",
    "\n",
    "> **Loan type**\n",
    ">\n",
    "> While we recognize the substantial presence of applicants of color in the FHA market, we focused on conventional home loans for several reasons.\n",
    "\n",
    "> **Property type**\n",
    ">\n",
    "> Prospective borrowers submit loan applications for various types of structures: one- to four-unit properties, multifamily properties and manufactured homes. For this analysis, we focused on one- to four-unit properties.\n",
    "\n",
    "> **Occupancy**\n",
    ">\n",
    "> We included only borrowers who said they planned to live in the house they were looking to buy. We did this to exclude developers or individuals who were buying property as an investment or to subsequently flip it.\n",
    "\n",
    "> **Action Type**\n",
    ">\n",
    "> We wanted to look at the reasons lending institutions deny people a mortgage. After conversations with former officials at HUD, we decided to include only those applications that resulted in originations (action type 1) or denials (action type 3)\n",
    "\n",
    "> **Income**\n",
    ">\n",
    "> An applicant’s income isn’t always reported in the data. In other cases, the data cuts off any incomes over \\\\$9.9 million and any loan amounts over \\\\$99.9 million, meaning there’s a value in the database, but it’s not precise. We focused only on those records where income and loan amount have an accurate estimation. This meant discarding about 1 percent of all conventional home loans in the country for 2016. [Note: I already edited this]\n",
    ">\n",
    "> When we plotted the number of applicants, how much money they made and the size of the loan, we found that it skewed to the left, meaning the majority of applicants were clustered on the lower end of the income and loan amount scales. This was especially true for applicants of color. We took the logarithm transformation of income and loan amount to normalize the distribution of those variables and limit the effect of extreme outliers.\n",
    "\n",
    "> **Lien status**\n",
    ">\n",
    "> We included all cases in our analysis regardless of lien status.\n",
    "\n",
    "> **Race and ethnicity**\n",
    ">\n",
    "> At first, we looked at race separate from ethnicity, but that approach introduced too many instances in which​ ​either the ethnicity or race was unknown. So we decided to combine race and ethnicity. Applicants who marked their ethnicity as Hispanic were grouped together as Hispanic/Latino regardless of race. Non-Hispanic applicants, as well as those who didn’t provide an ethnicity, were grouped together by race: non-Hispanic white, non-Hispanic black, etc. **[Note: This has already been taken care of]**\n",
    "\n",
    "> **Loan purpose**\n",
    ">\n",
    "> We decided to look at home purchase, home improvement and refinance loans separately from each other. [Note: please look at **home purchase** loans.]\n",
    "\n",
    "Use the text above (it's from the whitepaper) and the **2015HMDACodeSheet.pdf** code book to filter the dataset.\n",
    "\n",
    "* **Tip:** there should be between 5-8 filters, depending on how you write them."
   ]
  },
  {
   "cell_type": "code",
   "execution_count": 14,
   "metadata": {},
   "outputs": [
    {
     "data": {
      "text/plain": [
       "Index(['census_tract', 'county_code', 'state_code', 'applicant_sex', 'income',\n",
       "       'loan_amount', 'loan_type', 'property_type', 'occupancy', 'action_type',\n",
       "       'loan_purpose', 'agency_code', 'tract_to_msa_income_percent',\n",
       "       'applicant_race', 'co_applicant_sex', 'log_income', 'log_loan_amount',\n",
       "       'loan_income_ratio', 'co_applicant'],\n",
       "      dtype='object')"
      ]
     },
     "execution_count": 14,
     "metadata": {},
     "output_type": "execute_result"
    }
   ],
   "source": [
    "df_mor.columns"
   ]
  },
  {
   "cell_type": "code",
   "execution_count": 15,
   "metadata": {},
   "outputs": [],
   "source": [
    "#Loan type\n",
    "df_mor = df_mor[df_mor['loan_type'] == 1]"
   ]
  },
  {
   "cell_type": "code",
   "execution_count": 16,
   "metadata": {},
   "outputs": [],
   "source": [
    "#Property type\n",
    "df_mor = df_mor[df_mor['property_type'] == 1]"
   ]
  },
  {
   "cell_type": "code",
   "execution_count": 17,
   "metadata": {},
   "outputs": [],
   "source": [
    "#Occupancy\n",
    "df_mor = df_mor[df_mor['occupancy'] == 1]"
   ]
  },
  {
   "cell_type": "code",
   "execution_count": 18,
   "metadata": {},
   "outputs": [],
   "source": [
    "#Action Type\n",
    "df_mor = df_mor[df_mor['action_type'].isin([1, 3])]"
   ]
  },
  {
   "cell_type": "code",
   "execution_count": 19,
   "metadata": {},
   "outputs": [],
   "source": [
    "#Income\n",
    "#we've done this already"
   ]
  },
  {
   "cell_type": "code",
   "execution_count": 20,
   "metadata": {},
   "outputs": [],
   "source": [
    "#Loan purpose\n",
    "df_mor = df_mor[df_mor['loan_purpose'] == 1]"
   ]
  },
  {
   "cell_type": "code",
   "execution_count": 21,
   "metadata": {},
   "outputs": [],
   "source": [
    "df_mor2 = df_mor"
   ]
  },
  {
   "cell_type": "markdown",
   "metadata": {},
   "source": [
    "When you're done filtering, save your dataframe as a \"copy\" with `df = df.copy()` (if it's called `df`, of course). This will prevent irritating warnings when you're trying to create new columns.\n",
    "\n",
    "### Confirm that you have 10,107 loans with 19 columns"
   ]
  },
  {
   "cell_type": "code",
   "execution_count": 22,
   "metadata": {},
   "outputs": [
    {
     "data": {
      "text/plain": [
       "(10107, 19)"
      ]
     },
     "execution_count": 22,
     "metadata": {},
     "output_type": "execute_result"
    }
   ],
   "source": [
    "df_mor2.shape"
   ]
  },
  {
   "cell_type": "markdown",
   "metadata": {},
   "source": [
    "### Create a \"loan denied\" column\n",
    "\n",
    "Right now the `action_type` category reflects whether the loan was granted or not, and either has a value of `1` or `3`.\n",
    "\n",
    "Create a new column called `loan_denied`, where the value is `0` if the loan was accepted and `1` if the loan was denied. **This will be our target for the machine learning algorithm.**\n",
    "\n",
    "* **Tip:** You should have 8,878 successful loans and 1,229 denied loans"
   ]
  },
  {
   "cell_type": "code",
   "execution_count": 23,
   "metadata": {},
   "outputs": [],
   "source": [
    "df_mor2['loan_denied'] = df_mor2['action_type'].astype(str)"
   ]
  },
  {
   "cell_type": "code",
   "execution_count": 24,
   "metadata": {},
   "outputs": [],
   "source": [
    "df_mor2['loan_denied'] = df_mor2['loan_denied'].str.replace(\"1\", \"0\")\n",
    "df_mor2['loan_denied'] = df_mor2['loan_denied'].str.replace(\"3\", \"1\")"
   ]
  },
  {
   "cell_type": "code",
   "execution_count": 25,
   "metadata": {},
   "outputs": [
    {
     "data": {
      "text/plain": [
       "0    8878\n",
       "1    1229\n",
       "Name: loan_denied, dtype: int64"
      ]
     },
     "execution_count": 25,
     "metadata": {},
     "output_type": "execute_result"
    }
   ],
   "source": [
    "df_mor2.loan_denied.value_counts()"
   ]
  },
  {
   "cell_type": "markdown",
   "metadata": {},
   "source": [
    "# Deal with categorical variables\n",
    "\n",
    "Let's go ahead and take a look at our categorical variables:\n",
    "\n",
    "* Applicant sex (male, female, na)\n",
    "* Applicant race\n",
    "* Mortgage agency\n",
    "* Co-applicant (yes, no, unknown)\n",
    "\n",
    "Before we do anything crazy, let's use the codebook to turn them into strings.\n",
    "\n",
    "* **Tip:** We already did this with the `co_applicant` column, you only need to do the rest\n",
    "* **Tip:** Just use `.replace`"
   ]
  },
  {
   "cell_type": "code",
   "execution_count": 26,
   "metadata": {},
   "outputs": [],
   "source": [
    "df_mor2['applicant_sex'] = df_mor2.applicant_sex.astype(str)\n",
    "df_mor2['agency_code'] = df_mor2.agency_code.astype(str)\n",
    "df_mor2['applicant_race'] = df_mor2.applicant_race.astype(str)\n",
    "df_mor2['co_applicant'] = df_mor2.co_applicant.astype(str)\n",
    "df_mor2['co_applicant_sex'] = df_mor2.co_applicant_sex.astype(str)"
   ]
  },
  {
   "cell_type": "code",
   "execution_count": 27,
   "metadata": {},
   "outputs": [],
   "source": [
    "df_mor2['applicant_sex'] = df_mor2['applicant_sex'].str.replace(\"1\", \"Male\")\n",
    "df_mor2['applicant_sex'] = df_mor2['applicant_sex'].str.replace(\"2\", \"Female\")\n",
    "df_mor2['applicant_sex'] = df_mor2['applicant_sex'].str.replace(\"3\", \"Unknown\")"
   ]
  },
  {
   "cell_type": "code",
   "execution_count": 28,
   "metadata": {},
   "outputs": [],
   "source": [
    "df_mor2['co_applicant_sex'] = df_mor2['co_applicant_sex'].str.replace(\"1\", \"Male\")\n",
    "df_mor2['co_applicant_sex'] = df_mor2['co_applicant_sex'].str.replace(\"2\", \"Female\")\n",
    "df_mor2['co_applicant_sex'] = df_mor2['co_applicant_sex'].str.replace(\"3\", \"Unknown\")\n",
    "df_mor2['co_applicant_sex'] = df_mor2['co_applicant_sex'].str.replace(\"4\", \"Unknown\")\n",
    "df_mor2['co_applicant_sex'] = df_mor2['co_applicant_sex'].str.replace(\"5\", \"na\")"
   ]
  },
  {
   "cell_type": "code",
   "execution_count": 29,
   "metadata": {},
   "outputs": [],
   "source": [
    "df_mor2['applicant_race'] = df_mor2['applicant_race'].str.replace(\"1\", \"American Indian or Alaska Native\")\n",
    "df_mor2['applicant_race'] = df_mor2['applicant_race'].str.replace(\"2\", \"Asian\")\n",
    "df_mor2['applicant_race'] = df_mor2['applicant_race'].str.replace(\"3\", \"Black or African American\")\n",
    "df_mor2['applicant_race'] = df_mor2['applicant_race'].str.replace(\"4\", \"Native Hawaiian or Other Pacific Islander\")\n",
    "df_mor2['applicant_race'] = df_mor2['applicant_race'].str.replace(\"5\", \"White\")\n",
    "df_mor2['applicant_race'] = df_mor2['applicant_race'].str.replace(\"6\", \"Unknown\")\n",
    "df_mor2['applicant_race'] = df_mor2['applicant_race'].str.replace(\"99\", \"Hispanic and Latino\")"
   ]
  },
  {
   "cell_type": "code",
   "execution_count": 30,
   "metadata": {},
   "outputs": [],
   "source": [
    "df_mor2['agency_code'] = df_mor2['agency_code'].str.replace(\"1\", \"OCC\")\n",
    "df_mor2['agency_code'] = df_mor2['agency_code'].str.replace(\"2\", \"FRS\")\n",
    "df_mor2['agency_code'] = df_mor2['agency_code'].str.replace(\"3\", \"FDIC\")\n",
    "df_mor2['agency_code'] = df_mor2['agency_code'].str.replace(\"5\", \"NCUA\")\n",
    "df_mor2['agency_code'] = df_mor2['agency_code'].str.replace(\"7\", \"HUD\")\n",
    "df_mor2['agency_code'] = df_mor2['agency_code'].str.replace(\"9\", \"CFPB\")"
   ]
  },
  {
   "cell_type": "code",
   "execution_count": 31,
   "metadata": {},
   "outputs": [
    {
     "data": {
      "text/plain": [
       "No         6079\n",
       "Yes        3749\n",
       "Unknown     279\n",
       "Name: co_applicant, dtype: int64"
      ]
     },
     "execution_count": 31,
     "metadata": {},
     "output_type": "execute_result"
    }
   ],
   "source": [
    "df_mor2['co_applicant'].value_counts()"
   ]
  },
  {
   "cell_type": "code",
   "execution_count": 32,
   "metadata": {},
   "outputs": [
    {
     "data": {
      "text/html": [
       "<div>\n",
       "<style scoped>\n",
       "    .dataframe tbody tr th:only-of-type {\n",
       "        vertical-align: middle;\n",
       "    }\n",
       "\n",
       "    .dataframe tbody tr th {\n",
       "        vertical-align: top;\n",
       "    }\n",
       "\n",
       "    .dataframe thead th {\n",
       "        text-align: right;\n",
       "    }\n",
       "</style>\n",
       "<table border=\"1\" class=\"dataframe\">\n",
       "  <thead>\n",
       "    <tr style=\"text-align: right;\">\n",
       "      <th></th>\n",
       "      <th>applicant_sex</th>\n",
       "      <th>agency_code</th>\n",
       "      <th>applicant_race</th>\n",
       "      <th>co_applicant</th>\n",
       "    </tr>\n",
       "  </thead>\n",
       "  <tbody>\n",
       "    <tr>\n",
       "      <th>42</th>\n",
       "      <td>Female</td>\n",
       "      <td>OCC</td>\n",
       "      <td>White</td>\n",
       "      <td>No</td>\n",
       "    </tr>\n",
       "    <tr>\n",
       "      <th>43</th>\n",
       "      <td>Unknown</td>\n",
       "      <td>OCC</td>\n",
       "      <td>Unknown</td>\n",
       "      <td>Unknown</td>\n",
       "    </tr>\n",
       "    <tr>\n",
       "      <th>46</th>\n",
       "      <td>Male</td>\n",
       "      <td>OCC</td>\n",
       "      <td>White</td>\n",
       "      <td>No</td>\n",
       "    </tr>\n",
       "    <tr>\n",
       "      <th>48</th>\n",
       "      <td>Female</td>\n",
       "      <td>OCC</td>\n",
       "      <td>Asian</td>\n",
       "      <td>No</td>\n",
       "    </tr>\n",
       "    <tr>\n",
       "      <th>51</th>\n",
       "      <td>Female</td>\n",
       "      <td>OCC</td>\n",
       "      <td>Asian</td>\n",
       "      <td>No</td>\n",
       "    </tr>\n",
       "  </tbody>\n",
       "</table>\n",
       "</div>"
      ],
      "text/plain": [
       "   applicant_sex agency_code applicant_race co_applicant\n",
       "42        Female         OCC          White           No\n",
       "43       Unknown         OCC        Unknown      Unknown\n",
       "46          Male         OCC          White           No\n",
       "48        Female         OCC          Asian           No\n",
       "51        Female         OCC          Asian           No"
      ]
     },
     "execution_count": 32,
     "metadata": {},
     "output_type": "execute_result"
    }
   ],
   "source": [
    "df_mor2[['applicant_sex', 'agency_code', 'applicant_race', 'co_applicant']].head()"
   ]
  },
  {
   "cell_type": "code",
   "execution_count": 33,
   "metadata": {},
   "outputs": [
    {
     "data": {
      "text/html": [
       "<div>\n",
       "<style scoped>\n",
       "    .dataframe tbody tr th:only-of-type {\n",
       "        vertical-align: middle;\n",
       "    }\n",
       "\n",
       "    .dataframe tbody tr th {\n",
       "        vertical-align: top;\n",
       "    }\n",
       "\n",
       "    .dataframe thead th {\n",
       "        text-align: right;\n",
       "    }\n",
       "</style>\n",
       "<table border=\"1\" class=\"dataframe\">\n",
       "  <thead>\n",
       "    <tr style=\"text-align: right;\">\n",
       "      <th></th>\n",
       "      <th>census_tract</th>\n",
       "      <th>county_code</th>\n",
       "      <th>state_code</th>\n",
       "      <th>applicant_sex</th>\n",
       "      <th>income</th>\n",
       "      <th>loan_amount</th>\n",
       "      <th>loan_type</th>\n",
       "      <th>property_type</th>\n",
       "      <th>occupancy</th>\n",
       "      <th>action_type</th>\n",
       "      <th>loan_purpose</th>\n",
       "      <th>agency_code</th>\n",
       "      <th>tract_to_msa_income_percent</th>\n",
       "      <th>applicant_race</th>\n",
       "      <th>co_applicant_sex</th>\n",
       "      <th>log_income</th>\n",
       "      <th>log_loan_amount</th>\n",
       "      <th>loan_income_ratio</th>\n",
       "      <th>co_applicant</th>\n",
       "      <th>loan_denied</th>\n",
       "    </tr>\n",
       "  </thead>\n",
       "  <tbody>\n",
       "    <tr>\n",
       "      <th>42</th>\n",
       "      <td>4019.00</td>\n",
       "      <td>45</td>\n",
       "      <td>42</td>\n",
       "      <td>Female</td>\n",
       "      <td>59</td>\n",
       "      <td>112</td>\n",
       "      <td>1</td>\n",
       "      <td>1</td>\n",
       "      <td>1</td>\n",
       "      <td>1</td>\n",
       "      <td>1</td>\n",
       "      <td>OCC</td>\n",
       "      <td>133.09</td>\n",
       "      <td>White</td>\n",
       "      <td>na</td>\n",
       "      <td>4.077537</td>\n",
       "      <td>4.718499</td>\n",
       "      <td>0.864160</td>\n",
       "      <td>No</td>\n",
       "      <td>0</td>\n",
       "    </tr>\n",
       "    <tr>\n",
       "      <th>43</th>\n",
       "      <td>4099.02</td>\n",
       "      <td>45</td>\n",
       "      <td>42</td>\n",
       "      <td>Unknown</td>\n",
       "      <td>177</td>\n",
       "      <td>375</td>\n",
       "      <td>1</td>\n",
       "      <td>1</td>\n",
       "      <td>1</td>\n",
       "      <td>1</td>\n",
       "      <td>1</td>\n",
       "      <td>OCC</td>\n",
       "      <td>208.56</td>\n",
       "      <td>Unknown</td>\n",
       "      <td>Unknown</td>\n",
       "      <td>5.176150</td>\n",
       "      <td>5.926926</td>\n",
       "      <td>0.873328</td>\n",
       "      <td>Unknown</td>\n",
       "      <td>0</td>\n",
       "    </tr>\n",
       "    <tr>\n",
       "      <th>46</th>\n",
       "      <td>4102.00</td>\n",
       "      <td>45</td>\n",
       "      <td>42</td>\n",
       "      <td>Male</td>\n",
       "      <td>150</td>\n",
       "      <td>381</td>\n",
       "      <td>1</td>\n",
       "      <td>1</td>\n",
       "      <td>1</td>\n",
       "      <td>1</td>\n",
       "      <td>1</td>\n",
       "      <td>OCC</td>\n",
       "      <td>215.35</td>\n",
       "      <td>White</td>\n",
       "      <td>na</td>\n",
       "      <td>5.010635</td>\n",
       "      <td>5.942799</td>\n",
       "      <td>0.843144</td>\n",
       "      <td>No</td>\n",
       "      <td>0</td>\n",
       "    </tr>\n",
       "    <tr>\n",
       "      <th>48</th>\n",
       "      <td>0312.00</td>\n",
       "      <td>101</td>\n",
       "      <td>42</td>\n",
       "      <td>Female</td>\n",
       "      <td>65</td>\n",
       "      <td>136</td>\n",
       "      <td>1</td>\n",
       "      <td>1</td>\n",
       "      <td>1</td>\n",
       "      <td>1</td>\n",
       "      <td>1</td>\n",
       "      <td>OCC</td>\n",
       "      <td>93.11</td>\n",
       "      <td>Asian</td>\n",
       "      <td>na</td>\n",
       "      <td>4.174387</td>\n",
       "      <td>4.912655</td>\n",
       "      <td>0.849721</td>\n",
       "      <td>No</td>\n",
       "      <td>0</td>\n",
       "    </tr>\n",
       "    <tr>\n",
       "      <th>51</th>\n",
       "      <td>4036.01</td>\n",
       "      <td>45</td>\n",
       "      <td>42</td>\n",
       "      <td>Female</td>\n",
       "      <td>55</td>\n",
       "      <td>196</td>\n",
       "      <td>1</td>\n",
       "      <td>1</td>\n",
       "      <td>1</td>\n",
       "      <td>1</td>\n",
       "      <td>1</td>\n",
       "      <td>OCC</td>\n",
       "      <td>141.83</td>\n",
       "      <td>Asian</td>\n",
       "      <td>na</td>\n",
       "      <td>4.007333</td>\n",
       "      <td>5.278115</td>\n",
       "      <td>0.759236</td>\n",
       "      <td>No</td>\n",
       "      <td>0</td>\n",
       "    </tr>\n",
       "  </tbody>\n",
       "</table>\n",
       "</div>"
      ],
      "text/plain": [
       "   census_tract  county_code  state_code applicant_sex  income  loan_amount  \\\n",
       "42      4019.00           45          42        Female      59          112   \n",
       "43      4099.02           45          42       Unknown     177          375   \n",
       "46      4102.00           45          42          Male     150          381   \n",
       "48      0312.00          101          42        Female      65          136   \n",
       "51      4036.01           45          42        Female      55          196   \n",
       "\n",
       "    loan_type  property_type  occupancy  action_type  loan_purpose  \\\n",
       "42          1              1          1            1             1   \n",
       "43          1              1          1            1             1   \n",
       "46          1              1          1            1             1   \n",
       "48          1              1          1            1             1   \n",
       "51          1              1          1            1             1   \n",
       "\n",
       "   agency_code  tract_to_msa_income_percent applicant_race co_applicant_sex  \\\n",
       "42         OCC                       133.09          White               na   \n",
       "43         OCC                       208.56        Unknown          Unknown   \n",
       "46         OCC                       215.35          White               na   \n",
       "48         OCC                        93.11          Asian               na   \n",
       "51         OCC                       141.83          Asian               na   \n",
       "\n",
       "    log_income  log_loan_amount  loan_income_ratio co_applicant loan_denied  \n",
       "42    4.077537         4.718499           0.864160           No           0  \n",
       "43    5.176150         5.926926           0.873328      Unknown           0  \n",
       "46    5.010635         5.942799           0.843144           No           0  \n",
       "48    4.174387         4.912655           0.849721           No           0  \n",
       "51    4.007333         5.278115           0.759236           No           0  "
      ]
     },
     "execution_count": 33,
     "metadata": {},
     "output_type": "execute_result"
    }
   ],
   "source": [
    "df_mor2.head()"
   ]
  },
  {
   "cell_type": "markdown",
   "metadata": {},
   "source": [
    "Double-check these columns match these values in the first three rows (and yes, you should have a lot of other columns, too).\n",
    "\n",
    "|applicant_sex|agency_code|applicant_race|co_applicant|\n",
    "|---|---|---|---|\n",
    "|female|OCC|white|no|\n",
    "|na|OCC|na|unknown|\n",
    "|male|OCC|white|no|\n",
    "\n",
    "## Dummy variables\n",
    "\n",
    "Let's say we're at the end of the homework, and we have a column called `sex`, where `0` is female and `1` is male. After we've done our regression, we can look at the coefficient/odds ratio for `sex` and say something like **\"being male gives you a 1.5x odds of being denied a loan.\"**\n",
    "\n",
    "We can say this because we're looking at one column, and changing `sex` from `0` to `1` would turn the applicant male and give them a 1.5x chance of being denied (the odds ratio).\n",
    "\n",
    "**But let's say we're looking at a column called `race` instead.** We could do the same `0`/`1` thing with white/minority, but what about white/black/asian? If we try to give them `0`/`1`/`2` our coefficient/odds ratio interpreation stops working, because we don't have a nice True/False dichotomy any more, it's now a *real number*.\n",
    "\n",
    "* `0`: White\n",
    "* `1`: Black\n",
    "* `2`: Asian\n",
    "\n",
    "Usually with numbers you can say \"...for every increase of 1...\", but we can't anymore - changing from White to Black (+1) isn't the same as changing from Black to Asian (+1). And you can't subtract Black from Asian to get White. And no, you also can't average together White and Asian to get Black. Just recognize that these aren't numbers, they're categories!\n",
    "\n",
    "**How can we turn races off and on like we can turn the `sex` variable off and on?** A good option is to make *a `0`/`1` column for each race*. We can then flip each race off and on. These are called **dummy variables**."
   ]
  },
  {
   "cell_type": "code",
   "execution_count": 34,
   "metadata": {},
   "outputs": [
    {
     "data": {
      "text/html": [
       "<div>\n",
       "<style scoped>\n",
       "    .dataframe tbody tr th:only-of-type {\n",
       "        vertical-align: middle;\n",
       "    }\n",
       "\n",
       "    .dataframe tbody tr th {\n",
       "        vertical-align: top;\n",
       "    }\n",
       "\n",
       "    .dataframe thead th {\n",
       "        text-align: right;\n",
       "    }\n",
       "</style>\n",
       "<table border=\"1\" class=\"dataframe\">\n",
       "  <thead>\n",
       "    <tr style=\"text-align: right;\">\n",
       "      <th></th>\n",
       "      <th>race_American Indian or Alaska Native</th>\n",
       "      <th>race_Asian</th>\n",
       "      <th>race_Black or African American</th>\n",
       "      <th>race_Hispanic and Latino</th>\n",
       "      <th>race_Native Hawaiian or Other Pacific Islander</th>\n",
       "      <th>race_Unknown</th>\n",
       "      <th>race_White</th>\n",
       "    </tr>\n",
       "  </thead>\n",
       "  <tbody>\n",
       "    <tr>\n",
       "      <th>42</th>\n",
       "      <td>0</td>\n",
       "      <td>0</td>\n",
       "      <td>0</td>\n",
       "      <td>0</td>\n",
       "      <td>0</td>\n",
       "      <td>0</td>\n",
       "      <td>1</td>\n",
       "    </tr>\n",
       "    <tr>\n",
       "      <th>43</th>\n",
       "      <td>0</td>\n",
       "      <td>0</td>\n",
       "      <td>0</td>\n",
       "      <td>0</td>\n",
       "      <td>0</td>\n",
       "      <td>1</td>\n",
       "      <td>0</td>\n",
       "    </tr>\n",
       "    <tr>\n",
       "      <th>46</th>\n",
       "      <td>0</td>\n",
       "      <td>0</td>\n",
       "      <td>0</td>\n",
       "      <td>0</td>\n",
       "      <td>0</td>\n",
       "      <td>0</td>\n",
       "      <td>1</td>\n",
       "    </tr>\n",
       "    <tr>\n",
       "      <th>48</th>\n",
       "      <td>0</td>\n",
       "      <td>1</td>\n",
       "      <td>0</td>\n",
       "      <td>0</td>\n",
       "      <td>0</td>\n",
       "      <td>0</td>\n",
       "      <td>0</td>\n",
       "    </tr>\n",
       "    <tr>\n",
       "      <th>51</th>\n",
       "      <td>0</td>\n",
       "      <td>1</td>\n",
       "      <td>0</td>\n",
       "      <td>0</td>\n",
       "      <td>0</td>\n",
       "      <td>0</td>\n",
       "      <td>0</td>\n",
       "    </tr>\n",
       "  </tbody>\n",
       "</table>\n",
       "</div>"
      ],
      "text/plain": [
       "    race_American Indian or Alaska Native  race_Asian  \\\n",
       "42                                      0           0   \n",
       "43                                      0           0   \n",
       "46                                      0           0   \n",
       "48                                      0           1   \n",
       "51                                      0           1   \n",
       "\n",
       "    race_Black or African American  race_Hispanic and Latino  \\\n",
       "42                               0                         0   \n",
       "43                               0                         0   \n",
       "46                               0                         0   \n",
       "48                               0                         0   \n",
       "51                               0                         0   \n",
       "\n",
       "    race_Native Hawaiian or Other Pacific Islander  race_Unknown  race_White  \n",
       "42                                               0             0           1  \n",
       "43                                               0             1           0  \n",
       "46                                               0             0           1  \n",
       "48                                               0             0           0  \n",
       "51                                               0             0           0  "
      ]
     },
     "execution_count": 34,
     "metadata": {},
     "output_type": "execute_result"
    }
   ],
   "source": [
    "pd.get_dummies(df_mor2.applicant_race, prefix='race').head()"
   ]
  },
  {
   "cell_type": "code",
   "execution_count": null,
   "metadata": {},
   "outputs": [],
   "source": []
  },
  {
   "cell_type": "markdown",
   "metadata": {},
   "source": [
    "Seems to take up a lot of space, but it works a lot better.\n",
    "\n",
    "* The first person is white, so they have a `1` for white and a `0` for every other race\n",
    "* The second person is N/A, so they have a `1` for N/A and a `0` for every other race\n",
    "* The next three are white, asian, and asian, so they have a `1` under the appropriate column.\n",
    "\n",
    "When you're looking at the regression output, each column has its own coefficient (and odds ratio). Since each race now has a column, **each race will also have its own odds ratio.** Asian would have one, Black would have one, Latino would have one - now we can look at the effect of each race separately. For example, you could then say something like \"being Asian (e.g., `race_asian` going from `0` to `1`) gives you a 1.2x greater chance of being denied, and being Black gets you a 2.1x chance of being denied.\"\n",
    "\n",
    "And no, you're never going to have more than one `1` in a row at the same time.\n",
    "\n",
    "After you've created your dummy variables, there's one more step which has a real fun name: **one-hot encoding.**\n",
    "\n",
    "### One-hot encoding\n",
    "\n",
    "When we have two sexes - male and female - we can flip between them with one binary digit, `0` and `1`.\n",
    "\n",
    "If we had three races - White, Asian, Black - using `pd.get_dummies` would make three columns, which makes sense on the surface. But why can we put TWO values in ONE column for sex, and it takes THREE columns for the THREE race values?\n",
    "\n",
    "The truth is, it doesn't have to!\n",
    "\n",
    "Instead of having three columns, we're only going to have two: **asian and black**. And if both of them are `0`? The applicant is white! This is called a **reference category**, and it means **the coefficients/odds ratios for asian and black are in reference to a white applicant.** So it isn't \"being black gets you a 2.1x chance of being denied,\" it's *being black gets you a 2.1x chance of being denied compared to a white person*. For example:\n",
    "\n",
    "|race_asian|race_black|person's race|\n",
    "|---|---|---|\n",
    "|1|0|Asian|\n",
    "|0|1|Black|\n",
    "|0|0|White|\n",
    "|1|1|Not possible if your source is a single race column|\n",
    "\n",
    "To create a one-hot encoded variable with a reference category, you write code like this:"
   ]
  },
  {
   "cell_type": "code",
   "execution_count": 35,
   "metadata": {},
   "outputs": [
    {
     "data": {
      "text/html": [
       "<div>\n",
       "<style scoped>\n",
       "    .dataframe tbody tr th:only-of-type {\n",
       "        vertical-align: middle;\n",
       "    }\n",
       "\n",
       "    .dataframe tbody tr th {\n",
       "        vertical-align: top;\n",
       "    }\n",
       "\n",
       "    .dataframe thead th {\n",
       "        text-align: right;\n",
       "    }\n",
       "</style>\n",
       "<table border=\"1\" class=\"dataframe\">\n",
       "  <thead>\n",
       "    <tr style=\"text-align: right;\">\n",
       "      <th></th>\n",
       "      <th>race_American Indian or Alaska Native</th>\n",
       "      <th>race_Asian</th>\n",
       "      <th>race_Black or African American</th>\n",
       "      <th>race_Hispanic and Latino</th>\n",
       "      <th>race_Native Hawaiian or Other Pacific Islander</th>\n",
       "      <th>race_Unknown</th>\n",
       "    </tr>\n",
       "  </thead>\n",
       "  <tbody>\n",
       "    <tr>\n",
       "      <th>42</th>\n",
       "      <td>0</td>\n",
       "      <td>0</td>\n",
       "      <td>0</td>\n",
       "      <td>0</td>\n",
       "      <td>0</td>\n",
       "      <td>0</td>\n",
       "    </tr>\n",
       "    <tr>\n",
       "      <th>43</th>\n",
       "      <td>0</td>\n",
       "      <td>0</td>\n",
       "      <td>0</td>\n",
       "      <td>0</td>\n",
       "      <td>0</td>\n",
       "      <td>1</td>\n",
       "    </tr>\n",
       "    <tr>\n",
       "      <th>46</th>\n",
       "      <td>0</td>\n",
       "      <td>0</td>\n",
       "      <td>0</td>\n",
       "      <td>0</td>\n",
       "      <td>0</td>\n",
       "      <td>0</td>\n",
       "    </tr>\n",
       "    <tr>\n",
       "      <th>48</th>\n",
       "      <td>0</td>\n",
       "      <td>1</td>\n",
       "      <td>0</td>\n",
       "      <td>0</td>\n",
       "      <td>0</td>\n",
       "      <td>0</td>\n",
       "    </tr>\n",
       "    <tr>\n",
       "      <th>51</th>\n",
       "      <td>0</td>\n",
       "      <td>1</td>\n",
       "      <td>0</td>\n",
       "      <td>0</td>\n",
       "      <td>0</td>\n",
       "      <td>0</td>\n",
       "    </tr>\n",
       "  </tbody>\n",
       "</table>\n",
       "</div>"
      ],
      "text/plain": [
       "    race_American Indian or Alaska Native  race_Asian  \\\n",
       "42                                      0           0   \n",
       "43                                      0           0   \n",
       "46                                      0           0   \n",
       "48                                      0           1   \n",
       "51                                      0           1   \n",
       "\n",
       "    race_Black or African American  race_Hispanic and Latino  \\\n",
       "42                               0                         0   \n",
       "43                               0                         0   \n",
       "46                               0                         0   \n",
       "48                               0                         0   \n",
       "51                               0                         0   \n",
       "\n",
       "    race_Native Hawaiian or Other Pacific Islander  race_Unknown  \n",
       "42                                               0             0  \n",
       "43                                               0             1  \n",
       "46                                               0             0  \n",
       "48                                               0             0  \n",
       "51                                               0             0  "
      ]
     },
     "execution_count": 35,
     "metadata": {},
     "output_type": "execute_result"
    }
   ],
   "source": [
    "dummies_race = pd.get_dummies(df_mor2.applicant_race, prefix='race').drop('race_White', axis=1)\n",
    "dummies_race.head()"
   ]
  },
  {
   "cell_type": "markdown",
   "metadata": {},
   "source": [
    "> We usually use `.drop(columns=...)` to drop columns, but I'm using `axis=1` here because you should be familiar with it\n",
    "\n",
    "### Make a one-hot encoded `sex` category with `female` as the reference category\n",
    "\n",
    "You should end up with two columns: `sex_male` and `sex_na`."
   ]
  },
  {
   "cell_type": "code",
   "execution_count": 36,
   "metadata": {},
   "outputs": [
    {
     "data": {
      "text/html": [
       "<div>\n",
       "<style scoped>\n",
       "    .dataframe tbody tr th:only-of-type {\n",
       "        vertical-align: middle;\n",
       "    }\n",
       "\n",
       "    .dataframe tbody tr th {\n",
       "        vertical-align: top;\n",
       "    }\n",
       "\n",
       "    .dataframe thead th {\n",
       "        text-align: right;\n",
       "    }\n",
       "</style>\n",
       "<table border=\"1\" class=\"dataframe\">\n",
       "  <thead>\n",
       "    <tr style=\"text-align: right;\">\n",
       "      <th></th>\n",
       "      <th>sex_Male</th>\n",
       "      <th>sex_Unknown</th>\n",
       "    </tr>\n",
       "  </thead>\n",
       "  <tbody>\n",
       "    <tr>\n",
       "      <th>42</th>\n",
       "      <td>0</td>\n",
       "      <td>0</td>\n",
       "    </tr>\n",
       "    <tr>\n",
       "      <th>43</th>\n",
       "      <td>0</td>\n",
       "      <td>1</td>\n",
       "    </tr>\n",
       "    <tr>\n",
       "      <th>46</th>\n",
       "      <td>1</td>\n",
       "      <td>0</td>\n",
       "    </tr>\n",
       "    <tr>\n",
       "      <th>48</th>\n",
       "      <td>0</td>\n",
       "      <td>0</td>\n",
       "    </tr>\n",
       "    <tr>\n",
       "      <th>51</th>\n",
       "      <td>0</td>\n",
       "      <td>0</td>\n",
       "    </tr>\n",
       "  </tbody>\n",
       "</table>\n",
       "</div>"
      ],
      "text/plain": [
       "    sex_Male  sex_Unknown\n",
       "42         0            0\n",
       "43         0            1\n",
       "46         1            0\n",
       "48         0            0\n",
       "51         0            0"
      ]
     },
     "execution_count": 36,
     "metadata": {},
     "output_type": "execute_result"
    }
   ],
   "source": [
    "dummies_sex = pd.get_dummies(df_mor2.applicant_sex, prefix='sex').drop('sex_Female', axis=1)\n",
    "dummies_sex.head()"
   ]
  },
  {
   "cell_type": "code",
   "execution_count": 37,
   "metadata": {},
   "outputs": [
    {
     "data": {
      "text/html": [
       "<div>\n",
       "<style scoped>\n",
       "    .dataframe tbody tr th:only-of-type {\n",
       "        vertical-align: middle;\n",
       "    }\n",
       "\n",
       "    .dataframe tbody tr th {\n",
       "        vertical-align: top;\n",
       "    }\n",
       "\n",
       "    .dataframe thead th {\n",
       "        text-align: right;\n",
       "    }\n",
       "</style>\n",
       "<table border=\"1\" class=\"dataframe\">\n",
       "  <thead>\n",
       "    <tr style=\"text-align: right;\">\n",
       "      <th></th>\n",
       "      <th>co_Unknown</th>\n",
       "      <th>co_Yes</th>\n",
       "    </tr>\n",
       "  </thead>\n",
       "  <tbody>\n",
       "    <tr>\n",
       "      <th>42</th>\n",
       "      <td>0</td>\n",
       "      <td>0</td>\n",
       "    </tr>\n",
       "    <tr>\n",
       "      <th>43</th>\n",
       "      <td>1</td>\n",
       "      <td>0</td>\n",
       "    </tr>\n",
       "    <tr>\n",
       "      <th>46</th>\n",
       "      <td>0</td>\n",
       "      <td>0</td>\n",
       "    </tr>\n",
       "    <tr>\n",
       "      <th>48</th>\n",
       "      <td>0</td>\n",
       "      <td>0</td>\n",
       "    </tr>\n",
       "    <tr>\n",
       "      <th>51</th>\n",
       "      <td>0</td>\n",
       "      <td>0</td>\n",
       "    </tr>\n",
       "  </tbody>\n",
       "</table>\n",
       "</div>"
      ],
      "text/plain": [
       "    co_Unknown  co_Yes\n",
       "42           0       0\n",
       "43           1       0\n",
       "46           0       0\n",
       "48           0       0\n",
       "51           0       0"
      ]
     },
     "execution_count": 37,
     "metadata": {},
     "output_type": "execute_result"
    }
   ],
   "source": [
    "dummies_co_applicant = pd.get_dummies(df_mor2.co_applicant, prefix='co').drop('co_No', axis=1)\n",
    "dummies_co_applicant.head()"
   ]
  },
  {
   "cell_type": "code",
   "execution_count": 38,
   "metadata": {},
   "outputs": [
    {
     "data": {
      "text/html": [
       "<div>\n",
       "<style scoped>\n",
       "    .dataframe tbody tr th:only-of-type {\n",
       "        vertical-align: middle;\n",
       "    }\n",
       "\n",
       "    .dataframe tbody tr th {\n",
       "        vertical-align: top;\n",
       "    }\n",
       "\n",
       "    .dataframe thead th {\n",
       "        text-align: right;\n",
       "    }\n",
       "</style>\n",
       "<table border=\"1\" class=\"dataframe\">\n",
       "  <thead>\n",
       "    <tr style=\"text-align: right;\">\n",
       "      <th></th>\n",
       "      <th>agency_CFPB</th>\n",
       "      <th>agency_FRS</th>\n",
       "      <th>agency_HUD</th>\n",
       "      <th>agency_NCUA</th>\n",
       "      <th>agency_OCC</th>\n",
       "    </tr>\n",
       "  </thead>\n",
       "  <tbody>\n",
       "    <tr>\n",
       "      <th>42</th>\n",
       "      <td>0</td>\n",
       "      <td>0</td>\n",
       "      <td>0</td>\n",
       "      <td>0</td>\n",
       "      <td>1</td>\n",
       "    </tr>\n",
       "    <tr>\n",
       "      <th>43</th>\n",
       "      <td>0</td>\n",
       "      <td>0</td>\n",
       "      <td>0</td>\n",
       "      <td>0</td>\n",
       "      <td>1</td>\n",
       "    </tr>\n",
       "    <tr>\n",
       "      <th>46</th>\n",
       "      <td>0</td>\n",
       "      <td>0</td>\n",
       "      <td>0</td>\n",
       "      <td>0</td>\n",
       "      <td>1</td>\n",
       "    </tr>\n",
       "    <tr>\n",
       "      <th>48</th>\n",
       "      <td>0</td>\n",
       "      <td>0</td>\n",
       "      <td>0</td>\n",
       "      <td>0</td>\n",
       "      <td>1</td>\n",
       "    </tr>\n",
       "    <tr>\n",
       "      <th>51</th>\n",
       "      <td>0</td>\n",
       "      <td>0</td>\n",
       "      <td>0</td>\n",
       "      <td>0</td>\n",
       "      <td>1</td>\n",
       "    </tr>\n",
       "  </tbody>\n",
       "</table>\n",
       "</div>"
      ],
      "text/plain": [
       "    agency_CFPB  agency_FRS  agency_HUD  agency_NCUA  agency_OCC\n",
       "42            0           0           0            0           1\n",
       "43            0           0           0            0           1\n",
       "46            0           0           0            0           1\n",
       "48            0           0           0            0           1\n",
       "51            0           0           0            0           1"
      ]
     },
     "execution_count": 38,
     "metadata": {},
     "output_type": "execute_result"
    }
   ],
   "source": [
    "dummies_agency = pd.get_dummies(df_mor2.agency_code, prefix='agency').drop('agency_FDIC', axis=1)\n",
    "dummies_agency.head()"
   ]
  },
  {
   "cell_type": "markdown",
   "metadata": {},
   "source": [
    "## Using one-hot encoded columns\n",
    "\n",
    "Since these one-hot encoded variables are standalone dataframes, we eventually need to combine them into our original dataframe.\n",
    "\n",
    "We have four categorical variables - sex, race, co-applicant, and the loan agency - so we need you to **make four one-hot encoded variables**. Name them like this:\n",
    "\n",
    "* `dummies_sex` - reference category of white\n",
    "* `dummies_race` - reference category of female\n",
    "* `dummies_co_applicant` - reference category of no\n",
    "* `dummies_agency` - reference category of FDIC\n",
    "\n",
    "Typically your reference category is the most common category, because it makes for the most interesting comparisons.\n",
    "\n",
    "> **Tip:** if you're cutting and pasting from above, watch out for `.head()`\n",
    ">\n",
    "> **Tip:** After you've made them, use `.head(2)` to check the first couple rows of each to make sure they look okay"
   ]
  },
  {
   "cell_type": "markdown",
   "metadata": {},
   "source": [
    "## Cleaning up our old dataframe\n",
    "\n",
    "Take a look at your original dataframe real quick."
   ]
  },
  {
   "cell_type": "code",
   "execution_count": 39,
   "metadata": {},
   "outputs": [
    {
     "data": {
      "text/html": [
       "<div>\n",
       "<style scoped>\n",
       "    .dataframe tbody tr th:only-of-type {\n",
       "        vertical-align: middle;\n",
       "    }\n",
       "\n",
       "    .dataframe tbody tr th {\n",
       "        vertical-align: top;\n",
       "    }\n",
       "\n",
       "    .dataframe thead th {\n",
       "        text-align: right;\n",
       "    }\n",
       "</style>\n",
       "<table border=\"1\" class=\"dataframe\">\n",
       "  <thead>\n",
       "    <tr style=\"text-align: right;\">\n",
       "      <th></th>\n",
       "      <th>census_tract</th>\n",
       "      <th>county_code</th>\n",
       "      <th>state_code</th>\n",
       "      <th>applicant_sex</th>\n",
       "      <th>income</th>\n",
       "      <th>loan_amount</th>\n",
       "      <th>loan_type</th>\n",
       "      <th>property_type</th>\n",
       "      <th>occupancy</th>\n",
       "      <th>action_type</th>\n",
       "      <th>loan_purpose</th>\n",
       "      <th>agency_code</th>\n",
       "      <th>tract_to_msa_income_percent</th>\n",
       "      <th>applicant_race</th>\n",
       "      <th>co_applicant_sex</th>\n",
       "      <th>log_income</th>\n",
       "      <th>log_loan_amount</th>\n",
       "      <th>loan_income_ratio</th>\n",
       "      <th>co_applicant</th>\n",
       "      <th>loan_denied</th>\n",
       "    </tr>\n",
       "  </thead>\n",
       "  <tbody>\n",
       "    <tr>\n",
       "      <th>42</th>\n",
       "      <td>4019.00</td>\n",
       "      <td>45</td>\n",
       "      <td>42</td>\n",
       "      <td>Female</td>\n",
       "      <td>59</td>\n",
       "      <td>112</td>\n",
       "      <td>1</td>\n",
       "      <td>1</td>\n",
       "      <td>1</td>\n",
       "      <td>1</td>\n",
       "      <td>1</td>\n",
       "      <td>OCC</td>\n",
       "      <td>133.09</td>\n",
       "      <td>White</td>\n",
       "      <td>na</td>\n",
       "      <td>4.077537</td>\n",
       "      <td>4.718499</td>\n",
       "      <td>0.86416</td>\n",
       "      <td>No</td>\n",
       "      <td>0</td>\n",
       "    </tr>\n",
       "  </tbody>\n",
       "</table>\n",
       "</div>"
      ],
      "text/plain": [
       "   census_tract  county_code  state_code applicant_sex  income  loan_amount  \\\n",
       "42      4019.00           45          42        Female      59          112   \n",
       "\n",
       "    loan_type  property_type  occupancy  action_type  loan_purpose  \\\n",
       "42          1              1          1            1             1   \n",
       "\n",
       "   agency_code  tract_to_msa_income_percent applicant_race co_applicant_sex  \\\n",
       "42         OCC                       133.09          White               na   \n",
       "\n",
       "    log_income  log_loan_amount  loan_income_ratio co_applicant loan_denied  \n",
       "42    4.077537         4.718499            0.86416           No           0  "
      ]
     },
     "execution_count": 39,
     "metadata": {},
     "output_type": "execute_result"
    }
   ],
   "source": [
    "df_mor2.head(1)"
   ]
  },
  {
   "cell_type": "code",
   "execution_count": 43,
   "metadata": {},
   "outputs": [],
   "source": [
    "# numeric = df_mor2[['census_tract', 'county_code', 'state_code', 'applicant_sex', 'co_applicant', 'log_income', 'log_loan_amount', 'loan_income_ratio', 'applicant_race', 'loan_amount', 'agency_code']]"
   ]
  },
  {
   "cell_type": "code",
   "execution_count": 40,
   "metadata": {},
   "outputs": [],
   "source": [
    "numeric=df_mor2[['census_tract','county_code','state_code','action_type','log_income','log_loan_amount','loan_income_ratio','loan_denied']]"
   ]
  },
  {
   "cell_type": "code",
   "execution_count": 41,
   "metadata": {},
   "outputs": [
    {
     "data": {
      "text/plain": [
       "(10107, 8)"
      ]
     },
     "execution_count": 41,
     "metadata": {},
     "output_type": "execute_result"
    }
   ],
   "source": [
    "numeric.shape"
   ]
  },
  {
   "cell_type": "markdown",
   "metadata": {},
   "source": [
    "We don't need all of those columns! If we look at the list of columns we'll be using for the regression:\n",
    "\n",
    "* Race/Ethnicity\n",
    "* Sex\n",
    "* Whether there was a co-applicant\n",
    "* Applicant’s annual income (includes co-applicant income)\n",
    "* Loan amount\n",
    "* Ratio between the loan amount and the applicant’s income\n",
    "* Ratio between the median income of the census tract and the median income of the metro area\n",
    "* Racial and ethnic breakdown by percentage for each census tract\n",
    "* Regulating agency of the lending institution\n",
    "\n",
    "We can keep anything in that list, and remove everything else. For example, we can drop the variables we used to create the dummy variables, as we'll be adding the one-hot encoded versions in for the next step.\n",
    "\n",
    "For \"Racial and ethnic breakdown by percentage for each census tract\" we'll need to join with some census data later, so we need to also keep census tract, county code and state code.\n",
    "\n",
    "**Build a new dataframe with only the columns we're interested in, call it `numeric`.** We're calling it `numeric` because it's mostly numeric columns after the categorical ones have been removed.\n",
    "\n",
    "> **Tip:** You can either use `.drop(columns=` to remove unwanted columns or `df = df[['col1', 'col2', ... 'col12']]` to only select the ones you're interseted in"
   ]
  },
  {
   "cell_type": "code",
   "execution_count": 42,
   "metadata": {},
   "outputs": [
    {
     "data": {
      "text/html": [
       "<div>\n",
       "<style scoped>\n",
       "    .dataframe tbody tr th:only-of-type {\n",
       "        vertical-align: middle;\n",
       "    }\n",
       "\n",
       "    .dataframe tbody tr th {\n",
       "        vertical-align: top;\n",
       "    }\n",
       "\n",
       "    .dataframe thead th {\n",
       "        text-align: right;\n",
       "    }\n",
       "</style>\n",
       "<table border=\"1\" class=\"dataframe\">\n",
       "  <thead>\n",
       "    <tr style=\"text-align: right;\">\n",
       "      <th></th>\n",
       "      <th>census_tract</th>\n",
       "      <th>county_code</th>\n",
       "      <th>state_code</th>\n",
       "      <th>action_type</th>\n",
       "      <th>log_income</th>\n",
       "      <th>log_loan_amount</th>\n",
       "      <th>loan_income_ratio</th>\n",
       "      <th>loan_denied</th>\n",
       "    </tr>\n",
       "  </thead>\n",
       "  <tbody>\n",
       "    <tr>\n",
       "      <th>42</th>\n",
       "      <td>4019.00</td>\n",
       "      <td>45</td>\n",
       "      <td>42</td>\n",
       "      <td>1</td>\n",
       "      <td>4.077537</td>\n",
       "      <td>4.718499</td>\n",
       "      <td>0.86416</td>\n",
       "      <td>0</td>\n",
       "    </tr>\n",
       "  </tbody>\n",
       "</table>\n",
       "</div>"
      ],
      "text/plain": [
       "   census_tract  county_code  state_code  action_type  log_income  \\\n",
       "42      4019.00           45          42            1    4.077537   \n",
       "\n",
       "    log_loan_amount  loan_income_ratio loan_denied  \n",
       "42         4.718499            0.86416           0  "
      ]
     },
     "execution_count": 42,
     "metadata": {},
     "output_type": "execute_result"
    }
   ],
   "source": [
    "numeric.head(1)"
   ]
  },
  {
   "cell_type": "markdown",
   "metadata": {},
   "source": [
    "Confirm that `numeric` has 8 columns."
   ]
  },
  {
   "cell_type": "code",
   "execution_count": 43,
   "metadata": {},
   "outputs": [
    {
     "data": {
      "text/plain": [
       "(10107, 8)"
      ]
     },
     "execution_count": 43,
     "metadata": {},
     "output_type": "execute_result"
    }
   ],
   "source": [
    "numeric.shape"
   ]
  },
  {
   "cell_type": "markdown",
   "metadata": {},
   "source": [
    "### Combining our features\n",
    "\n",
    "We now have 1 dataframe of numeric features (and some merge columns), and 4 one-hot-encoded variables (each with their own dataframe). Combine all five dataframes into one large dataframe called `loan_features`."
   ]
  },
  {
   "cell_type": "code",
   "execution_count": null,
   "metadata": {},
   "outputs": [],
   "source": []
  },
  {
   "cell_type": "code",
   "execution_count": 44,
   "metadata": {},
   "outputs": [],
   "source": [
    "loan_features = numeric.merge(dummies_sex, left_index=True, right_index=True)"
   ]
  },
  {
   "cell_type": "code",
   "execution_count": 45,
   "metadata": {},
   "outputs": [],
   "source": [
    "loan_features = loan_features.merge(dummies_race, left_index=True, right_index=True)"
   ]
  },
  {
   "cell_type": "code",
   "execution_count": 46,
   "metadata": {},
   "outputs": [],
   "source": [
    "loan_features = loan_features.merge(dummies_co_applicant, left_index=True, right_index=True)"
   ]
  },
  {
   "cell_type": "code",
   "execution_count": 47,
   "metadata": {},
   "outputs": [],
   "source": [
    "loan_features = loan_features.merge(dummies_agency, left_index=True, right_index=True)"
   ]
  },
  {
   "cell_type": "code",
   "execution_count": 48,
   "metadata": {},
   "outputs": [
    {
     "data": {
      "text/html": [
       "<div>\n",
       "<style scoped>\n",
       "    .dataframe tbody tr th:only-of-type {\n",
       "        vertical-align: middle;\n",
       "    }\n",
       "\n",
       "    .dataframe tbody tr th {\n",
       "        vertical-align: top;\n",
       "    }\n",
       "\n",
       "    .dataframe thead th {\n",
       "        text-align: right;\n",
       "    }\n",
       "</style>\n",
       "<table border=\"1\" class=\"dataframe\">\n",
       "  <thead>\n",
       "    <tr style=\"text-align: right;\">\n",
       "      <th></th>\n",
       "      <th>census_tract</th>\n",
       "      <th>county_code</th>\n",
       "      <th>state_code</th>\n",
       "      <th>action_type</th>\n",
       "      <th>log_income</th>\n",
       "      <th>log_loan_amount</th>\n",
       "      <th>loan_income_ratio</th>\n",
       "      <th>loan_denied</th>\n",
       "      <th>sex_Male</th>\n",
       "      <th>sex_Unknown</th>\n",
       "      <th>...</th>\n",
       "      <th>race_Hispanic and Latino</th>\n",
       "      <th>race_Native Hawaiian or Other Pacific Islander</th>\n",
       "      <th>race_Unknown</th>\n",
       "      <th>co_Unknown</th>\n",
       "      <th>co_Yes</th>\n",
       "      <th>agency_CFPB</th>\n",
       "      <th>agency_FRS</th>\n",
       "      <th>agency_HUD</th>\n",
       "      <th>agency_NCUA</th>\n",
       "      <th>agency_OCC</th>\n",
       "    </tr>\n",
       "  </thead>\n",
       "  <tbody>\n",
       "    <tr>\n",
       "      <th>42</th>\n",
       "      <td>4019.00</td>\n",
       "      <td>45</td>\n",
       "      <td>42</td>\n",
       "      <td>1</td>\n",
       "      <td>4.077537</td>\n",
       "      <td>4.718499</td>\n",
       "      <td>0.86416</td>\n",
       "      <td>0</td>\n",
       "      <td>0</td>\n",
       "      <td>0</td>\n",
       "      <td>...</td>\n",
       "      <td>0</td>\n",
       "      <td>0</td>\n",
       "      <td>0</td>\n",
       "      <td>0</td>\n",
       "      <td>0</td>\n",
       "      <td>0</td>\n",
       "      <td>0</td>\n",
       "      <td>0</td>\n",
       "      <td>0</td>\n",
       "      <td>1</td>\n",
       "    </tr>\n",
       "  </tbody>\n",
       "</table>\n",
       "<p>1 rows × 23 columns</p>\n",
       "</div>"
      ],
      "text/plain": [
       "   census_tract  county_code  state_code  action_type  log_income  \\\n",
       "42      4019.00           45          42            1    4.077537   \n",
       "\n",
       "    log_loan_amount  loan_income_ratio loan_denied  sex_Male  sex_Unknown  \\\n",
       "42         4.718499            0.86416           0         0            0   \n",
       "\n",
       "    ...  race_Hispanic and Latino  \\\n",
       "42  ...                         0   \n",
       "\n",
       "    race_Native Hawaiian or Other Pacific Islander  race_Unknown  co_Unknown  \\\n",
       "42                                               0             0           0   \n",
       "\n",
       "    co_Yes  agency_CFPB  agency_FRS  agency_HUD  agency_NCUA  agency_OCC  \n",
       "42       0            0           0           0            0           1  \n",
       "\n",
       "[1 rows x 23 columns]"
      ]
     },
     "execution_count": 48,
     "metadata": {},
     "output_type": "execute_result"
    }
   ],
   "source": [
    "loan_features.head(1)"
   ]
  },
  {
   "cell_type": "code",
   "execution_count": 49,
   "metadata": {},
   "outputs": [
    {
     "data": {
      "text/html": [
       "<div>\n",
       "<style scoped>\n",
       "    .dataframe tbody tr th:only-of-type {\n",
       "        vertical-align: middle;\n",
       "    }\n",
       "\n",
       "    .dataframe tbody tr th {\n",
       "        vertical-align: top;\n",
       "    }\n",
       "\n",
       "    .dataframe thead th {\n",
       "        text-align: right;\n",
       "    }\n",
       "</style>\n",
       "<table border=\"1\" class=\"dataframe\">\n",
       "  <thead>\n",
       "    <tr style=\"text-align: right;\">\n",
       "      <th></th>\n",
       "      <th>census_tract</th>\n",
       "      <th>county_code</th>\n",
       "      <th>state_code</th>\n",
       "      <th>action_type</th>\n",
       "      <th>log_income</th>\n",
       "      <th>log_loan_amount</th>\n",
       "      <th>loan_income_ratio</th>\n",
       "      <th>loan_denied</th>\n",
       "    </tr>\n",
       "  </thead>\n",
       "  <tbody>\n",
       "    <tr>\n",
       "      <th>42</th>\n",
       "      <td>4019.00</td>\n",
       "      <td>45</td>\n",
       "      <td>42</td>\n",
       "      <td>1</td>\n",
       "      <td>4.077537</td>\n",
       "      <td>4.718499</td>\n",
       "      <td>0.86416</td>\n",
       "      <td>0</td>\n",
       "    </tr>\n",
       "  </tbody>\n",
       "</table>\n",
       "</div>"
      ],
      "text/plain": [
       "   census_tract  county_code  state_code  action_type  log_income  \\\n",
       "42      4019.00           45          42            1    4.077537   \n",
       "\n",
       "    log_loan_amount  loan_income_ratio loan_denied  \n",
       "42         4.718499            0.86416           0  "
      ]
     },
     "execution_count": 49,
     "metadata": {},
     "output_type": "execute_result"
    }
   ],
   "source": [
    "numeric.head(1)"
   ]
  },
  {
   "cell_type": "code",
   "execution_count": 50,
   "metadata": {},
   "outputs": [
    {
     "data": {
      "text/html": [
       "<div>\n",
       "<style scoped>\n",
       "    .dataframe tbody tr th:only-of-type {\n",
       "        vertical-align: middle;\n",
       "    }\n",
       "\n",
       "    .dataframe tbody tr th {\n",
       "        vertical-align: top;\n",
       "    }\n",
       "\n",
       "    .dataframe thead th {\n",
       "        text-align: right;\n",
       "    }\n",
       "</style>\n",
       "<table border=\"1\" class=\"dataframe\">\n",
       "  <thead>\n",
       "    <tr style=\"text-align: right;\">\n",
       "      <th></th>\n",
       "      <th>sex_Male</th>\n",
       "      <th>sex_Unknown</th>\n",
       "    </tr>\n",
       "  </thead>\n",
       "  <tbody>\n",
       "    <tr>\n",
       "      <th>42</th>\n",
       "      <td>0</td>\n",
       "      <td>0</td>\n",
       "    </tr>\n",
       "  </tbody>\n",
       "</table>\n",
       "</div>"
      ],
      "text/plain": [
       "    sex_Male  sex_Unknown\n",
       "42         0            0"
      ]
     },
     "execution_count": 50,
     "metadata": {},
     "output_type": "execute_result"
    }
   ],
   "source": [
    "dummies_sex.head(1)"
   ]
  },
  {
   "cell_type": "code",
   "execution_count": 51,
   "metadata": {},
   "outputs": [
    {
     "data": {
      "text/html": [
       "<div>\n",
       "<style scoped>\n",
       "    .dataframe tbody tr th:only-of-type {\n",
       "        vertical-align: middle;\n",
       "    }\n",
       "\n",
       "    .dataframe tbody tr th {\n",
       "        vertical-align: top;\n",
       "    }\n",
       "\n",
       "    .dataframe thead th {\n",
       "        text-align: right;\n",
       "    }\n",
       "</style>\n",
       "<table border=\"1\" class=\"dataframe\">\n",
       "  <thead>\n",
       "    <tr style=\"text-align: right;\">\n",
       "      <th></th>\n",
       "      <th>race_American Indian or Alaska Native</th>\n",
       "      <th>race_Asian</th>\n",
       "      <th>race_Black or African American</th>\n",
       "      <th>race_Hispanic and Latino</th>\n",
       "      <th>race_Native Hawaiian or Other Pacific Islander</th>\n",
       "      <th>race_Unknown</th>\n",
       "    </tr>\n",
       "  </thead>\n",
       "  <tbody>\n",
       "    <tr>\n",
       "      <th>42</th>\n",
       "      <td>0</td>\n",
       "      <td>0</td>\n",
       "      <td>0</td>\n",
       "      <td>0</td>\n",
       "      <td>0</td>\n",
       "      <td>0</td>\n",
       "    </tr>\n",
       "  </tbody>\n",
       "</table>\n",
       "</div>"
      ],
      "text/plain": [
       "    race_American Indian or Alaska Native  race_Asian  \\\n",
       "42                                      0           0   \n",
       "\n",
       "    race_Black or African American  race_Hispanic and Latino  \\\n",
       "42                               0                         0   \n",
       "\n",
       "    race_Native Hawaiian or Other Pacific Islander  race_Unknown  \n",
       "42                                               0             0  "
      ]
     },
     "execution_count": 51,
     "metadata": {},
     "output_type": "execute_result"
    }
   ],
   "source": [
    "dummies_race.head(1)"
   ]
  },
  {
   "cell_type": "code",
   "execution_count": 52,
   "metadata": {},
   "outputs": [
    {
     "data": {
      "text/html": [
       "<div>\n",
       "<style scoped>\n",
       "    .dataframe tbody tr th:only-of-type {\n",
       "        vertical-align: middle;\n",
       "    }\n",
       "\n",
       "    .dataframe tbody tr th {\n",
       "        vertical-align: top;\n",
       "    }\n",
       "\n",
       "    .dataframe thead th {\n",
       "        text-align: right;\n",
       "    }\n",
       "</style>\n",
       "<table border=\"1\" class=\"dataframe\">\n",
       "  <thead>\n",
       "    <tr style=\"text-align: right;\">\n",
       "      <th></th>\n",
       "      <th>co_Unknown</th>\n",
       "      <th>co_Yes</th>\n",
       "    </tr>\n",
       "  </thead>\n",
       "  <tbody>\n",
       "    <tr>\n",
       "      <th>42</th>\n",
       "      <td>0</td>\n",
       "      <td>0</td>\n",
       "    </tr>\n",
       "  </tbody>\n",
       "</table>\n",
       "</div>"
      ],
      "text/plain": [
       "    co_Unknown  co_Yes\n",
       "42           0       0"
      ]
     },
     "execution_count": 52,
     "metadata": {},
     "output_type": "execute_result"
    }
   ],
   "source": [
    "dummies_co_applicant.head(1)"
   ]
  },
  {
   "cell_type": "code",
   "execution_count": 53,
   "metadata": {},
   "outputs": [
    {
     "data": {
      "text/html": [
       "<div>\n",
       "<style scoped>\n",
       "    .dataframe tbody tr th:only-of-type {\n",
       "        vertical-align: middle;\n",
       "    }\n",
       "\n",
       "    .dataframe tbody tr th {\n",
       "        vertical-align: top;\n",
       "    }\n",
       "\n",
       "    .dataframe thead th {\n",
       "        text-align: right;\n",
       "    }\n",
       "</style>\n",
       "<table border=\"1\" class=\"dataframe\">\n",
       "  <thead>\n",
       "    <tr style=\"text-align: right;\">\n",
       "      <th></th>\n",
       "      <th>agency_CFPB</th>\n",
       "      <th>agency_FRS</th>\n",
       "      <th>agency_HUD</th>\n",
       "      <th>agency_NCUA</th>\n",
       "      <th>agency_OCC</th>\n",
       "    </tr>\n",
       "  </thead>\n",
       "  <tbody>\n",
       "    <tr>\n",
       "      <th>42</th>\n",
       "      <td>0</td>\n",
       "      <td>0</td>\n",
       "      <td>0</td>\n",
       "      <td>0</td>\n",
       "      <td>1</td>\n",
       "    </tr>\n",
       "  </tbody>\n",
       "</table>\n",
       "</div>"
      ],
      "text/plain": [
       "    agency_CFPB  agency_FRS  agency_HUD  agency_NCUA  agency_OCC\n",
       "42            0           0           0            0           1"
      ]
     },
     "execution_count": 53,
     "metadata": {},
     "output_type": "execute_result"
    }
   ],
   "source": [
    "dummies_agency.head(1)"
   ]
  },
  {
   "cell_type": "code",
   "execution_count": null,
   "metadata": {},
   "outputs": [],
   "source": []
  },
  {
   "cell_type": "markdown",
   "metadata": {},
   "source": [
    "Confirm that `loan_features` has 10,107 rows and 23 columns."
   ]
  },
  {
   "cell_type": "code",
   "execution_count": 54,
   "metadata": {},
   "outputs": [
    {
     "data": {
      "text/plain": [
       "(10107, 23)"
      ]
     },
     "execution_count": 54,
     "metadata": {},
     "output_type": "execute_result"
    }
   ],
   "source": [
    "loan_features.shape\n",
    "# it does not and i have no idea why"
   ]
  },
  {
   "cell_type": "markdown",
   "metadata": {},
   "source": [
    "# Census data\n",
    "\n",
    "Now we just need the final piece to the puzzle, the census data. Read in the census data file, calling the dataframe `census`.\n",
    "\n",
    "> **Tip:** As always, be sure to read the tract column in as a string. Interestingly, this time we _don't_ need to worry about the state or county codes in the same way.\n",
    ">\n",
    "> **Tip:** You're going to encounter a problem that you find every time you read in a file from the US government!"
   ]
  },
  {
   "cell_type": "code",
   "execution_count": null,
   "metadata": {},
   "outputs": [],
   "source": []
  },
  {
   "cell_type": "code",
   "execution_count": null,
   "metadata": {},
   "outputs": [],
   "source": []
  },
  {
   "cell_type": "markdown",
   "metadata": {},
   "source": [
    "## Rename some columns\n",
    "\n",
    "If you like to keep your data extra clean, feel free to rename the columns you're interested in. If not, feel free to skip it!\n",
    "\n",
    "> **Tip:** Make sure you're using the estimates columns, not the margin of error columns"
   ]
  },
  {
   "cell_type": "code",
   "execution_count": null,
   "metadata": {},
   "outputs": [],
   "source": []
  },
  {
   "cell_type": "markdown",
   "metadata": {},
   "source": [
    "## Computed columns\n",
    "\n",
    "According to Reveal's regression output, you'll want to create the following columns:\n",
    "\n",
    "* Percent Black in tract\n",
    "* Percent Hispanic/Latino in tract (I hope you know how Hispanic/Latino + census data works by now)\n",
    "* Percent Asian in tract\n",
    "* Percent Native American in tract\n",
    "* Percent Native Hawaiian in tract\n",
    "\n",
    "Notice that we don't include percent white - **because all of the other columns add up to percent white, we ignore it!** It's similar to a reference category.\n",
    "\n",
    "> If we want to use buzzwords here, the technical reason we're not using percent white is called **collinearity.** We'll talk more about it on Friday."
   ]
  },
  {
   "cell_type": "code",
   "execution_count": 55,
   "metadata": {},
   "outputs": [
    {
     "data": {
      "text/html": [
       "<div>\n",
       "<style scoped>\n",
       "    .dataframe tbody tr th:only-of-type {\n",
       "        vertical-align: middle;\n",
       "    }\n",
       "\n",
       "    .dataframe tbody tr th {\n",
       "        vertical-align: top;\n",
       "    }\n",
       "\n",
       "    .dataframe thead th {\n",
       "        text-align: right;\n",
       "    }\n",
       "</style>\n",
       "<table border=\"1\" class=\"dataframe\">\n",
       "  <thead>\n",
       "    <tr style=\"text-align: right;\">\n",
       "      <th></th>\n",
       "      <th>GISJOIN</th>\n",
       "      <th>YEAR</th>\n",
       "      <th>REGIONA</th>\n",
       "      <th>DIVISIONA</th>\n",
       "      <th>STATE</th>\n",
       "      <th>STATEA</th>\n",
       "      <th>COUNTY</th>\n",
       "      <th>COUNTYA</th>\n",
       "      <th>COUSUBA</th>\n",
       "      <th>PLACEA</th>\n",
       "      <th>...</th>\n",
       "      <th>ADK5M012</th>\n",
       "      <th>ADK5M013</th>\n",
       "      <th>ADK5M014</th>\n",
       "      <th>ADK5M015</th>\n",
       "      <th>ADK5M016</th>\n",
       "      <th>ADK5M017</th>\n",
       "      <th>ADK5M018</th>\n",
       "      <th>ADK5M019</th>\n",
       "      <th>ADK5M020</th>\n",
       "      <th>ADK5M021</th>\n",
       "    </tr>\n",
       "  </thead>\n",
       "  <tbody>\n",
       "    <tr>\n",
       "      <th>0</th>\n",
       "      <td>G0100010020100</td>\n",
       "      <td>2011-2015</td>\n",
       "      <td>NaN</td>\n",
       "      <td>NaN</td>\n",
       "      <td>Alabama</td>\n",
       "      <td>1</td>\n",
       "      <td>Autauga County</td>\n",
       "      <td>1</td>\n",
       "      <td>NaN</td>\n",
       "      <td>NaN</td>\n",
       "      <td>...</td>\n",
       "      <td>21</td>\n",
       "      <td>21</td>\n",
       "      <td>11</td>\n",
       "      <td>11</td>\n",
       "      <td>11</td>\n",
       "      <td>11</td>\n",
       "      <td>11</td>\n",
       "      <td>11</td>\n",
       "      <td>11</td>\n",
       "      <td>11</td>\n",
       "    </tr>\n",
       "  </tbody>\n",
       "</table>\n",
       "<p>1 rows × 80 columns</p>\n",
       "</div>"
      ],
      "text/plain": [
       "          GISJOIN       YEAR  REGIONA  DIVISIONA    STATE  STATEA  \\\n",
       "0  G0100010020100  2011-2015      NaN        NaN  Alabama       1   \n",
       "\n",
       "           COUNTY  COUNTYA  COUSUBA  PLACEA  ... ADK5M012  ADK5M013  ADK5M014  \\\n",
       "0  Autauga County        1      NaN     NaN  ...       21        21        11   \n",
       "\n",
       "   ADK5M015  ADK5M016  ADK5M017  ADK5M018  ADK5M019  ADK5M020  ADK5M021  \n",
       "0        11        11        11        11        11        11        11  \n",
       "\n",
       "[1 rows x 80 columns]"
      ]
     },
     "execution_count": 55,
     "metadata": {},
     "output_type": "execute_result"
    }
   ],
   "source": [
    "df_cen.head(1)"
   ]
  },
  {
   "cell_type": "code",
   "execution_count": 56,
   "metadata": {},
   "outputs": [],
   "source": [
    "# total\n",
    "#df_cen.ADK5E001\n",
    "\n",
    "# black \n",
    "df_cen['pct_black'] = (df_cen.ADK5E004 / df_cen.ADK5E001) *100\n",
    "\n",
    "# hispanic / latino\n",
    "df_cen['pct_hila'] = (df_cen.ADK5E012 / df_cen.ADK5E001) *100\n",
    "\n",
    "# asian \n",
    "df_cen['pct_asian'] = (df_cen.ADK5E006 / df_cen.ADK5E001) *100\n",
    "\n",
    "# native amarican\n",
    "df_cen['pct_nama'] = (df_cen.ADK5E005 / df_cen.ADK5E001) *100\n",
    "\n",
    "# native hawaiian\n",
    "df_cen['pct_naha'] = (df_cen.ADK5E007 / df_cen.ADK5E001) *100"
   ]
  },
  {
   "cell_type": "code",
   "execution_count": null,
   "metadata": {},
   "outputs": [],
   "source": []
  },
  {
   "cell_type": "code",
   "execution_count": null,
   "metadata": {},
   "outputs": [],
   "source": []
  },
  {
   "cell_type": "code",
   "execution_count": null,
   "metadata": {},
   "outputs": [],
   "source": []
  },
  {
   "cell_type": "code",
   "execution_count": 57,
   "metadata": {},
   "outputs": [],
   "source": [
    "census_features = df_cen[['STATEA', 'COUNTYA', 'TRACTA', 'pct_black','pct_hila', 'pct_asian', 'pct_nama', 'pct_naha']]"
   ]
  },
  {
   "cell_type": "markdown",
   "metadata": {},
   "source": [
    "## Only keep what we need to join and process\n",
    "\n",
    "We're only interested in the percentage columns that we computed. Create a new dataframe called `census_features` that is only those columns along with the one we'll need for joining with the mortgage data.\n",
    "\n",
    "> * **Tip:** Remember we saved state, county and tract codes when working on the loan data"
   ]
  },
  {
   "cell_type": "code",
   "execution_count": 58,
   "metadata": {},
   "outputs": [
    {
     "data": {
      "text/html": [
       "<div>\n",
       "<style scoped>\n",
       "    .dataframe tbody tr th:only-of-type {\n",
       "        vertical-align: middle;\n",
       "    }\n",
       "\n",
       "    .dataframe tbody tr th {\n",
       "        vertical-align: top;\n",
       "    }\n",
       "\n",
       "    .dataframe thead th {\n",
       "        text-align: right;\n",
       "    }\n",
       "</style>\n",
       "<table border=\"1\" class=\"dataframe\">\n",
       "  <thead>\n",
       "    <tr style=\"text-align: right;\">\n",
       "      <th></th>\n",
       "      <th>STATEA</th>\n",
       "      <th>COUNTYA</th>\n",
       "      <th>TRACTA</th>\n",
       "      <th>pct_black</th>\n",
       "      <th>pct_hila</th>\n",
       "      <th>pct_asian</th>\n",
       "      <th>pct_nama</th>\n",
       "      <th>pct_naha</th>\n",
       "    </tr>\n",
       "  </thead>\n",
       "  <tbody>\n",
       "    <tr>\n",
       "      <th>0</th>\n",
       "      <td>1</td>\n",
       "      <td>1</td>\n",
       "      <td>020100</td>\n",
       "      <td>7.700205</td>\n",
       "      <td>0.87269</td>\n",
       "      <td>0.616016</td>\n",
       "      <td>0.308008</td>\n",
       "      <td>0.0</td>\n",
       "    </tr>\n",
       "  </tbody>\n",
       "</table>\n",
       "</div>"
      ],
      "text/plain": [
       "   STATEA  COUNTYA  TRACTA  pct_black  pct_hila  pct_asian  pct_nama  pct_naha\n",
       "0       1        1  020100   7.700205   0.87269   0.616016  0.308008       0.0"
      ]
     },
     "execution_count": 58,
     "metadata": {},
     "output_type": "execute_result"
    }
   ],
   "source": [
    "census_features.head(1)"
   ]
  },
  {
   "cell_type": "markdown",
   "metadata": {},
   "source": [
    "Confirm that your first few rows look something like this:\n",
    "    \n",
    "|STATEA|COUNTYA|TRACTA|pct_hispanic|pct_black|pct_amer_indian|pct_asian|pct_pac_islander|\n",
    "|---|---|---|---|---|---|---|---|\n",
    "|1|1|020100|0.872690|7.700205|0.308008|0.616016|0.000000|\n",
    "|1|1|020200|0.788497|53.293135|0.000000|2.319109|0.000000|\n",
    "|1|1|020300|0.000000|18.564690|0.505391|1.381402|0.269542|\n",
    "|1|1|020400|10.490617|3.662672|1.560027|0.000000|0.000000|\n",
    "|1|1|020500|0.743287|24.844374|0.000000|3.827929|0.000000|\n",
    "\n",
    "Your column headers might be different but your numbers should match."
   ]
  },
  {
   "cell_type": "markdown",
   "metadata": {},
   "source": [
    "# Merge datasets\n",
    "\n",
    "Merge `loan_features` and `census_features` into a new dataframe called `merged`.\n",
    "\n",
    "Unfortunately something is a little different between our `loan_features` and `census_features` census tract columns. You'll need to fix it before you can merge.\n",
    "\n",
    "## Cleaning"
   ]
  },
  {
   "cell_type": "code",
   "execution_count": 59,
   "metadata": {},
   "outputs": [
    {
     "name": "stdout",
     "output_type": "stream",
     "text": [
      "<class 'pandas.core.frame.DataFrame'>\n",
      "Int64Index: 10107 entries, 42 to 60664\n",
      "Data columns (total 23 columns):\n",
      "census_tract                                      10107 non-null object\n",
      "county_code                                       10107 non-null int64\n",
      "state_code                                        10107 non-null int64\n",
      "action_type                                       10107 non-null int64\n",
      "log_income                                        10107 non-null float64\n",
      "log_loan_amount                                   10107 non-null float64\n",
      "loan_income_ratio                                 10107 non-null float64\n",
      "loan_denied                                       10107 non-null object\n",
      "sex_Male                                          10107 non-null uint8\n",
      "sex_Unknown                                       10107 non-null uint8\n",
      "race_American Indian or Alaska Native             10107 non-null uint8\n",
      "race_Asian                                        10107 non-null uint8\n",
      "race_Black or African American                    10107 non-null uint8\n",
      "race_Hispanic and Latino                          10107 non-null uint8\n",
      "race_Native Hawaiian or Other Pacific Islander    10107 non-null uint8\n",
      "race_Unknown                                      10107 non-null uint8\n",
      "co_Unknown                                        10107 non-null uint8\n",
      "co_Yes                                            10107 non-null uint8\n",
      "agency_CFPB                                       10107 non-null uint8\n",
      "agency_FRS                                        10107 non-null uint8\n",
      "agency_HUD                                        10107 non-null uint8\n",
      "agency_NCUA                                       10107 non-null uint8\n",
      "agency_OCC                                        10107 non-null uint8\n",
      "dtypes: float64(3), int64(3), object(2), uint8(15)\n",
      "memory usage: 1.0+ MB\n"
     ]
    }
   ],
   "source": [
    "loan_features.info()"
   ]
  },
  {
   "cell_type": "code",
   "execution_count": 60,
   "metadata": {},
   "outputs": [],
   "source": [
    "loan_features['census_tract'] = loan_features.census_tract.str.replace(\".\",\"\")"
   ]
  },
  {
   "cell_type": "code",
   "execution_count": 61,
   "metadata": {},
   "outputs": [
    {
     "data": {
      "text/plain": [
       "(10107, 23)"
      ]
     },
     "execution_count": 61,
     "metadata": {},
     "output_type": "execute_result"
    }
   ],
   "source": [
    "loan_features.shape"
   ]
  },
  {
   "cell_type": "code",
   "execution_count": 62,
   "metadata": {},
   "outputs": [
    {
     "data": {
      "text/html": [
       "<div>\n",
       "<style scoped>\n",
       "    .dataframe tbody tr th:only-of-type {\n",
       "        vertical-align: middle;\n",
       "    }\n",
       "\n",
       "    .dataframe tbody tr th {\n",
       "        vertical-align: top;\n",
       "    }\n",
       "\n",
       "    .dataframe thead th {\n",
       "        text-align: right;\n",
       "    }\n",
       "</style>\n",
       "<table border=\"1\" class=\"dataframe\">\n",
       "  <thead>\n",
       "    <tr style=\"text-align: right;\">\n",
       "      <th></th>\n",
       "      <th>STATEA</th>\n",
       "      <th>COUNTYA</th>\n",
       "      <th>TRACTA</th>\n",
       "      <th>pct_black</th>\n",
       "      <th>pct_hila</th>\n",
       "      <th>pct_asian</th>\n",
       "      <th>pct_nama</th>\n",
       "      <th>pct_naha</th>\n",
       "    </tr>\n",
       "  </thead>\n",
       "  <tbody>\n",
       "    <tr>\n",
       "      <th>0</th>\n",
       "      <td>1</td>\n",
       "      <td>1</td>\n",
       "      <td>020100</td>\n",
       "      <td>7.700205</td>\n",
       "      <td>0.87269</td>\n",
       "      <td>0.616016</td>\n",
       "      <td>0.308008</td>\n",
       "      <td>0.0</td>\n",
       "    </tr>\n",
       "  </tbody>\n",
       "</table>\n",
       "</div>"
      ],
      "text/plain": [
       "   STATEA  COUNTYA  TRACTA  pct_black  pct_hila  pct_asian  pct_nama  pct_naha\n",
       "0       1        1  020100   7.700205   0.87269   0.616016  0.308008       0.0"
      ]
     },
     "execution_count": 62,
     "metadata": {},
     "output_type": "execute_result"
    }
   ],
   "source": [
    "census_features.head(1)"
   ]
  },
  {
   "cell_type": "code",
   "execution_count": null,
   "metadata": {},
   "outputs": [],
   "source": []
  },
  {
   "cell_type": "code",
   "execution_count": null,
   "metadata": {},
   "outputs": [],
   "source": []
  },
  {
   "cell_type": "markdown",
   "metadata": {},
   "source": [
    "## Do the merge"
   ]
  },
  {
   "cell_type": "code",
   "execution_count": 70,
   "metadata": {
    "scrolled": true
   },
   "outputs": [],
   "source": [
    "merge = loan_features.merge(census_features, how='left', left_on=['census_tract', 'county_code', 'state_code'], right_on=['TRACTA', 'COUNTYA', 'STATEA'])"
   ]
  },
  {
   "cell_type": "code",
   "execution_count": 71,
   "metadata": {},
   "outputs": [
    {
     "data": {
      "text/plain": [
       "(10107, 31)"
      ]
     },
     "execution_count": 71,
     "metadata": {},
     "output_type": "execute_result"
    }
   ],
   "source": [
    "merge.shape"
   ]
  },
  {
   "cell_type": "markdown",
   "metadata": {},
   "source": [
    "# Our final dataframe\n",
    "\n",
    "Drop all of the columns we merged on and save it as `train_df`."
   ]
  },
  {
   "cell_type": "code",
   "execution_count": 94,
   "metadata": {},
   "outputs": [],
   "source": [
    "train_df = merge.drop(columns=['action_type','census_tract', 'county_code', 'state_code','TRACTA', 'COUNTYA', 'STATEA'])"
   ]
  },
  {
   "cell_type": "markdown",
   "metadata": {},
   "source": [
    "Confirm that `train_df` has 10107 rows and 25 columns."
   ]
  },
  {
   "cell_type": "code",
   "execution_count": 95,
   "metadata": {},
   "outputs": [
    {
     "data": {
      "text/plain": [
       "(10107, 24)"
      ]
     },
     "execution_count": 95,
     "metadata": {},
     "output_type": "execute_result"
    }
   ],
   "source": [
    "train_df.shape"
   ]
  },
  {
   "cell_type": "markdown",
   "metadata": {},
   "source": [
    "## Final cleanup\n",
    "\n",
    "Because we can't have missing data before we run a regression, check the size of `train_df`, then drop any missing data and check the size again. **Confirm you don't lose any rows.**"
   ]
  },
  {
   "cell_type": "code",
   "execution_count": 101,
   "metadata": {},
   "outputs": [
    {
     "name": "stdout",
     "output_type": "stream",
     "text": [
      "<class 'pandas.core.frame.DataFrame'>\n",
      "Int64Index: 10107 entries, 0 to 10106\n",
      "Data columns (total 24 columns):\n",
      "log_income                                        10107 non-null float64\n",
      "log_loan_amount                                   10107 non-null float64\n",
      "loan_income_ratio                                 10107 non-null float64\n",
      "loan_denied                                       10107 non-null object\n",
      "sex_Male                                          10107 non-null uint8\n",
      "sex_Unknown                                       10107 non-null uint8\n",
      "race_American Indian or Alaska Native             10107 non-null uint8\n",
      "race_Asian                                        10107 non-null uint8\n",
      "race_Black or African American                    10107 non-null uint8\n",
      "race_Hispanic and Latino                          10107 non-null uint8\n",
      "race_Native Hawaiian or Other Pacific Islander    10107 non-null uint8\n",
      "race_Unknown                                      10107 non-null uint8\n",
      "co_Unknown                                        10107 non-null uint8\n",
      "co_Yes                                            10107 non-null uint8\n",
      "agency_CFPB                                       10107 non-null uint8\n",
      "agency_FRS                                        10107 non-null uint8\n",
      "agency_HUD                                        10107 non-null uint8\n",
      "agency_NCUA                                       10107 non-null uint8\n",
      "agency_OCC                                        10107 non-null uint8\n",
      "pct_black                                         10107 non-null float64\n",
      "pct_hila                                          10107 non-null float64\n",
      "pct_asian                                         10107 non-null float64\n",
      "pct_nama                                          10107 non-null float64\n",
      "pct_naha                                          10107 non-null float64\n",
      "dtypes: float64(8), object(1), uint8(15)\n",
      "memory usage: 898.2+ KB\n"
     ]
    }
   ],
   "source": [
    "train_df.info()"
   ]
  },
  {
   "cell_type": "code",
   "execution_count": null,
   "metadata": {},
   "outputs": [],
   "source": []
  },
  {
   "cell_type": "code",
   "execution_count": 103,
   "metadata": {},
   "outputs": [],
   "source": [
    "train_df['loan_denied'] = train_df.loan_denied.astype(int)"
   ]
  },
  {
   "cell_type": "markdown",
   "metadata": {},
   "source": [
    "# Performing our regression\n",
    "\n",
    "## Try with statsmodels\n",
    "\n",
    "First try to run a linear regression with statsmodels, because even though sometimes it complains and breaks, the output just looks *so nice*. Instead of `sm.OLS` we'll use `sm.Logit`."
   ]
  },
  {
   "cell_type": "code",
   "execution_count": 104,
   "metadata": {},
   "outputs": [
    {
     "name": "stdout",
     "output_type": "stream",
     "text": [
      "<class 'pandas.core.frame.DataFrame'>\n",
      "Int64Index: 10107 entries, 0 to 10106\n",
      "Data columns (total 24 columns):\n",
      "log_income                                        10107 non-null float64\n",
      "log_loan_amount                                   10107 non-null float64\n",
      "loan_income_ratio                                 10107 non-null float64\n",
      "loan_denied                                       10107 non-null int32\n",
      "sex_Male                                          10107 non-null uint8\n",
      "sex_Unknown                                       10107 non-null uint8\n",
      "race_American Indian or Alaska Native             10107 non-null uint8\n",
      "race_Asian                                        10107 non-null uint8\n",
      "race_Black or African American                    10107 non-null uint8\n",
      "race_Hispanic and Latino                          10107 non-null uint8\n",
      "race_Native Hawaiian or Other Pacific Islander    10107 non-null uint8\n",
      "race_Unknown                                      10107 non-null uint8\n",
      "co_Unknown                                        10107 non-null uint8\n",
      "co_Yes                                            10107 non-null uint8\n",
      "agency_CFPB                                       10107 non-null uint8\n",
      "agency_FRS                                        10107 non-null uint8\n",
      "agency_HUD                                        10107 non-null uint8\n",
      "agency_NCUA                                       10107 non-null uint8\n",
      "agency_OCC                                        10107 non-null uint8\n",
      "pct_black                                         10107 non-null float64\n",
      "pct_hila                                          10107 non-null float64\n",
      "pct_asian                                         10107 non-null float64\n",
      "pct_nama                                          10107 non-null float64\n",
      "pct_naha                                          10107 non-null float64\n",
      "dtypes: float64(8), int32(1), uint8(15)\n",
      "memory usage: 898.2 KB\n"
     ]
    }
   ],
   "source": [
    "train_df.info()"
   ]
  },
  {
   "cell_type": "code",
   "execution_count": 81,
   "metadata": {},
   "outputs": [],
   "source": [
    "import statsmodels\n",
    "import statsmodels.api as sm"
   ]
  },
  {
   "cell_type": "code",
   "execution_count": 105,
   "metadata": {},
   "outputs": [
    {
     "name": "stdout",
     "output_type": "stream",
     "text": [
      "Optimization terminated successfully.\n",
      "         Current function value: 0.334540\n",
      "         Iterations 7\n"
     ]
    },
    {
     "data": {
      "text/html": [
       "<table class=\"simpletable\">\n",
       "<caption>Logit Regression Results</caption>\n",
       "<tr>\n",
       "  <th>Dep. Variable:</th>      <td>loan_denied</td>   <th>  No. Observations:  </th>   <td> 10107</td>  \n",
       "</tr>\n",
       "<tr>\n",
       "  <th>Model:</th>                 <td>Logit</td>      <th>  Df Residuals:      </th>   <td> 10084</td>  \n",
       "</tr>\n",
       "<tr>\n",
       "  <th>Method:</th>                 <td>MLE</td>       <th>  Df Model:          </th>   <td>    22</td>  \n",
       "</tr>\n",
       "<tr>\n",
       "  <th>Date:</th>            <td>Thu, 25 Jul 2019</td> <th>  Pseudo R-squ.:     </th>   <td>0.09608</td> \n",
       "</tr>\n",
       "<tr>\n",
       "  <th>Time:</th>                <td>16:26:10</td>     <th>  Log-Likelihood:    </th>  <td> -3381.2</td> \n",
       "</tr>\n",
       "<tr>\n",
       "  <th>converged:</th>             <td>True</td>       <th>  LL-Null:           </th>  <td> -3740.6</td> \n",
       "</tr>\n",
       "<tr>\n",
       "  <th>Covariance Type:</th>     <td>nonrobust</td>    <th>  LLR p-value:       </th> <td>8.425e-138</td>\n",
       "</tr>\n",
       "</table>\n",
       "<table class=\"simpletable\">\n",
       "<tr>\n",
       "                         <td></td>                           <th>coef</th>     <th>std err</th>      <th>z</th>      <th>P>|z|</th>  <th>[0.025</th>    <th>0.975]</th>  \n",
       "</tr>\n",
       "<tr>\n",
       "  <th>log_income</th>                                     <td>   -0.3181</td> <td>    0.086</td> <td>   -3.703</td> <td> 0.000</td> <td>   -0.486</td> <td>   -0.150</td>\n",
       "</tr>\n",
       "<tr>\n",
       "  <th>log_loan_amount</th>                                <td>   -0.2678</td> <td>    0.060</td> <td>   -4.481</td> <td> 0.000</td> <td>   -0.385</td> <td>   -0.151</td>\n",
       "</tr>\n",
       "<tr>\n",
       "  <th>loan_income_ratio</th>                              <td>   -0.2265</td> <td>    0.163</td> <td>   -1.387</td> <td> 0.165</td> <td>   -0.546</td> <td>    0.093</td>\n",
       "</tr>\n",
       "<tr>\n",
       "  <th>sex_Male</th>                                       <td>    0.1187</td> <td>    0.070</td> <td>    1.690</td> <td> 0.091</td> <td>   -0.019</td> <td>    0.256</td>\n",
       "</tr>\n",
       "<tr>\n",
       "  <th>sex_Unknown</th>                                    <td>   -0.1157</td> <td>    0.176</td> <td>   -0.658</td> <td> 0.510</td> <td>   -0.460</td> <td>    0.229</td>\n",
       "</tr>\n",
       "<tr>\n",
       "  <th>race_American Indian or Alaska Native</th>          <td>    1.0722</td> <td>    0.582</td> <td>    1.841</td> <td> 0.066</td> <td>   -0.069</td> <td>    2.213</td>\n",
       "</tr>\n",
       "<tr>\n",
       "  <th>race_Asian</th>                                     <td>    0.3648</td> <td>    0.104</td> <td>    3.498</td> <td> 0.000</td> <td>    0.160</td> <td>    0.569</td>\n",
       "</tr>\n",
       "<tr>\n",
       "  <th>race_Black or African American</th>                 <td>    0.7614</td> <td>    0.114</td> <td>    6.696</td> <td> 0.000</td> <td>    0.538</td> <td>    0.984</td>\n",
       "</tr>\n",
       "<tr>\n",
       "  <th>race_Hispanic and Latino</th>                       <td>    0.3300</td> <td>    0.162</td> <td>    2.034</td> <td> 0.042</td> <td>    0.012</td> <td>    0.648</td>\n",
       "</tr>\n",
       "<tr>\n",
       "  <th>race_Native Hawaiian or Other Pacific Islander</th> <td>    1.0996</td> <td>    0.463</td> <td>    2.374</td> <td> 0.018</td> <td>    0.192</td> <td>    2.008</td>\n",
       "</tr>\n",
       "<tr>\n",
       "  <th>race_Unknown</th>                                   <td>    0.4545</td> <td>    0.119</td> <td>    3.828</td> <td> 0.000</td> <td>    0.222</td> <td>    0.687</td>\n",
       "</tr>\n",
       "<tr>\n",
       "  <th>co_Unknown</th>                                     <td>    0.4269</td> <td>    0.206</td> <td>    2.076</td> <td> 0.038</td> <td>    0.024</td> <td>    0.830</td>\n",
       "</tr>\n",
       "<tr>\n",
       "  <th>co_Yes</th>                                         <td>   -0.0774</td> <td>    0.078</td> <td>   -0.997</td> <td> 0.319</td> <td>   -0.230</td> <td>    0.075</td>\n",
       "</tr>\n",
       "<tr>\n",
       "  <th>agency_CFPB</th>                                    <td>    1.1141</td> <td>    0.132</td> <td>    8.420</td> <td> 0.000</td> <td>    0.855</td> <td>    1.373</td>\n",
       "</tr>\n",
       "<tr>\n",
       "  <th>agency_FRS</th>                                     <td>   -0.0979</td> <td>    0.217</td> <td>   -0.452</td> <td> 0.651</td> <td>   -0.522</td> <td>    0.327</td>\n",
       "</tr>\n",
       "<tr>\n",
       "  <th>agency_HUD</th>                                     <td>    0.1201</td> <td>    0.136</td> <td>    0.884</td> <td> 0.377</td> <td>   -0.146</td> <td>    0.386</td>\n",
       "</tr>\n",
       "<tr>\n",
       "  <th>agency_NCUA</th>                                    <td>    1.2806</td> <td>    0.146</td> <td>    8.779</td> <td> 0.000</td> <td>    0.995</td> <td>    1.567</td>\n",
       "</tr>\n",
       "<tr>\n",
       "  <th>agency_OCC</th>                                     <td>    0.3385</td> <td>    0.198</td> <td>    1.706</td> <td> 0.088</td> <td>   -0.050</td> <td>    0.727</td>\n",
       "</tr>\n",
       "<tr>\n",
       "  <th>pct_black</th>                                      <td>    0.0040</td> <td>    0.001</td> <td>    2.914</td> <td> 0.004</td> <td>    0.001</td> <td>    0.007</td>\n",
       "</tr>\n",
       "<tr>\n",
       "  <th>pct_hila</th>                                       <td>    0.0034</td> <td>    0.003</td> <td>    1.065</td> <td> 0.287</td> <td>   -0.003</td> <td>    0.010</td>\n",
       "</tr>\n",
       "<tr>\n",
       "  <th>pct_asian</th>                                      <td>    0.0077</td> <td>    0.004</td> <td>    1.812</td> <td> 0.070</td> <td>   -0.001</td> <td>    0.016</td>\n",
       "</tr>\n",
       "<tr>\n",
       "  <th>pct_nama</th>                                       <td>   -0.2523</td> <td>    0.097</td> <td>   -2.612</td> <td> 0.009</td> <td>   -0.442</td> <td>   -0.063</td>\n",
       "</tr>\n",
       "<tr>\n",
       "  <th>pct_naha</th>                                       <td>    0.0565</td> <td>    0.158</td> <td>    0.358</td> <td> 0.720</td> <td>   -0.253</td> <td>    0.366</td>\n",
       "</tr>\n",
       "</table>"
      ],
      "text/plain": [
       "<class 'statsmodels.iolib.summary.Summary'>\n",
       "\"\"\"\n",
       "                           Logit Regression Results                           \n",
       "==============================================================================\n",
       "Dep. Variable:            loan_denied   No. Observations:                10107\n",
       "Model:                          Logit   Df Residuals:                    10084\n",
       "Method:                           MLE   Df Model:                           22\n",
       "Date:                Thu, 25 Jul 2019   Pseudo R-squ.:                 0.09608\n",
       "Time:                        16:26:10   Log-Likelihood:                -3381.2\n",
       "converged:                       True   LL-Null:                       -3740.6\n",
       "Covariance Type:            nonrobust   LLR p-value:                8.425e-138\n",
       "==================================================================================================================\n",
       "                                                     coef    std err          z      P>|z|      [0.025      0.975]\n",
       "------------------------------------------------------------------------------------------------------------------\n",
       "log_income                                        -0.3181      0.086     -3.703      0.000      -0.486      -0.150\n",
       "log_loan_amount                                   -0.2678      0.060     -4.481      0.000      -0.385      -0.151\n",
       "loan_income_ratio                                 -0.2265      0.163     -1.387      0.165      -0.546       0.093\n",
       "sex_Male                                           0.1187      0.070      1.690      0.091      -0.019       0.256\n",
       "sex_Unknown                                       -0.1157      0.176     -0.658      0.510      -0.460       0.229\n",
       "race_American Indian or Alaska Native              1.0722      0.582      1.841      0.066      -0.069       2.213\n",
       "race_Asian                                         0.3648      0.104      3.498      0.000       0.160       0.569\n",
       "race_Black or African American                     0.7614      0.114      6.696      0.000       0.538       0.984\n",
       "race_Hispanic and Latino                           0.3300      0.162      2.034      0.042       0.012       0.648\n",
       "race_Native Hawaiian or Other Pacific Islander     1.0996      0.463      2.374      0.018       0.192       2.008\n",
       "race_Unknown                                       0.4545      0.119      3.828      0.000       0.222       0.687\n",
       "co_Unknown                                         0.4269      0.206      2.076      0.038       0.024       0.830\n",
       "co_Yes                                            -0.0774      0.078     -0.997      0.319      -0.230       0.075\n",
       "agency_CFPB                                        1.1141      0.132      8.420      0.000       0.855       1.373\n",
       "agency_FRS                                        -0.0979      0.217     -0.452      0.651      -0.522       0.327\n",
       "agency_HUD                                         0.1201      0.136      0.884      0.377      -0.146       0.386\n",
       "agency_NCUA                                        1.2806      0.146      8.779      0.000       0.995       1.567\n",
       "agency_OCC                                         0.3385      0.198      1.706      0.088      -0.050       0.727\n",
       "pct_black                                          0.0040      0.001      2.914      0.004       0.001       0.007\n",
       "pct_hila                                           0.0034      0.003      1.065      0.287      -0.003       0.010\n",
       "pct_asian                                          0.0077      0.004      1.812      0.070      -0.001       0.016\n",
       "pct_nama                                          -0.2523      0.097     -2.612      0.009      -0.442      -0.063\n",
       "pct_naha                                           0.0565      0.158      0.358      0.720      -0.253       0.366\n",
       "==================================================================================================================\n",
       "\"\"\""
      ]
     },
     "execution_count": 105,
     "metadata": {},
     "output_type": "execute_result"
    }
   ],
   "source": [
    "X = train_df.drop(columns='loan_denied')\n",
    "y = train_df.loan_denied\n",
    "\n",
    "model = sm.Logit(y, X)\n",
    "result = model.fit()\n",
    "result.summary()"
   ]
  },
  {
   "cell_type": "markdown",
   "metadata": {},
   "source": [
    "## Try again with sci-kit learn\n",
    "\n",
    "But I'll be honest, I like sklearn a *lot lot lot* better. Using the coefficient to build a dataframe just seems so *nice*.\n",
    "\n",
    "> **Tip:** When you build your model, use `LogisticRegression(C=1e9, solver='lbfgs', max_iter=4000)` - for if you don't increase `max_iter` (how long/hard it works) it'll complain it can't find an answer."
   ]
  },
  {
   "cell_type": "code",
   "execution_count": 106,
   "metadata": {},
   "outputs": [
    {
     "data": {
      "text/plain": [
       "LogisticRegression(C=1000000000.0, class_weight=None, dual=False,\n",
       "                   fit_intercept=True, intercept_scaling=1, l1_ratio=None,\n",
       "                   max_iter=4000, multi_class='warn', n_jobs=None, penalty='l2',\n",
       "                   random_state=None, solver='lbfgs', tol=0.0001, verbose=0,\n",
       "                   warm_start=False)"
      ]
     },
     "execution_count": 106,
     "metadata": {},
     "output_type": "execute_result"
    }
   ],
   "source": [
    "# Every column EXCEPT whether it's suspicious\n",
    "X = train_df.drop(columns='loan_denied')\n",
    "# label is suspicious 0/1\n",
    "y = train_df.loan_denied\n",
    "\n",
    "# Build a new classifier\n",
    "# C=1e9 is a magic secret I don't want to talk about\n",
    "# If we don't say solver='lbfgs' it complains that it's the new default\n",
    "clf = LogisticRegression(C=1e9, solver='lbfgs', max_iter=4000)\n",
    "\n",
    "# Teach the classifier about the complaints we read\n",
    "clf.fit(X, y)"
   ]
  },
  {
   "cell_type": "markdown",
   "metadata": {},
   "source": [
    "### Getting your coefficients and odds ratios\n",
    "\n",
    "After you run your regression **using sklearn**, you can use code like the below to print out an ordered list of features, coefficients, and odds ratios.\n",
    "\n",
    "```python\n",
    "feature_names = X.columns\n",
    "coefficients = clf.coef_[0]\n",
    "\n",
    "pd.DataFrame({\n",
    "    'feature': feature_names,\n",
    "    'coefficient (log odds ratio)': coefficients,\n",
    "    'odds ratio': np.exp(coefficients)\n",
    "}).sort_values(by='odds ratio', ascending=False)\n",
    "```"
   ]
  },
  {
   "cell_type": "code",
   "execution_count": 108,
   "metadata": {
    "scrolled": true
   },
   "outputs": [
    {
     "data": {
      "text/html": [
       "<div>\n",
       "<style scoped>\n",
       "    .dataframe tbody tr th:only-of-type {\n",
       "        vertical-align: middle;\n",
       "    }\n",
       "\n",
       "    .dataframe tbody tr th {\n",
       "        vertical-align: top;\n",
       "    }\n",
       "\n",
       "    .dataframe thead th {\n",
       "        text-align: right;\n",
       "    }\n",
       "</style>\n",
       "<table border=\"1\" class=\"dataframe\">\n",
       "  <thead>\n",
       "    <tr style=\"text-align: right;\">\n",
       "      <th></th>\n",
       "      <th>feature</th>\n",
       "      <th>coefficient (log odds ratio)</th>\n",
       "      <th>odds ratio</th>\n",
       "    </tr>\n",
       "  </thead>\n",
       "  <tbody>\n",
       "    <tr>\n",
       "      <th>16</th>\n",
       "      <td>agency_NCUA</td>\n",
       "      <td>1.300358</td>\n",
       "      <td>3.670609</td>\n",
       "    </tr>\n",
       "    <tr>\n",
       "      <th>9</th>\n",
       "      <td>race_Native Hawaiian or Other Pacific Islander</td>\n",
       "      <td>1.155840</td>\n",
       "      <td>3.176690</td>\n",
       "    </tr>\n",
       "    <tr>\n",
       "      <th>13</th>\n",
       "      <td>agency_CFPB</td>\n",
       "      <td>1.123566</td>\n",
       "      <td>3.075802</td>\n",
       "    </tr>\n",
       "    <tr>\n",
       "      <th>5</th>\n",
       "      <td>race_American Indian or Alaska Native</td>\n",
       "      <td>0.975514</td>\n",
       "      <td>2.652531</td>\n",
       "    </tr>\n",
       "    <tr>\n",
       "      <th>7</th>\n",
       "      <td>race_Black or African American</td>\n",
       "      <td>0.768796</td>\n",
       "      <td>2.157166</td>\n",
       "    </tr>\n",
       "    <tr>\n",
       "      <th>10</th>\n",
       "      <td>race_Unknown</td>\n",
       "      <td>0.455230</td>\n",
       "      <td>1.576536</td>\n",
       "    </tr>\n",
       "    <tr>\n",
       "      <th>11</th>\n",
       "      <td>co_Unknown</td>\n",
       "      <td>0.416794</td>\n",
       "      <td>1.517089</td>\n",
       "    </tr>\n",
       "    <tr>\n",
       "      <th>6</th>\n",
       "      <td>race_Asian</td>\n",
       "      <td>0.371528</td>\n",
       "      <td>1.449949</td>\n",
       "    </tr>\n",
       "    <tr>\n",
       "      <th>17</th>\n",
       "      <td>agency_OCC</td>\n",
       "      <td>0.347756</td>\n",
       "      <td>1.415887</td>\n",
       "    </tr>\n",
       "    <tr>\n",
       "      <th>8</th>\n",
       "      <td>race_Hispanic and Latino</td>\n",
       "      <td>0.344234</td>\n",
       "      <td>1.410909</td>\n",
       "    </tr>\n",
       "    <tr>\n",
       "      <th>15</th>\n",
       "      <td>agency_HUD</td>\n",
       "      <td>0.131596</td>\n",
       "      <td>1.140647</td>\n",
       "    </tr>\n",
       "    <tr>\n",
       "      <th>3</th>\n",
       "      <td>sex_Male</td>\n",
       "      <td>0.121690</td>\n",
       "      <td>1.129404</td>\n",
       "    </tr>\n",
       "    <tr>\n",
       "      <th>22</th>\n",
       "      <td>pct_naha</td>\n",
       "      <td>0.051582</td>\n",
       "      <td>1.052936</td>\n",
       "    </tr>\n",
       "    <tr>\n",
       "      <th>20</th>\n",
       "      <td>pct_asian</td>\n",
       "      <td>0.007955</td>\n",
       "      <td>1.007987</td>\n",
       "    </tr>\n",
       "    <tr>\n",
       "      <th>18</th>\n",
       "      <td>pct_black</td>\n",
       "      <td>0.004188</td>\n",
       "      <td>1.004197</td>\n",
       "    </tr>\n",
       "    <tr>\n",
       "      <th>19</th>\n",
       "      <td>pct_hila</td>\n",
       "      <td>0.003695</td>\n",
       "      <td>1.003702</td>\n",
       "    </tr>\n",
       "    <tr>\n",
       "      <th>12</th>\n",
       "      <td>co_Yes</td>\n",
       "      <td>-0.081472</td>\n",
       "      <td>0.921758</td>\n",
       "    </tr>\n",
       "    <tr>\n",
       "      <th>14</th>\n",
       "      <td>agency_FRS</td>\n",
       "      <td>-0.088683</td>\n",
       "      <td>0.915136</td>\n",
       "    </tr>\n",
       "    <tr>\n",
       "      <th>4</th>\n",
       "      <td>sex_Unknown</td>\n",
       "      <td>-0.109492</td>\n",
       "      <td>0.896289</td>\n",
       "    </tr>\n",
       "    <tr>\n",
       "      <th>2</th>\n",
       "      <td>loan_income_ratio</td>\n",
       "      <td>-0.119391</td>\n",
       "      <td>0.887461</td>\n",
       "    </tr>\n",
       "    <tr>\n",
       "      <th>1</th>\n",
       "      <td>log_loan_amount</td>\n",
       "      <td>-0.221407</td>\n",
       "      <td>0.801391</td>\n",
       "    </tr>\n",
       "    <tr>\n",
       "      <th>21</th>\n",
       "      <td>pct_nama</td>\n",
       "      <td>-0.259075</td>\n",
       "      <td>0.771765</td>\n",
       "    </tr>\n",
       "    <tr>\n",
       "      <th>0</th>\n",
       "      <td>log_income</td>\n",
       "      <td>-0.341329</td>\n",
       "      <td>0.710825</td>\n",
       "    </tr>\n",
       "  </tbody>\n",
       "</table>\n",
       "</div>"
      ],
      "text/plain": [
       "                                           feature  \\\n",
       "16                                     agency_NCUA   \n",
       "9   race_Native Hawaiian or Other Pacific Islander   \n",
       "13                                     agency_CFPB   \n",
       "5            race_American Indian or Alaska Native   \n",
       "7                   race_Black or African American   \n",
       "10                                    race_Unknown   \n",
       "11                                      co_Unknown   \n",
       "6                                       race_Asian   \n",
       "17                                      agency_OCC   \n",
       "8                         race_Hispanic and Latino   \n",
       "15                                      agency_HUD   \n",
       "3                                         sex_Male   \n",
       "22                                        pct_naha   \n",
       "20                                       pct_asian   \n",
       "18                                       pct_black   \n",
       "19                                        pct_hila   \n",
       "12                                          co_Yes   \n",
       "14                                      agency_FRS   \n",
       "4                                      sex_Unknown   \n",
       "2                                loan_income_ratio   \n",
       "1                                  log_loan_amount   \n",
       "21                                        pct_nama   \n",
       "0                                       log_income   \n",
       "\n",
       "    coefficient (log odds ratio)  odds ratio  \n",
       "16                      1.300358    3.670609  \n",
       "9                       1.155840    3.176690  \n",
       "13                      1.123566    3.075802  \n",
       "5                       0.975514    2.652531  \n",
       "7                       0.768796    2.157166  \n",
       "10                      0.455230    1.576536  \n",
       "11                      0.416794    1.517089  \n",
       "6                       0.371528    1.449949  \n",
       "17                      0.347756    1.415887  \n",
       "8                       0.344234    1.410909  \n",
       "15                      0.131596    1.140647  \n",
       "3                       0.121690    1.129404  \n",
       "22                      0.051582    1.052936  \n",
       "20                      0.007955    1.007987  \n",
       "18                      0.004188    1.004197  \n",
       "19                      0.003695    1.003702  \n",
       "12                     -0.081472    0.921758  \n",
       "14                     -0.088683    0.915136  \n",
       "4                      -0.109492    0.896289  \n",
       "2                      -0.119391    0.887461  \n",
       "1                      -0.221407    0.801391  \n",
       "21                     -0.259075    0.771765  \n",
       "0                      -0.341329    0.710825  "
      ]
     },
     "execution_count": 108,
     "metadata": {},
     "output_type": "execute_result"
    }
   ],
   "source": [
    "feature_names = X.columns\n",
    "coefficients = clf.coef_[0]\n",
    "\n",
    "pd.DataFrame({\n",
    "    'feature': feature_names,\n",
    "    'coefficient (log odds ratio)': coefficients,\n",
    "    'odds ratio': np.exp(coefficients)\n",
    "}).sort_values(by='odds ratio', ascending=False)"
   ]
  },
  {
   "cell_type": "markdown",
   "metadata": {},
   "source": [
    "### Wait, what's the odds ratio again?\n",
    "\n",
    "It's how much that variable affects the outcome **if all other variables stay the same.**"
   ]
  },
  {
   "cell_type": "markdown",
   "metadata": {},
   "source": [
    "# Interpreting and thinking about the analysis\n",
    "\n",
    "### Question 1\n",
    "\n",
    "Our results aren't exactly the same as Reveal's, as I pulled a slightly different number of rows from the database and I'm not sure what exact dataset they used for census information. How are we feeling about this reproduction? **You might want check their 2015 results in the whitepaper.**"
   ]
  },
  {
   "cell_type": "code",
   "execution_count": null,
   "metadata": {},
   "outputs": [],
   "source": [
    "# seems ok to me"
   ]
  },
  {
   "cell_type": "markdown",
   "metadata": {},
   "source": [
    "### Question 2\n",
    "\n",
    "In the opening paragraph to the flagship piece, [Aaron and Emmanuel write](https://www.revealnews.org/article/for-people-of-color-banks-are-shutting-the-door-to-homeownership/):\n",
    "\n",
    "> Fifty years after the federal Fair Housing Act banned racial discrimination in lending, African Americans and Latinos continue to be routinely denied conventional mortgage loans at rates far higher than their white counterparts.\n",
    "\n",
    "If you look at the results, Hawaiians/Pacific Islanders (and maybe Native Americans) have an even higher odds ratio. **Why do they choose to talk about African Americans and Latinos instead?**"
   ]
  },
  {
   "cell_type": "code",
   "execution_count": null,
   "metadata": {},
   "outputs": [],
   "source": [
    "# pc there they might have a higher total number of applicants (and potential voters)"
   ]
  },
  {
   "cell_type": "markdown",
   "metadata": {},
   "source": [
    "### Question 3\n",
    "\n",
    "Write a sentence expressing the meaning of the **odds ratio** statistic for Black mortgage applicants. Find a line in [the Reveal piece](https://www.revealnews.org/article/for-people-of-color-banks-are-shutting-the-door-to-homeownership/) where they use the odds ratio."
   ]
  },
  {
   "cell_type": "code",
   "execution_count": null,
   "metadata": {},
   "outputs": [],
   "source": [
    "# the odds ratio is related to white applicants hence it would be used to compare values black to white applicants. \n",
    "# \"the likelyhood that black applicants will be denied a morgage is x times higher than for white applicatans\""
   ]
  },
  {
   "cell_type": "markdown",
   "metadata": {},
   "source": [
    "### Question 4\n",
    "\n",
    "Write a similar sentence about men."
   ]
  },
  {
   "cell_type": "code",
   "execution_count": 110,
   "metadata": {},
   "outputs": [],
   "source": [
    "# \"the likelyhood that male applicants will be denied a morgage is x times higher/lower than for female applicatans\""
   ]
  },
  {
   "cell_type": "markdown",
   "metadata": {},
   "source": [
    "### Question 5\n",
    "\n",
    "Why did Aaron and Emmanuel choose to include the loan-to-income ratio statistic? **You might want to read the whitepaper.**"
   ]
  },
  {
   "cell_type": "code",
   "execution_count": null,
   "metadata": {},
   "outputs": [],
   "source": [
    "# bc it represents socio economic correlation"
   ]
  },
  {
   "cell_type": "markdown",
   "metadata": {},
   "source": [
    "### Question 6\n",
    "\n",
    "Credit score is a common reason why loans are denied. Why are credit scores not included in our analysis? **You might want to read the whitepaper.**"
   ]
  },
  {
   "cell_type": "code",
   "execution_count": null,
   "metadata": {},
   "outputs": [],
   "source": [
    "#it was not included bc was not publiclyavailable"
   ]
  },
  {
   "cell_type": "markdown",
   "metadata": {},
   "source": [
    "### Question 7\n",
    "\n",
    "This data was just sitting out there for anyone to look at, they didn't even need to FOIA it. Why do you think this issue had not come up before Reveal's analysis?"
   ]
  },
  {
   "cell_type": "code",
   "execution_count": null,
   "metadata": {},
   "outputs": [],
   "source": [
    "# im guessing the anniversary of the federal fair housing act promted journalists to take a closer look.. maybe.."
   ]
  },
  {
   "cell_type": "markdown",
   "metadata": {},
   "source": [
    "### Question 8\n",
    "\n",
    "As a result of this series, [a lot has happened](https://www.revealnews.org/blog/we-exposed-modern-day-redlining-in-61-cities-find-out-whats-happened-since/), although [recent changes don't look so good](https://www.revealnews.org/blog/cfpb-moves-to-limit-home-loan-data/). If you were reporting this story, what groups of people would you want to talk to in order to make sure you're getting the story right?"
   ]
  },
  {
   "cell_type": "code",
   "execution_count": null,
   "metadata": {},
   "outputs": [],
   "source": [
    "# affected morgage applicants\n",
    "# credit-derivats specialitst (cds)\n",
    "# policy makers"
   ]
  },
  {
   "cell_type": "markdown",
   "metadata": {},
   "source": [
    "### Question 9\n",
    "\n",
    "When they were consulting experts, Aaron and Emmanuel received a lot of conflicting accounts about whether they should include the \"N/A\" values for race (they ended up including it). If the experts disagreed about something like that, why do you think they went forward with their analysis?"
   ]
  },
  {
   "cell_type": "code",
   "execution_count": null,
   "metadata": {},
   "outputs": [],
   "source": [
    "# in gerneal i feel just bc experts have opposing opinions it doesnt mean that an anlysis has to stop. "
   ]
  },
  {
   "cell_type": "markdown",
   "metadata": {},
   "source": [
    "### Question 10\n",
    "\n",
    "What if we were working on this story, and our logistic regression or input dataset were flawed? What would be the repercussions?"
   ]
  },
  {
   "cell_type": "code",
   "execution_count": null,
   "metadata": {},
   "outputs": [],
   "source": [
    "# When only the regression model is flawed I think it would be easy to fix. \n",
    "# When the input dataset is flawed it depends: can we still use it ore is it completely borken? "
   ]
  }
 ],
 "metadata": {
  "kernelspec": {
   "display_name": "Python 3",
   "language": "python",
   "name": "python3"
  },
  "language_info": {
   "codemirror_mode": {
    "name": "ipython",
    "version": 3
   },
   "file_extension": ".py",
   "mimetype": "text/x-python",
   "name": "python",
   "nbconvert_exporter": "python",
   "pygments_lexer": "ipython3",
   "version": "3.7.3"
  }
 },
 "nbformat": 4,
 "nbformat_minor": 2
}
